{
 "cells": [
  {
   "cell_type": "markdown",
   "metadata": {},
   "source": [
    "# CS 4820\n",
    "# Assignment 11: Time Series and Recurrent Neural Networks (RNN)"
   ]
  },
  {
   "cell_type": "markdown",
   "metadata": {},
   "source": [
    "In Tutorail 11, you successfully predicted the electric load of the next hour and now we would like to push it further. Let's see if your model (with the following changes) can predict the load __in 36 hours__ instead of the next hour.\n",
    "\n",
    "- The entire section 1 \"Time series forecasting\" should stay the same between Tutorial 11 and this assignment.\n",
    "- In section 2 \"LSTM model\" below, set the following before using the helper `function create_lagged_Xy_win` to generate new X and y pairs \n",
    "    - `start_lag=36`\n",
    "    - `window_len=72`\n",
    "- Still in section 2 \"LSTM model\" below, build an LSTM model of three layers\n",
    "    - One LSTM layer of 12 LSTM units. Set `kernel_initializer='normal'`. Also, set `return_sequences=True` since there is another LSTM layer following this one.\n",
    "    - Another LSTM layer of 6 LSTM units. Set `kernel_initializer='normal'`. No need to set `return_sequences=True` since this is the last LSTM layer.\n",
    "    - One last layer of `Dense(1)`.\n",
    "- Train, test, and evaluate your model like what you did in Tutorial 11.\n"
   ]
  },
  {
   "cell_type": "markdown",
   "metadata": {},
   "source": [
    "### 1. Time series forecasting\n",
    "\n",
    "Load and pre-process the data."
   ]
  },
  {
   "cell_type": "code",
   "execution_count": null,
   "metadata": {},
   "outputs": [],
   "source": [
    "# ..."
   ]
  },
  {
   "cell_type": "markdown",
   "metadata": {},
   "source": [
    "### 2. Long Short Term Memory (LSTM) Neural Networks Model"
   ]
  },
  {
   "cell_type": "markdown",
   "metadata": {},
   "source": [
    "#### 2.1 Rolling windows"
   ]
  },
  {
   "cell_type": "code",
   "execution_count": 1,
   "metadata": {},
   "outputs": [],
   "source": [
    "# ..."
   ]
  },
  {
   "cell_type": "markdown",
   "metadata": {},
   "source": [
    "#### 2.2 Model construction"
   ]
  },
  {
   "cell_type": "code",
   "execution_count": 2,
   "metadata": {},
   "outputs": [],
   "source": [
    "# ..."
   ]
  },
  {
   "cell_type": "markdown",
   "metadata": {},
   "source": [
    "#### 2.3 Model evaluation\n",
    "\n",
    "For your reference, the following is a small part of my predictive model to compare train and test.\n",
    "\n",
    "![LSTM 36 hours](./assets/LSTM_36_hours.png)"
   ]
  },
  {
   "cell_type": "code",
   "execution_count": 3,
   "metadata": {},
   "outputs": [],
   "source": [
    "# ..."
   ]
  }
 ],
 "metadata": {
  "kernelspec": {
   "display_name": "Python 3",
   "language": "python",
   "name": "python3"
  },
  "language_info": {
   "codemirror_mode": {
    "name": "ipython",
    "version": 3
   },
   "file_extension": ".py",
   "mimetype": "text/x-python",
   "name": "python",
   "nbconvert_exporter": "python",
   "pygments_lexer": "ipython3",
   "version": "3.7.3"
  }
 },
 "nbformat": 4,
 "nbformat_minor": 2
}
