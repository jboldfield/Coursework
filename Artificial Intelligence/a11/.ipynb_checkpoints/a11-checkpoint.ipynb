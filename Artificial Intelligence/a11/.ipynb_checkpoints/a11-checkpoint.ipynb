{
 "cells": [
  {
   "cell_type": "markdown",
   "metadata": {},
   "source": [
    "# CS 4820\n",
    "# Assignment 11: Time Series and Recurrent Neural Networks (RNN)"
   ]
  },
  {
   "cell_type": "markdown",
   "metadata": {},
   "source": [
    "In Tutorail 11, you successfully predicted the electric load of the next hour and now we would like to push it further. Let's see if your model (with the following changes) can predict the load __in 36 hours__ instead of the next hour.\n",
    "\n",
    "- The entire section 1 \"Time series forecasting\" should stay the same between Tutorial 11 and this assignment.\n",
    "- In section 2 \"LSTM model\" below, set the following before using the helper `function create_lagged_Xy_win` to generate new X and y pairs \n",
    "    - `start_lag=36`\n",
    "    - `window_len=72`\n",
    "- Still in section 2 \"LSTM model\" below, build an LSTM model of three layers\n",
    "    - One LSTM layer of 12 LSTM units. Set `kernel_initializer='normal'`. Also, set `return_sequences=True` since there is another LSTM layer following this one.\n",
    "    - Another LSTM layer of 6 LSTM units. Set `kernel_initializer='normal'`. No need to set `return_sequences=True` since this is the last LSTM layer.\n",
    "    - One last layer of `Dense(1)`.\n",
    "- Train, test, and evaluate your model like what you did in Tutorial 11.\n"
   ]
  },
  {
   "cell_type": "markdown",
   "metadata": {},
   "source": [
    "### 1. Time series forecasting\n",
    "\n",
    "Load and pre-process the data."
   ]
  },
  {
   "cell_type": "code",
   "execution_count": 2,
   "metadata": {},
   "outputs": [
    {
     "data": {
      "text/html": [
       "<div>\n",
       "<style scoped>\n",
       "    .dataframe tbody tr th:only-of-type {\n",
       "        vertical-align: middle;\n",
       "    }\n",
       "\n",
       "    .dataframe tbody tr th {\n",
       "        vertical-align: top;\n",
       "    }\n",
       "\n",
       "    .dataframe thead th {\n",
       "        text-align: right;\n",
       "    }\n",
       "</style>\n",
       "<table border=\"1\" class=\"dataframe\">\n",
       "  <thead>\n",
       "    <tr style=\"text-align: right;\">\n",
       "      <th></th>\n",
       "      <th>Date</th>\n",
       "      <th>Hour</th>\n",
       "      <th>Total Ontario</th>\n",
       "      <th>Northwest</th>\n",
       "      <th>Northeast</th>\n",
       "      <th>Ottawa</th>\n",
       "      <th>East</th>\n",
       "      <th>Toronto</th>\n",
       "      <th>Essa</th>\n",
       "      <th>Bruce</th>\n",
       "      <th>Southwest</th>\n",
       "      <th>Niagara</th>\n",
       "      <th>West</th>\n",
       "      <th>Tot Zones</th>\n",
       "      <th>diff</th>\n",
       "    </tr>\n",
       "  </thead>\n",
       "  <tbody>\n",
       "    <tr>\n",
       "      <th>0</th>\n",
       "      <td>01-May-03</td>\n",
       "      <td>1</td>\n",
       "      <td>13702</td>\n",
       "      <td>809</td>\n",
       "      <td>1284</td>\n",
       "      <td>965</td>\n",
       "      <td>765</td>\n",
       "      <td>4422</td>\n",
       "      <td>622</td>\n",
       "      <td>41</td>\n",
       "      <td>2729</td>\n",
       "      <td>617</td>\n",
       "      <td>1611</td>\n",
       "      <td>13865</td>\n",
       "      <td>163</td>\n",
       "    </tr>\n",
       "    <tr>\n",
       "      <th>1</th>\n",
       "      <td>01-May-03</td>\n",
       "      <td>2</td>\n",
       "      <td>13578</td>\n",
       "      <td>825</td>\n",
       "      <td>1283</td>\n",
       "      <td>923</td>\n",
       "      <td>752</td>\n",
       "      <td>4340</td>\n",
       "      <td>602</td>\n",
       "      <td>43</td>\n",
       "      <td>2731</td>\n",
       "      <td>615</td>\n",
       "      <td>1564</td>\n",
       "      <td>13678</td>\n",
       "      <td>100</td>\n",
       "    </tr>\n",
       "    <tr>\n",
       "      <th>2</th>\n",
       "      <td>01-May-03</td>\n",
       "      <td>3</td>\n",
       "      <td>13411</td>\n",
       "      <td>834</td>\n",
       "      <td>1277</td>\n",
       "      <td>910</td>\n",
       "      <td>751</td>\n",
       "      <td>4281</td>\n",
       "      <td>591</td>\n",
       "      <td>45</td>\n",
       "      <td>2696</td>\n",
       "      <td>596</td>\n",
       "      <td>1553</td>\n",
       "      <td>13534</td>\n",
       "      <td>123</td>\n",
       "    </tr>\n",
       "  </tbody>\n",
       "</table>\n",
       "</div>"
      ],
      "text/plain": [
       "        Date  Hour  Total Ontario  Northwest  Northeast  Ottawa  East  \\\n",
       "0  01-May-03     1          13702        809       1284     965   765   \n",
       "1  01-May-03     2          13578        825       1283     923   752   \n",
       "2  01-May-03     3          13411        834       1277     910   751   \n",
       "\n",
       "   Toronto  Essa  Bruce  Southwest  Niagara  West  Tot Zones diff  \n",
       "0     4422   622     41       2729      617  1611      13865  163  \n",
       "1     4340   602     43       2731      615  1564      13678  100  \n",
       "2     4281   591     45       2696      596  1553      13534  123  "
      ]
     },
     "execution_count": 2,
     "metadata": {},
     "output_type": "execute_result"
    },
    {
     "data": {
      "text/html": [
       "<div>\n",
       "<style scoped>\n",
       "    .dataframe tbody tr th:only-of-type {\n",
       "        vertical-align: middle;\n",
       "    }\n",
       "\n",
       "    .dataframe tbody tr th {\n",
       "        vertical-align: top;\n",
       "    }\n",
       "\n",
       "    .dataframe thead th {\n",
       "        text-align: right;\n",
       "    }\n",
       "</style>\n",
       "<table border=\"1\" class=\"dataframe\">\n",
       "  <thead>\n",
       "    <tr style=\"text-align: right;\">\n",
       "      <th></th>\n",
       "      <th>Date</th>\n",
       "      <th>Hour</th>\n",
       "      <th>Total Ontario</th>\n",
       "      <th>Northwest</th>\n",
       "      <th>Northeast</th>\n",
       "      <th>Ottawa</th>\n",
       "      <th>East</th>\n",
       "      <th>Toronto</th>\n",
       "      <th>Essa</th>\n",
       "      <th>Bruce</th>\n",
       "      <th>Southwest</th>\n",
       "      <th>Niagara</th>\n",
       "      <th>West</th>\n",
       "      <th>Tot Zones</th>\n",
       "      <th>diff</th>\n",
       "    </tr>\n",
       "  </thead>\n",
       "  <tbody>\n",
       "    <tr>\n",
       "      <th>119853</th>\n",
       "      <td>2016/12/31</td>\n",
       "      <td>22</td>\n",
       "      <td>15195</td>\n",
       "      <td>495</td>\n",
       "      <td>1476</td>\n",
       "      <td>1051</td>\n",
       "      <td>1203</td>\n",
       "      <td>5665</td>\n",
       "      <td>1045</td>\n",
       "      <td>72</td>\n",
       "      <td>2986</td>\n",
       "      <td>465</td>\n",
       "      <td>1334</td>\n",
       "      <td>15790</td>\n",
       "      <td>595</td>\n",
       "    </tr>\n",
       "    <tr>\n",
       "      <th>119854</th>\n",
       "      <td>2016/12/31</td>\n",
       "      <td>23</td>\n",
       "      <td>14758</td>\n",
       "      <td>495</td>\n",
       "      <td>1476</td>\n",
       "      <td>1051</td>\n",
       "      <td>1203</td>\n",
       "      <td>5665</td>\n",
       "      <td>1045</td>\n",
       "      <td>72</td>\n",
       "      <td>2986</td>\n",
       "      <td>465</td>\n",
       "      <td>1334</td>\n",
       "      <td>15790</td>\n",
       "      <td>1,032</td>\n",
       "    </tr>\n",
       "    <tr>\n",
       "      <th>119855</th>\n",
       "      <td>2016/12/31</td>\n",
       "      <td>24</td>\n",
       "      <td>14153</td>\n",
       "      <td>495</td>\n",
       "      <td>1476</td>\n",
       "      <td>1051</td>\n",
       "      <td>1203</td>\n",
       "      <td>5665</td>\n",
       "      <td>1045</td>\n",
       "      <td>72</td>\n",
       "      <td>2986</td>\n",
       "      <td>465</td>\n",
       "      <td>1334</td>\n",
       "      <td>15790</td>\n",
       "      <td>1,637</td>\n",
       "    </tr>\n",
       "  </tbody>\n",
       "</table>\n",
       "</div>"
      ],
      "text/plain": [
       "              Date  Hour  Total Ontario  Northwest  Northeast  Ottawa  East  \\\n",
       "119853  2016/12/31    22          15195        495       1476    1051  1203   \n",
       "119854  2016/12/31    23          14758        495       1476    1051  1203   \n",
       "119855  2016/12/31    24          14153        495       1476    1051  1203   \n",
       "\n",
       "        Toronto  Essa  Bruce  Southwest  Niagara  West  Tot Zones   diff  \n",
       "119853     5665  1045     72       2986      465  1334      15790    595  \n",
       "119854     5665  1045     72       2986      465  1334      15790  1,032  \n",
       "119855     5665  1045     72       2986      465  1334      15790  1,637  "
      ]
     },
     "execution_count": 2,
     "metadata": {},
     "output_type": "execute_result"
    }
   ],
   "source": [
    "# allow multiple outputs be displayed for each cell\n",
    "from IPython.core.interactiveshell import InteractiveShell\n",
    "InteractiveShell.ast_node_interactivity = \"all\"\n",
    "\n",
    "import pandas as pd\n",
    "import matplotlib.pyplot as plt\n",
    "import numpy as np\n",
    "\n",
    "# Local Jupyter Notebook\n",
    "fname = './data/ZonalDemands_2003-2016.csv.bz2'\n",
    "\n",
    "df = pd.read_csv(fname, compression='bz2',\n",
    "                 engine='python')\n",
    "\n",
    "df.head(3)\n",
    "df.tail(3)"
   ]
  },
  {
   "cell_type": "markdown",
   "metadata": {},
   "source": [
    "### 2. Long Short Term Memory (LSTM) Neural Networks Model"
   ]
  },
  {
   "cell_type": "markdown",
   "metadata": {},
   "source": [
    "#### 2.1 Rolling windows"
   ]
  },
  {
   "cell_type": "code",
   "execution_count": 1,
   "metadata": {},
   "outputs": [],
   "source": [
    "# ..."
   ]
  },
  {
   "cell_type": "markdown",
   "metadata": {},
   "source": [
    "#### 2.2 Model construction"
   ]
  },
  {
   "cell_type": "code",
   "execution_count": 2,
   "metadata": {},
   "outputs": [],
   "source": [
    "# ..."
   ]
  },
  {
   "cell_type": "markdown",
   "metadata": {},
   "source": [
    "#### 2.3 Model evaluation\n",
    "\n",
    "For your reference, the following is a small part of my predictive model to compare train and test.\n",
    "\n",
    "![LSTM 36 hours](./assets/LSTM_36_hours.png)"
   ]
  },
  {
   "cell_type": "code",
   "execution_count": 3,
   "metadata": {},
   "outputs": [],
   "source": [
    "# ..."
   ]
  }
 ],
 "metadata": {
  "kernelspec": {
   "display_name": "Python 3",
   "language": "python",
   "name": "python3"
  },
  "language_info": {
   "codemirror_mode": {
    "name": "ipython",
    "version": 3
   },
   "file_extension": ".py",
   "mimetype": "text/x-python",
   "name": "python",
   "nbconvert_exporter": "python",
   "pygments_lexer": "ipython3",
   "version": "3.7.4"
  }
 },
 "nbformat": 4,
 "nbformat_minor": 2
}
