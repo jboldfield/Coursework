{
 "cells": [
  {
   "cell_type": "markdown",
   "metadata": {},
   "source": [
    "# CS 4820\n",
    "# Assignment 11: Time Series and Recurrent Neural Networks (RNN)"
   ]
  },
  {
   "cell_type": "markdown",
   "metadata": {},
   "source": [
    "In Tutorail 11, you successfully predicted the electric load of the next hour and now we would like to push it further. Let's see if your model (with the following changes) can predict the load __in 36 hours__ instead of the next hour.\n",
    "\n",
    "- The entire section 1 \"Time series forecasting\" should stay the same between Tutorial 11 and this assignment.\n",
    "- In section 2 \"LSTM model\" below, set the following before using the helper `function create_lagged_Xy_win` to generate new X and y pairs \n",
    "    - `start_lag=36`\n",
    "    - `window_len=72`\n",
    "- Still in section 2 \"LSTM model\" below, build an LSTM model of three layers\n",
    "    - One LSTM layer of 12 LSTM units. Set `kernel_initializer='normal'`. Also, set `return_sequences=True` since there is another LSTM layer following this one.\n",
    "    - Another LSTM layer of 6 LSTM units. Set `kernel_initializer='normal'`. No need to set `return_sequences=True` since this is the last LSTM layer.\n",
    "    - One last layer of `Dense(1)`.\n",
    "- Train, test, and evaluate your model like what you did in Tutorial 11.\n"
   ]
  },
  {
   "cell_type": "markdown",
   "metadata": {},
   "source": [
    "### 1. Time series forecasting\n",
    "\n",
    "Load and pre-process the data."
   ]
  },
  {
   "cell_type": "code",
   "execution_count": 1,
   "metadata": {},
   "outputs": [
    {
     "data": {
      "text/html": [
       "<div>\n",
       "<style scoped>\n",
       "    .dataframe tbody tr th:only-of-type {\n",
       "        vertical-align: middle;\n",
       "    }\n",
       "\n",
       "    .dataframe tbody tr th {\n",
       "        vertical-align: top;\n",
       "    }\n",
       "\n",
       "    .dataframe thead th {\n",
       "        text-align: right;\n",
       "    }\n",
       "</style>\n",
       "<table border=\"1\" class=\"dataframe\">\n",
       "  <thead>\n",
       "    <tr style=\"text-align: right;\">\n",
       "      <th></th>\n",
       "      <th>Date</th>\n",
       "      <th>Hour</th>\n",
       "      <th>Total Ontario</th>\n",
       "      <th>Northwest</th>\n",
       "      <th>Northeast</th>\n",
       "      <th>Ottawa</th>\n",
       "      <th>East</th>\n",
       "      <th>Toronto</th>\n",
       "      <th>Essa</th>\n",
       "      <th>Bruce</th>\n",
       "      <th>Southwest</th>\n",
       "      <th>Niagara</th>\n",
       "      <th>West</th>\n",
       "      <th>Tot Zones</th>\n",
       "      <th>diff</th>\n",
       "    </tr>\n",
       "  </thead>\n",
       "  <tbody>\n",
       "    <tr>\n",
       "      <th>119853</th>\n",
       "      <td>2016/12/31</td>\n",
       "      <td>22</td>\n",
       "      <td>15195</td>\n",
       "      <td>495</td>\n",
       "      <td>1476</td>\n",
       "      <td>1051</td>\n",
       "      <td>1203</td>\n",
       "      <td>5665</td>\n",
       "      <td>1045</td>\n",
       "      <td>72</td>\n",
       "      <td>2986</td>\n",
       "      <td>465</td>\n",
       "      <td>1334</td>\n",
       "      <td>15790</td>\n",
       "      <td>595</td>\n",
       "    </tr>\n",
       "    <tr>\n",
       "      <th>119854</th>\n",
       "      <td>2016/12/31</td>\n",
       "      <td>23</td>\n",
       "      <td>14758</td>\n",
       "      <td>495</td>\n",
       "      <td>1476</td>\n",
       "      <td>1051</td>\n",
       "      <td>1203</td>\n",
       "      <td>5665</td>\n",
       "      <td>1045</td>\n",
       "      <td>72</td>\n",
       "      <td>2986</td>\n",
       "      <td>465</td>\n",
       "      <td>1334</td>\n",
       "      <td>15790</td>\n",
       "      <td>1,032</td>\n",
       "    </tr>\n",
       "    <tr>\n",
       "      <th>119855</th>\n",
       "      <td>2016/12/31</td>\n",
       "      <td>24</td>\n",
       "      <td>14153</td>\n",
       "      <td>495</td>\n",
       "      <td>1476</td>\n",
       "      <td>1051</td>\n",
       "      <td>1203</td>\n",
       "      <td>5665</td>\n",
       "      <td>1045</td>\n",
       "      <td>72</td>\n",
       "      <td>2986</td>\n",
       "      <td>465</td>\n",
       "      <td>1334</td>\n",
       "      <td>15790</td>\n",
       "      <td>1,637</td>\n",
       "    </tr>\n",
       "  </tbody>\n",
       "</table>\n",
       "</div>"
      ],
      "text/plain": [
       "              Date  Hour  Total Ontario  Northwest  Northeast  Ottawa  East  \\\n",
       "119853  2016/12/31    22          15195        495       1476    1051  1203   \n",
       "119854  2016/12/31    23          14758        495       1476    1051  1203   \n",
       "119855  2016/12/31    24          14153        495       1476    1051  1203   \n",
       "\n",
       "        Toronto  Essa  Bruce  Southwest  Niagara  West  Tot Zones   diff  \n",
       "119853     5665  1045     72       2986      465  1334      15790    595  \n",
       "119854     5665  1045     72       2986      465  1334      15790  1,032  \n",
       "119855     5665  1045     72       2986      465  1334      15790  1,637  "
      ]
     },
     "execution_count": 1,
     "metadata": {},
     "output_type": "execute_result"
    }
   ],
   "source": [
    "# allow multiple outputs be displayed for each cell\n",
    "from IPython.core.interactiveshell import InteractiveShell\n",
    "InteractiveShell.ast_node_interactivity = \"all\"\n",
    "\n",
    "import pandas as pd\n",
    "import matplotlib.pyplot as plt\n",
    "import numpy as np\n",
    "\n",
    "# Local Jupyter Notebook\n",
    "fname = './data/ZonalDemands_2003-2016.csv.bz2'\n",
    "\n",
    "df = pd.read_csv(fname, compression='bz2',\n",
    "                 engine='python')\n",
    "\n",
    "df.head(3)\n",
    "df.tail(3)"
   ]
  },
  {
   "cell_type": "code",
   "execution_count": 2,
   "metadata": {},
   "outputs": [
    {
     "data": {
      "text/plain": [
       "0   2003-05-01 01:00:00\n",
       "1   2003-05-01 02:00:00\n",
       "2   2003-05-01 03:00:00\n",
       "3   2003-05-01 04:00:00\n",
       "4   2003-05-01 05:00:00\n",
       "dtype: datetime64[ns]"
      ]
     },
     "execution_count": 2,
     "metadata": {},
     "output_type": "execute_result"
    }
   ],
   "source": [
    "def combine_date_hour(row):\n",
    "    date = pd.to_datetime(row['Date'])\n",
    "    hour = pd.Timedelta(\"%d hours\" % row['Hour'])\n",
    "    return date + hour\n",
    "\n",
    "idx = df.apply(combine_date_hour, axis=1)\n",
    "idx.head()"
   ]
  },
  {
   "cell_type": "code",
   "execution_count": 3,
   "metadata": {},
   "outputs": [
    {
     "data": {
      "text/html": [
       "<div>\n",
       "<style scoped>\n",
       "    .dataframe tbody tr th:only-of-type {\n",
       "        vertical-align: middle;\n",
       "    }\n",
       "\n",
       "    .dataframe tbody tr th {\n",
       "        vertical-align: top;\n",
       "    }\n",
       "\n",
       "    .dataframe thead th {\n",
       "        text-align: right;\n",
       "    }\n",
       "</style>\n",
       "<table border=\"1\" class=\"dataframe\">\n",
       "  <thead>\n",
       "    <tr style=\"text-align: right;\">\n",
       "      <th></th>\n",
       "      <th>Date</th>\n",
       "      <th>Hour</th>\n",
       "      <th>Total Ontario</th>\n",
       "      <th>Northwest</th>\n",
       "      <th>Northeast</th>\n",
       "      <th>Ottawa</th>\n",
       "      <th>East</th>\n",
       "      <th>Toronto</th>\n",
       "      <th>Essa</th>\n",
       "      <th>Bruce</th>\n",
       "      <th>Southwest</th>\n",
       "      <th>Niagara</th>\n",
       "      <th>West</th>\n",
       "      <th>Tot Zones</th>\n",
       "      <th>diff</th>\n",
       "    </tr>\n",
       "  </thead>\n",
       "  <tbody>\n",
       "    <tr>\n",
       "      <th>2003-05-01 01:00:00</th>\n",
       "      <td>01-May-03</td>\n",
       "      <td>1</td>\n",
       "      <td>13702</td>\n",
       "      <td>809</td>\n",
       "      <td>1284</td>\n",
       "      <td>965</td>\n",
       "      <td>765</td>\n",
       "      <td>4422</td>\n",
       "      <td>622</td>\n",
       "      <td>41</td>\n",
       "      <td>2729</td>\n",
       "      <td>617</td>\n",
       "      <td>1611</td>\n",
       "      <td>13865</td>\n",
       "      <td>163</td>\n",
       "    </tr>\n",
       "    <tr>\n",
       "      <th>2003-05-01 02:00:00</th>\n",
       "      <td>01-May-03</td>\n",
       "      <td>2</td>\n",
       "      <td>13578</td>\n",
       "      <td>825</td>\n",
       "      <td>1283</td>\n",
       "      <td>923</td>\n",
       "      <td>752</td>\n",
       "      <td>4340</td>\n",
       "      <td>602</td>\n",
       "      <td>43</td>\n",
       "      <td>2731</td>\n",
       "      <td>615</td>\n",
       "      <td>1564</td>\n",
       "      <td>13678</td>\n",
       "      <td>100</td>\n",
       "    </tr>\n",
       "    <tr>\n",
       "      <th>2003-05-01 03:00:00</th>\n",
       "      <td>01-May-03</td>\n",
       "      <td>3</td>\n",
       "      <td>13411</td>\n",
       "      <td>834</td>\n",
       "      <td>1277</td>\n",
       "      <td>910</td>\n",
       "      <td>751</td>\n",
       "      <td>4281</td>\n",
       "      <td>591</td>\n",
       "      <td>45</td>\n",
       "      <td>2696</td>\n",
       "      <td>596</td>\n",
       "      <td>1553</td>\n",
       "      <td>13534</td>\n",
       "      <td>123</td>\n",
       "    </tr>\n",
       "  </tbody>\n",
       "</table>\n",
       "</div>"
      ],
      "text/plain": [
       "                          Date  Hour  Total Ontario  Northwest  Northeast  \\\n",
       "2003-05-01 01:00:00  01-May-03     1          13702        809       1284   \n",
       "2003-05-01 02:00:00  01-May-03     2          13578        825       1283   \n",
       "2003-05-01 03:00:00  01-May-03     3          13411        834       1277   \n",
       "\n",
       "                     Ottawa  East  Toronto  Essa  Bruce  Southwest  Niagara  \\\n",
       "2003-05-01 01:00:00     965   765     4422   622     41       2729      617   \n",
       "2003-05-01 02:00:00     923   752     4340   602     43       2731      615   \n",
       "2003-05-01 03:00:00     910   751     4281   591     45       2696      596   \n",
       "\n",
       "                     West  Tot Zones diff  \n",
       "2003-05-01 01:00:00  1611      13865  163  \n",
       "2003-05-01 02:00:00  1564      13678  100  \n",
       "2003-05-01 03:00:00  1553      13534  123  "
      ]
     },
     "execution_count": 3,
     "metadata": {},
     "output_type": "execute_result"
    },
    {
     "data": {
      "text/html": [
       "<div>\n",
       "<style scoped>\n",
       "    .dataframe tbody tr th:only-of-type {\n",
       "        vertical-align: middle;\n",
       "    }\n",
       "\n",
       "    .dataframe tbody tr th {\n",
       "        vertical-align: top;\n",
       "    }\n",
       "\n",
       "    .dataframe thead th {\n",
       "        text-align: right;\n",
       "    }\n",
       "</style>\n",
       "<table border=\"1\" class=\"dataframe\">\n",
       "  <thead>\n",
       "    <tr style=\"text-align: right;\">\n",
       "      <th></th>\n",
       "      <th>Date</th>\n",
       "      <th>Hour</th>\n",
       "      <th>Total Ontario</th>\n",
       "      <th>Northwest</th>\n",
       "      <th>Northeast</th>\n",
       "      <th>Ottawa</th>\n",
       "      <th>East</th>\n",
       "      <th>Toronto</th>\n",
       "      <th>Essa</th>\n",
       "      <th>Bruce</th>\n",
       "      <th>Southwest</th>\n",
       "      <th>Niagara</th>\n",
       "      <th>West</th>\n",
       "      <th>Tot Zones</th>\n",
       "      <th>diff</th>\n",
       "    </tr>\n",
       "  </thead>\n",
       "  <tbody>\n",
       "    <tr>\n",
       "      <th>2016-12-31 22:00:00</th>\n",
       "      <td>2016/12/31</td>\n",
       "      <td>22</td>\n",
       "      <td>15195</td>\n",
       "      <td>495</td>\n",
       "      <td>1476</td>\n",
       "      <td>1051</td>\n",
       "      <td>1203</td>\n",
       "      <td>5665</td>\n",
       "      <td>1045</td>\n",
       "      <td>72</td>\n",
       "      <td>2986</td>\n",
       "      <td>465</td>\n",
       "      <td>1334</td>\n",
       "      <td>15790</td>\n",
       "      <td>595</td>\n",
       "    </tr>\n",
       "    <tr>\n",
       "      <th>2016-12-31 23:00:00</th>\n",
       "      <td>2016/12/31</td>\n",
       "      <td>23</td>\n",
       "      <td>14758</td>\n",
       "      <td>495</td>\n",
       "      <td>1476</td>\n",
       "      <td>1051</td>\n",
       "      <td>1203</td>\n",
       "      <td>5665</td>\n",
       "      <td>1045</td>\n",
       "      <td>72</td>\n",
       "      <td>2986</td>\n",
       "      <td>465</td>\n",
       "      <td>1334</td>\n",
       "      <td>15790</td>\n",
       "      <td>1,032</td>\n",
       "    </tr>\n",
       "    <tr>\n",
       "      <th>2017-01-01 00:00:00</th>\n",
       "      <td>2016/12/31</td>\n",
       "      <td>24</td>\n",
       "      <td>14153</td>\n",
       "      <td>495</td>\n",
       "      <td>1476</td>\n",
       "      <td>1051</td>\n",
       "      <td>1203</td>\n",
       "      <td>5665</td>\n",
       "      <td>1045</td>\n",
       "      <td>72</td>\n",
       "      <td>2986</td>\n",
       "      <td>465</td>\n",
       "      <td>1334</td>\n",
       "      <td>15790</td>\n",
       "      <td>1,637</td>\n",
       "    </tr>\n",
       "  </tbody>\n",
       "</table>\n",
       "</div>"
      ],
      "text/plain": [
       "                           Date  Hour  Total Ontario  Northwest  Northeast  \\\n",
       "2016-12-31 22:00:00  2016/12/31    22          15195        495       1476   \n",
       "2016-12-31 23:00:00  2016/12/31    23          14758        495       1476   \n",
       "2017-01-01 00:00:00  2016/12/31    24          14153        495       1476   \n",
       "\n",
       "                     Ottawa  East  Toronto  Essa  Bruce  Southwest  Niagara  \\\n",
       "2016-12-31 22:00:00    1051  1203     5665  1045     72       2986      465   \n",
       "2016-12-31 23:00:00    1051  1203     5665  1045     72       2986      465   \n",
       "2017-01-01 00:00:00    1051  1203     5665  1045     72       2986      465   \n",
       "\n",
       "                     West  Tot Zones   diff  \n",
       "2016-12-31 22:00:00  1334      15790    595  \n",
       "2016-12-31 23:00:00  1334      15790  1,032  \n",
       "2017-01-01 00:00:00  1334      15790  1,637  "
      ]
     },
     "execution_count": 3,
     "metadata": {},
     "output_type": "execute_result"
    }
   ],
   "source": [
    "df = df.set_index(idx)\n",
    "\n",
    "df.head(3)\n",
    "df.tail(3)"
   ]
  },
  {
   "cell_type": "code",
   "execution_count": 4,
   "metadata": {},
   "outputs": [
    {
     "data": {
      "text/plain": [
       "<matplotlib.axes._subplots.AxesSubplot at 0x2359f62ac08>"
      ]
     },
     "execution_count": 4,
     "metadata": {},
     "output_type": "execute_result"
    },
    {
     "data": {
      "image/png": "[encoded data removed]",
      "text/plain": [
       "<Figure size 432x288 with 1 Axes>"
      ]
     },
     "metadata": {
      "needs_background": "light"
     },
     "output_type": "display_data"
    }
   ],
   "source": [
    "df['Total Ontario'].plot()"
   ]
  },
  {
   "cell_type": "markdown",
   "metadata": {},
   "source": [
    "### Split"
   ]
  },
  {
   "cell_type": "code",
   "execution_count": 5,
   "metadata": {},
   "outputs": [
    {
     "data": {
      "text/html": [
       "<div>\n",
       "<style scoped>\n",
       "    .dataframe tbody tr th:only-of-type {\n",
       "        vertical-align: middle;\n",
       "    }\n",
       "\n",
       "    .dataframe tbody tr th {\n",
       "        vertical-align: top;\n",
       "    }\n",
       "\n",
       "    .dataframe thead th {\n",
       "        text-align: right;\n",
       "    }\n",
       "</style>\n",
       "<table border=\"1\" class=\"dataframe\">\n",
       "  <thead>\n",
       "    <tr style=\"text-align: right;\">\n",
       "      <th></th>\n",
       "      <th>Total Ontario</th>\n",
       "    </tr>\n",
       "  </thead>\n",
       "  <tbody>\n",
       "    <tr>\n",
       "      <th>2003-05-01 01:00:00</th>\n",
       "      <td>13702</td>\n",
       "    </tr>\n",
       "    <tr>\n",
       "      <th>2003-05-01 02:00:00</th>\n",
       "      <td>13578</td>\n",
       "    </tr>\n",
       "    <tr>\n",
       "      <th>2003-05-01 03:00:00</th>\n",
       "      <td>13411</td>\n",
       "    </tr>\n",
       "  </tbody>\n",
       "</table>\n",
       "</div>"
      ],
      "text/plain": [
       "                     Total Ontario\n",
       "2003-05-01 01:00:00          13702\n",
       "2003-05-01 02:00:00          13578\n",
       "2003-05-01 03:00:00          13411"
      ]
     },
     "execution_count": 5,
     "metadata": {},
     "output_type": "execute_result"
    },
    {
     "data": {
      "text/html": [
       "<div>\n",
       "<style scoped>\n",
       "    .dataframe tbody tr th:only-of-type {\n",
       "        vertical-align: middle;\n",
       "    }\n",
       "\n",
       "    .dataframe tbody tr th {\n",
       "        vertical-align: top;\n",
       "    }\n",
       "\n",
       "    .dataframe thead th {\n",
       "        text-align: right;\n",
       "    }\n",
       "</style>\n",
       "<table border=\"1\" class=\"dataframe\">\n",
       "  <thead>\n",
       "    <tr style=\"text-align: right;\">\n",
       "      <th></th>\n",
       "      <th>Total Ontario</th>\n",
       "    </tr>\n",
       "  </thead>\n",
       "  <tbody>\n",
       "    <tr>\n",
       "      <th>2013-12-31 22:00:00</th>\n",
       "      <td>17572</td>\n",
       "    </tr>\n",
       "    <tr>\n",
       "      <th>2013-12-31 23:00:00</th>\n",
       "      <td>16966</td>\n",
       "    </tr>\n",
       "    <tr>\n",
       "      <th>2014-01-01 00:00:00</th>\n",
       "      <td>16385</td>\n",
       "    </tr>\n",
       "  </tbody>\n",
       "</table>\n",
       "</div>"
      ],
      "text/plain": [
       "                     Total Ontario\n",
       "2013-12-31 22:00:00          17572\n",
       "2013-12-31 23:00:00          16966\n",
       "2014-01-01 00:00:00          16385"
      ]
     },
     "execution_count": 5,
     "metadata": {},
     "output_type": "execute_result"
    },
    {
     "data": {
      "text/html": [
       "<div>\n",
       "<style scoped>\n",
       "    .dataframe tbody tr th:only-of-type {\n",
       "        vertical-align: middle;\n",
       "    }\n",
       "\n",
       "    .dataframe tbody tr th {\n",
       "        vertical-align: top;\n",
       "    }\n",
       "\n",
       "    .dataframe thead th {\n",
       "        text-align: right;\n",
       "    }\n",
       "</style>\n",
       "<table border=\"1\" class=\"dataframe\">\n",
       "  <thead>\n",
       "    <tr style=\"text-align: right;\">\n",
       "      <th></th>\n",
       "      <th>Total Ontario</th>\n",
       "    </tr>\n",
       "  </thead>\n",
       "  <tbody>\n",
       "    <tr>\n",
       "      <th>2014-01-01 00:00:00</th>\n",
       "      <td>16385</td>\n",
       "    </tr>\n",
       "    <tr>\n",
       "      <th>2014-01-01 01:00:00</th>\n",
       "      <td>15862</td>\n",
       "    </tr>\n",
       "    <tr>\n",
       "      <th>2014-01-01 02:00:00</th>\n",
       "      <td>15462</td>\n",
       "    </tr>\n",
       "  </tbody>\n",
       "</table>\n",
       "</div>"
      ],
      "text/plain": [
       "                     Total Ontario\n",
       "2014-01-01 00:00:00          16385\n",
       "2014-01-01 01:00:00          15862\n",
       "2014-01-01 02:00:00          15462"
      ]
     },
     "execution_count": 5,
     "metadata": {},
     "output_type": "execute_result"
    },
    {
     "data": {
      "text/html": [
       "<div>\n",
       "<style scoped>\n",
       "    .dataframe tbody tr th:only-of-type {\n",
       "        vertical-align: middle;\n",
       "    }\n",
       "\n",
       "    .dataframe tbody tr th {\n",
       "        vertical-align: top;\n",
       "    }\n",
       "\n",
       "    .dataframe thead th {\n",
       "        text-align: right;\n",
       "    }\n",
       "</style>\n",
       "<table border=\"1\" class=\"dataframe\">\n",
       "  <thead>\n",
       "    <tr style=\"text-align: right;\">\n",
       "      <th></th>\n",
       "      <th>Total Ontario</th>\n",
       "    </tr>\n",
       "  </thead>\n",
       "  <tbody>\n",
       "    <tr>\n",
       "      <th>2016-12-31 22:00:00</th>\n",
       "      <td>15195</td>\n",
       "    </tr>\n",
       "    <tr>\n",
       "      <th>2016-12-31 23:00:00</th>\n",
       "      <td>14758</td>\n",
       "    </tr>\n",
       "    <tr>\n",
       "      <th>2017-01-01 00:00:00</th>\n",
       "      <td>14153</td>\n",
       "    </tr>\n",
       "  </tbody>\n",
       "</table>\n",
       "</div>"
      ],
      "text/plain": [
       "                     Total Ontario\n",
       "2016-12-31 22:00:00          15195\n",
       "2016-12-31 23:00:00          14758\n",
       "2017-01-01 00:00:00          14153"
      ]
     },
     "execution_count": 5,
     "metadata": {},
     "output_type": "execute_result"
    }
   ],
   "source": [
    "split_date = pd.Timestamp('01-01-2014')\n",
    "\n",
    "train = df.loc[:split_date, ['Total Ontario']].copy()\n",
    "test = df.loc[split_date:, ['Total Ontario']].copy()\n",
    "\n",
    "train.head(3)\n",
    "train.tail(3)\n",
    "\n",
    "test.head(3)\n",
    "test.tail(3)"
   ]
  },
  {
   "cell_type": "code",
   "execution_count": 6,
   "metadata": {},
   "outputs": [
    {
     "data": {
      "image/png": "[encoded data removed]",
      "text/plain": [
       "<Figure size 1080x360 with 1 Axes>"
      ]
     },
     "metadata": {
      "needs_background": "light"
     },
     "output_type": "display_data"
    }
   ],
   "source": [
    "plt.figure(figsize=(15,5))\n",
    "plt.plot(train, label='y_test')\n",
    "plt.plot(test, label='y_pred')\n",
    "plt.legend()\n",
    "plt.title(\"Energy Consumption in Ontario 2003 - 2017\");"
   ]
  },
  {
   "cell_type": "code",
   "execution_count": 7,
   "metadata": {},
   "outputs": [
    {
     "data": {
      "text/html": [
       "<div>\n",
       "<style scoped>\n",
       "    .dataframe tbody tr th:only-of-type {\n",
       "        vertical-align: middle;\n",
       "    }\n",
       "\n",
       "    .dataframe tbody tr th {\n",
       "        vertical-align: top;\n",
       "    }\n",
       "\n",
       "    .dataframe thead th {\n",
       "        text-align: right;\n",
       "    }\n",
       "</style>\n",
       "<table border=\"1\" class=\"dataframe\">\n",
       "  <thead>\n",
       "    <tr style=\"text-align: right;\">\n",
       "      <th></th>\n",
       "      <th>Total Ontario</th>\n",
       "    </tr>\n",
       "  </thead>\n",
       "  <tbody>\n",
       "    <tr>\n",
       "      <th>2003-05-01 01:00:00</th>\n",
       "      <td>0.7404</td>\n",
       "    </tr>\n",
       "    <tr>\n",
       "      <th>2003-05-01 02:00:00</th>\n",
       "      <td>0.7156</td>\n",
       "    </tr>\n",
       "    <tr>\n",
       "      <th>2003-05-01 03:00:00</th>\n",
       "      <td>0.6822</td>\n",
       "    </tr>\n",
       "    <tr>\n",
       "      <th>2003-05-01 04:00:00</th>\n",
       "      <td>0.7002</td>\n",
       "    </tr>\n",
       "  </tbody>\n",
       "</table>\n",
       "</div>"
      ],
      "text/plain": [
       "                     Total Ontario\n",
       "2003-05-01 01:00:00         0.7404\n",
       "2003-05-01 02:00:00         0.7156\n",
       "2003-05-01 03:00:00         0.6822\n",
       "2003-05-01 04:00:00         0.7002"
      ]
     },
     "execution_count": 7,
     "metadata": {},
     "output_type": "execute_result"
    }
   ],
   "source": [
    "offset = 10000\n",
    "scale = 5000\n",
    "\n",
    "train_sc = (train - offset) / scale\n",
    "test_sc = (test - offset) / scale\n",
    "\n",
    "train_sc[:4]"
   ]
  },
  {
   "cell_type": "code",
   "execution_count": 8,
   "metadata": {},
   "outputs": [
    {
     "data": {
      "image/png": "[encoded data removed]",
      "text/plain": [
       "<Figure size 1080x360 with 1 Axes>"
      ]
     },
     "metadata": {
      "needs_background": "light"
     },
     "output_type": "display_data"
    }
   ],
   "source": [
    "plt.figure(figsize=(15,5))\n",
    "plt.plot(train_sc, label='y_test')\n",
    "plt.plot(test_sc, label='y_pred')\n",
    "plt.legend()\n",
    "plt.title(\"Energy Consumption Scaled Data\");"
   ]
  },
  {
   "cell_type": "markdown",
   "metadata": {},
   "source": [
    "### Targets"
   ]
  },
  {
   "cell_type": "code",
   "execution_count": 9,
   "metadata": {},
   "outputs": [
    {
     "data": {
      "text/plain": [
       "array([[0.7404],\n",
       "       [0.7156],\n",
       "       [0.6822],\n",
       "       [0.7002],\n",
       "       [0.802 ]])"
      ]
     },
     "execution_count": 9,
     "metadata": {},
     "output_type": "execute_result"
    },
    {
     "data": {
      "text/plain": [
       "array([[0.7156],\n",
       "       [0.6822],\n",
       "       [0.7002],\n",
       "       [0.802 ],\n",
       "       [1.0226]])"
      ]
     },
     "execution_count": 9,
     "metadata": {},
     "output_type": "execute_result"
    }
   ],
   "source": [
    "X_train = train_sc[:-1].values\n",
    "y_train = train_sc[1:].values\n",
    "\n",
    "\n",
    "X_test = test_sc[:-1].values\n",
    "y_test = test_sc[1:].values\n",
    "\n",
    "X_train[:5]\n",
    "y_train[:5]"
   ]
  },
  {
   "cell_type": "markdown",
   "metadata": {},
   "source": [
    "### 2. Long Short Term Memory (LSTM) Neural Networks Model"
   ]
  },
  {
   "cell_type": "markdown",
   "metadata": {},
   "source": [
    "#### 2.1 Rolling windows"
   ]
  },
  {
   "cell_type": "code",
   "execution_count": 10,
   "metadata": {},
   "outputs": [],
   "source": [
    "window_len = 72"
   ]
  },
  {
   "cell_type": "code",
   "execution_count": 11,
   "metadata": {},
   "outputs": [],
   "source": [
    "def create_lagged_Xy_win(data, start_lag=1,\n",
    "                         window_len=1):\n",
    "    X = data.shift(start_lag + window_len - 1).copy()\n",
    "    X.columns = ['T_{}'.format(start_lag + window_len - 1)]\n",
    "\n",
    "    if window_len > 1:\n",
    "        for s in range(window_len, 0, -1):\n",
    "            col_ = 'T_{}'.format(start_lag + s - 1)\n",
    "            X[col_] = data.shift(start_lag + s - 1)\n",
    "\n",
    "    X = X.dropna()\n",
    "    idx = X.index\n",
    "    y = data.loc[idx]\n",
    "    return X, y"
   ]
  },
  {
   "cell_type": "code",
   "execution_count": 12,
   "metadata": {},
   "outputs": [
    {
     "data": {
      "text/html": [
       "<div>\n",
       "<style scoped>\n",
       "    .dataframe tbody tr th:only-of-type {\n",
       "        vertical-align: middle;\n",
       "    }\n",
       "\n",
       "    .dataframe tbody tr th {\n",
       "        vertical-align: top;\n",
       "    }\n",
       "\n",
       "    .dataframe thead th {\n",
       "        text-align: right;\n",
       "    }\n",
       "</style>\n",
       "<table border=\"1\" class=\"dataframe\">\n",
       "  <thead>\n",
       "    <tr style=\"text-align: right;\">\n",
       "      <th></th>\n",
       "      <th>T_107</th>\n",
       "      <th>T_106</th>\n",
       "      <th>T_105</th>\n",
       "      <th>T_104</th>\n",
       "      <th>T_103</th>\n",
       "      <th>T_102</th>\n",
       "      <th>T_101</th>\n",
       "      <th>T_100</th>\n",
       "      <th>T_99</th>\n",
       "      <th>T_98</th>\n",
       "      <th>...</th>\n",
       "      <th>T_45</th>\n",
       "      <th>T_44</th>\n",
       "      <th>T_43</th>\n",
       "      <th>T_42</th>\n",
       "      <th>T_41</th>\n",
       "      <th>T_40</th>\n",
       "      <th>T_39</th>\n",
       "      <th>T_38</th>\n",
       "      <th>T_37</th>\n",
       "      <th>T_36</th>\n",
       "    </tr>\n",
       "  </thead>\n",
       "  <tbody>\n",
       "    <tr>\n",
       "      <th>2003-05-05 12:00:00</th>\n",
       "      <td>0.7404</td>\n",
       "      <td>0.7156</td>\n",
       "      <td>0.6822</td>\n",
       "      <td>0.7002</td>\n",
       "      <td>0.8020</td>\n",
       "      <td>1.0226</td>\n",
       "      <td>1.3524</td>\n",
       "      <td>1.5536</td>\n",
       "      <td>1.6074</td>\n",
       "      <td>1.6382</td>\n",
       "      <td>...</td>\n",
       "      <td>1.0062</td>\n",
       "      <td>1.0262</td>\n",
       "      <td>1.0532</td>\n",
       "      <td>1.0188</td>\n",
       "      <td>0.9716</td>\n",
       "      <td>1.0562</td>\n",
       "      <td>1.1044</td>\n",
       "      <td>0.9856</td>\n",
       "      <td>0.8160</td>\n",
       "      <td>0.6738</td>\n",
       "    </tr>\n",
       "    <tr>\n",
       "      <th>2003-05-05 13:00:00</th>\n",
       "      <td>0.7156</td>\n",
       "      <td>0.6822</td>\n",
       "      <td>0.7002</td>\n",
       "      <td>0.8020</td>\n",
       "      <td>1.0226</td>\n",
       "      <td>1.3524</td>\n",
       "      <td>1.5536</td>\n",
       "      <td>1.6074</td>\n",
       "      <td>1.6382</td>\n",
       "      <td>1.6342</td>\n",
       "      <td>...</td>\n",
       "      <td>1.0262</td>\n",
       "      <td>1.0532</td>\n",
       "      <td>1.0188</td>\n",
       "      <td>0.9716</td>\n",
       "      <td>1.0562</td>\n",
       "      <td>1.1044</td>\n",
       "      <td>0.9856</td>\n",
       "      <td>0.8160</td>\n",
       "      <td>0.6738</td>\n",
       "      <td>0.5882</td>\n",
       "    </tr>\n",
       "    <tr>\n",
       "      <th>2003-05-05 14:00:00</th>\n",
       "      <td>0.6822</td>\n",
       "      <td>0.7002</td>\n",
       "      <td>0.8020</td>\n",
       "      <td>1.0226</td>\n",
       "      <td>1.3524</td>\n",
       "      <td>1.5536</td>\n",
       "      <td>1.6074</td>\n",
       "      <td>1.6382</td>\n",
       "      <td>1.6342</td>\n",
       "      <td>1.6242</td>\n",
       "      <td>...</td>\n",
       "      <td>1.0532</td>\n",
       "      <td>1.0188</td>\n",
       "      <td>0.9716</td>\n",
       "      <td>1.0562</td>\n",
       "      <td>1.1044</td>\n",
       "      <td>0.9856</td>\n",
       "      <td>0.8160</td>\n",
       "      <td>0.6738</td>\n",
       "      <td>0.5882</td>\n",
       "      <td>0.5338</td>\n",
       "    </tr>\n",
       "    <tr>\n",
       "      <th>2003-05-05 15:00:00</th>\n",
       "      <td>0.7002</td>\n",
       "      <td>0.8020</td>\n",
       "      <td>1.0226</td>\n",
       "      <td>1.3524</td>\n",
       "      <td>1.5536</td>\n",
       "      <td>1.6074</td>\n",
       "      <td>1.6382</td>\n",
       "      <td>1.6342</td>\n",
       "      <td>1.6242</td>\n",
       "      <td>1.6236</td>\n",
       "      <td>...</td>\n",
       "      <td>1.0188</td>\n",
       "      <td>0.9716</td>\n",
       "      <td>1.0562</td>\n",
       "      <td>1.1044</td>\n",
       "      <td>0.9856</td>\n",
       "      <td>0.8160</td>\n",
       "      <td>0.6738</td>\n",
       "      <td>0.5882</td>\n",
       "      <td>0.5338</td>\n",
       "      <td>0.5058</td>\n",
       "    </tr>\n",
       "    <tr>\n",
       "      <th>2003-05-05 16:00:00</th>\n",
       "      <td>0.8020</td>\n",
       "      <td>1.0226</td>\n",
       "      <td>1.3524</td>\n",
       "      <td>1.5536</td>\n",
       "      <td>1.6074</td>\n",
       "      <td>1.6382</td>\n",
       "      <td>1.6342</td>\n",
       "      <td>1.6242</td>\n",
       "      <td>1.6236</td>\n",
       "      <td>1.5976</td>\n",
       "      <td>...</td>\n",
       "      <td>0.9716</td>\n",
       "      <td>1.0562</td>\n",
       "      <td>1.1044</td>\n",
       "      <td>0.9856</td>\n",
       "      <td>0.8160</td>\n",
       "      <td>0.6738</td>\n",
       "      <td>0.5882</td>\n",
       "      <td>0.5338</td>\n",
       "      <td>0.5058</td>\n",
       "      <td>0.5048</td>\n",
       "    </tr>\n",
       "  </tbody>\n",
       "</table>\n",
       "<p>5 rows × 72 columns</p>\n",
       "</div>"
      ],
      "text/plain": [
       "                      T_107   T_106   T_105   T_104   T_103   T_102   T_101  \\\n",
       "2003-05-05 12:00:00  0.7404  0.7156  0.6822  0.7002  0.8020  1.0226  1.3524   \n",
       "2003-05-05 13:00:00  0.7156  0.6822  0.7002  0.8020  1.0226  1.3524  1.5536   \n",
       "2003-05-05 14:00:00  0.6822  0.7002  0.8020  1.0226  1.3524  1.5536  1.6074   \n",
       "2003-05-05 15:00:00  0.7002  0.8020  1.0226  1.3524  1.5536  1.6074  1.6382   \n",
       "2003-05-05 16:00:00  0.8020  1.0226  1.3524  1.5536  1.6074  1.6382  1.6342   \n",
       "\n",
       "                      T_100    T_99    T_98  ...    T_45    T_44    T_43  \\\n",
       "2003-05-05 12:00:00  1.5536  1.6074  1.6382  ...  1.0062  1.0262  1.0532   \n",
       "2003-05-05 13:00:00  1.6074  1.6382  1.6342  ...  1.0262  1.0532  1.0188   \n",
       "2003-05-05 14:00:00  1.6382  1.6342  1.6242  ...  1.0532  1.0188  0.9716   \n",
       "2003-05-05 15:00:00  1.6342  1.6242  1.6236  ...  1.0188  0.9716  1.0562   \n",
       "2003-05-05 16:00:00  1.6242  1.6236  1.5976  ...  0.9716  1.0562  1.1044   \n",
       "\n",
       "                       T_42    T_41    T_40    T_39    T_38    T_37    T_36  \n",
       "2003-05-05 12:00:00  1.0188  0.9716  1.0562  1.1044  0.9856  0.8160  0.6738  \n",
       "2003-05-05 13:00:00  0.9716  1.0562  1.1044  0.9856  0.8160  0.6738  0.5882  \n",
       "2003-05-05 14:00:00  1.0562  1.1044  0.9856  0.8160  0.6738  0.5882  0.5338  \n",
       "2003-05-05 15:00:00  1.1044  0.9856  0.8160  0.6738  0.5882  0.5338  0.5058  \n",
       "2003-05-05 16:00:00  0.9856  0.8160  0.6738  0.5882  0.5338  0.5058  0.5048  \n",
       "\n",
       "[5 rows x 72 columns]"
      ]
     },
     "execution_count": 12,
     "metadata": {},
     "output_type": "execute_result"
    },
    {
     "data": {
      "text/html": [
       "<div>\n",
       "<style scoped>\n",
       "    .dataframe tbody tr th:only-of-type {\n",
       "        vertical-align: middle;\n",
       "    }\n",
       "\n",
       "    .dataframe tbody tr th {\n",
       "        vertical-align: top;\n",
       "    }\n",
       "\n",
       "    .dataframe thead th {\n",
       "        text-align: right;\n",
       "    }\n",
       "</style>\n",
       "<table border=\"1\" class=\"dataframe\">\n",
       "  <thead>\n",
       "    <tr style=\"text-align: right;\">\n",
       "      <th></th>\n",
       "      <th>Total Ontario</th>\n",
       "    </tr>\n",
       "  </thead>\n",
       "  <tbody>\n",
       "    <tr>\n",
       "      <th>2003-05-05 12:00:00</th>\n",
       "      <td>1.6502</td>\n",
       "    </tr>\n",
       "    <tr>\n",
       "      <th>2003-05-05 13:00:00</th>\n",
       "      <td>1.6526</td>\n",
       "    </tr>\n",
       "    <tr>\n",
       "      <th>2003-05-05 14:00:00</th>\n",
       "      <td>1.6590</td>\n",
       "    </tr>\n",
       "    <tr>\n",
       "      <th>2003-05-05 15:00:00</th>\n",
       "      <td>1.6726</td>\n",
       "    </tr>\n",
       "    <tr>\n",
       "      <th>2003-05-05 16:00:00</th>\n",
       "      <td>1.7468</td>\n",
       "    </tr>\n",
       "  </tbody>\n",
       "</table>\n",
       "</div>"
      ],
      "text/plain": [
       "                     Total Ontario\n",
       "2003-05-05 12:00:00         1.6502\n",
       "2003-05-05 13:00:00         1.6526\n",
       "2003-05-05 14:00:00         1.6590\n",
       "2003-05-05 15:00:00         1.6726\n",
       "2003-05-05 16:00:00         1.7468"
      ]
     },
     "execution_count": 12,
     "metadata": {},
     "output_type": "execute_result"
    }
   ],
   "source": [
    "start_lag=36\n",
    "\n",
    "X_train, y_train = create_lagged_Xy_win(train_sc,\n",
    "                                        start_lag,\n",
    "                                        window_len)\n",
    "\n",
    "X_test, y_test = create_lagged_Xy_win(test_sc,\n",
    "                                      start_lag,\n",
    "                                      window_len)\n",
    "\n",
    "X_train.head()\n",
    "y_train.head()"
   ]
  },
  {
   "cell_type": "code",
   "execution_count": 13,
   "metadata": {},
   "outputs": [
    {
     "data": {
      "text/plain": [
       "(93445, 72, 1)"
      ]
     },
     "execution_count": 13,
     "metadata": {},
     "output_type": "execute_result"
    }
   ],
   "source": [
    "X_train_t = X_train.values.reshape(-1, window_len, 1)\n",
    "X_test_t = X_test.values.reshape(-1, window_len, 1)\n",
    "\n",
    "y_train_t = y_train.values\n",
    "y_test_t = y_test.values\n",
    "\n",
    "X_train_t.shape"
   ]
  },
  {
   "cell_type": "markdown",
   "metadata": {},
   "source": [
    "#### 2.2 Model construction"
   ]
  },
  {
   "cell_type": "code",
   "execution_count": 14,
   "metadata": {},
   "outputs": [],
   "source": [
    "import pandas as pd\n",
    "import matplotlib.pyplot as plt\n",
    "import numpy as np\n",
    "\n",
    "import tensorflow.keras.backend as K\n",
    "from tensorflow.keras.models import Sequential\n",
    "\n",
    "from tensorflow.keras.layers import LSTM\n",
    "from tensorflow.keras.optimizers import Adam\n",
    "from tensorflow.keras.layers import TimeDistributed\n",
    "from tensorflow.keras.layers import Dense\n",
    "\n",
    "K.clear_session()"
   ]
  },
  {
   "cell_type": "code",
   "execution_count": 25,
   "metadata": {
    "scrolled": false
   },
   "outputs": [],
   "source": [
    "model = Sequential()\n",
    "model.add(LSTM(12, kernel_initializer='normal', \n",
    "               input_shape=(window_len, 1), return_sequences=True))\n",
    "model.add(LSTM(6, kernel_initializer='normal'))\n",
    "model.add(Dense(1))\n",
    "\n",
    "model.compile(loss='mean_squared_error',\n",
    "              optimizer=Adam(lr=0.0005) )"
   ]
  },
  {
   "cell_type": "code",
   "execution_count": 26,
   "metadata": {},
   "outputs": [
    {
     "name": "stdout",
     "output_type": "stream",
     "text": [
      "Epoch 1/10\n",
      "93445/93445 [==============================] - 16s 167us/sample - loss: 0.4822\n",
      "Epoch 2/10\n",
      "93445/93445 [==============================] - 17s 182us/sample - loss: 0.1364\n",
      "Epoch 3/10\n",
      "93445/93445 [==============================] - 17s 182us/sample - loss: 0.1167\n",
      "Epoch 4/10\n",
      "93445/93445 [==============================] - 17s 177us/sample - loss: 0.1126\n",
      "Epoch 5/10\n",
      "93445/93445 [==============================] - 18s 194us/sample - loss: 0.1103\n",
      "Epoch 6/10\n",
      "93445/93445 [==============================] - 17s 182us/sample - loss: 0.1083\n",
      "Epoch 7/10\n",
      "93445/93445 [==============================] - 16s 171us/sample - loss: 0.1057 - loss: 0\n",
      "Epoch 8/10\n",
      "93445/93445 [==============================] - 16s 169us/sample - loss: 0.1049\n",
      "Epoch 9/10\n",
      "93445/93445 [==============================] - 16s 167us/sample - loss: 0.1038\n",
      "Epoch 10/10\n",
      "93445/93445 [==============================] - 16s 169us/sample - loss: 0.1024\n"
     ]
    }
   ],
   "source": [
    "model.fit(X_train_t, y_train_t,\n",
    "          epochs=10,\n",
    "          batch_size=256,\n",
    "          verbose=1);"
   ]
  },
  {
   "cell_type": "markdown",
   "metadata": {},
   "source": [
    "#### 2.3 Model evaluation\n",
    "\n",
    "For your reference, the following is a small part of my predictive model to compare train and test.\n",
    "\n",
    "![LSTM 36 hours](./assets/LSTM_36_hours.png)"
   ]
  },
  {
   "cell_type": "code",
   "execution_count": 27,
   "metadata": {},
   "outputs": [
    {
     "data": {
      "image/png": "[encoded data removed]",
      "text/plain": [
       "<Figure size 1080x360 with 1 Axes>"
      ]
     },
     "metadata": {
      "needs_background": "light"
     },
     "output_type": "display_data"
    }
   ],
   "source": [
    "y_pred = model.predict(X_test_t, batch_size=256)\n",
    "plt.figure(figsize=(15,5))\n",
    "plt.plot(y_test_t, label='y_test')\n",
    "plt.plot(y_pred, label='y_pred')\n",
    "plt.legend()\n",
    "plt.xlim(1200,1300)\n",
    "plt.title(\"Zoom True VS Pred Test set, LSTM with Windows\");"
   ]
  },
  {
   "cell_type": "code",
   "execution_count": 28,
   "metadata": {},
   "outputs": [
    {
     "name": "stdout",
     "output_type": "stream",
     "text": [
      "Shift: -5, Corr: 0.32\n",
      "Shift: -4, Corr: 0.47\n",
      "Shift: -3, Corr: 0.61\n",
      "Shift: -2, Corr: 0.71\n",
      "Shift: -1, Corr: 0.77\n",
      "Shift:  0, Corr: 0.78\n",
      "Shift:  1, Corr: 0.75\n",
      "Shift:  2, Corr: 0.68\n",
      "Shift:  3, Corr: 0.57\n",
      "Shift:  4, Corr: 0.45\n"
     ]
    }
   ],
   "source": [
    "y_test_s = pd.Series(y_test_t.ravel())\n",
    "y_pred_s = pd.Series(y_pred.ravel())\n",
    "\n",
    "for shift in range(-5, 5):\n",
    "    y_pred_shifted = y_pred_s.shift(shift)\n",
    "    corr = y_test_s.corr(y_pred_shifted)\n",
    "    print(\"Shift: {:2}, Corr: {:0.2}\".format(shift, corr))"
   ]
  }
 ],
 "metadata": {
  "kernelspec": {
   "display_name": "Python 3",
   "language": "python",
   "name": "python3"
  },
  "language_info": {
   "codemirror_mode": {
    "name": "ipython",
    "version": 3
   },
   "file_extension": ".py",
   "mimetype": "text/x-python",
   "name": "python",
   "nbconvert_exporter": "python",
   "pygments_lexer": "ipython3",
   "version": "3.7.4"
  }
 },
 "nbformat": 4,
 "nbformat_minor": 2
}
