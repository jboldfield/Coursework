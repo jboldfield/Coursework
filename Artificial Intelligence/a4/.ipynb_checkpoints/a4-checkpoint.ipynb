{
 "cells": [
  {
   "cell_type": "markdown",
   "metadata": {},
   "source": [
    "# CS 4820\n",
    "# Assignment 4: Data Pre-processing and Model Analysis\n",
    "\n",
    "# Due: 2:00pm October 2, 2019"
   ]
  },
  {
   "cell_type": "markdown",
   "metadata": {},
   "source": [
    "The [Pima Indians dataset](https://www.kaggle.com/uciml/pima-indians-diabetes-database) is a very famous dataset distributed by UCI and originally collected from the National Institute of Diabetes and Digestive and Kidney Diseases. It contains data from clinical exams for 614 women age 21 and above of Pima indian origins. The objective is to predict, based on diagnostic measurements, whether a patient has diabetes.\n",
    "\n",
    "It has the following features:\n",
    "\n",
    "- Pregnancies: Number of times pregnant\n",
    "- Glucose: Plasma glucose concentration a 2 hours in an oral glucose tolerance test\n",
    "- BloodPressure: Diastolic blood pressure (mm Hg)\n",
    "- SkinThickness: Triceps skin fold thickness (mm)\n",
    "- Insulin: 2-Hour serum insulin (mu U/ml)\n",
    "- BMI: Body mass index (weight in kg/(height in m)^2)\n",
    "- DiabetesPedigreeFunction: Diabetes pedigree function\n",
    "- Age: Age (years)\n",
    "\n",
    "The last column is the outcome, and it is a binary variable.\n",
    "\n",
    "In this assignment, you are asked to build an ANN model to do the diabetes prediction. "
   ]
  },
  {
   "cell_type": "markdown",
   "metadata": {},
   "source": [
    "### 0. The *diabetes* Dataset and Data Preprocessing\n"
   ]
  },
  {
   "cell_type": "code",
   "execution_count": 6,
   "metadata": {
    "scrolled": true
   },
   "outputs": [
    {
     "data": {
      "text/html": [
       "<div>\n",
       "<style scoped>\n",
       "    .dataframe tbody tr th:only-of-type {\n",
       "        vertical-align: middle;\n",
       "    }\n",
       "\n",
       "    .dataframe tbody tr th {\n",
       "        vertical-align: top;\n",
       "    }\n",
       "\n",
       "    .dataframe thead th {\n",
       "        text-align: right;\n",
       "    }\n",
       "</style>\n",
       "<table border=\"1\" class=\"dataframe\">\n",
       "  <thead>\n",
       "    <tr style=\"text-align: right;\">\n",
       "      <th></th>\n",
       "      <th>Pregnancies</th>\n",
       "      <th>Glucose</th>\n",
       "      <th>BloodPressure</th>\n",
       "      <th>SkinThickness</th>\n",
       "      <th>Insulin</th>\n",
       "      <th>BMI</th>\n",
       "      <th>DiabetesPedigreeFunction</th>\n",
       "      <th>Age</th>\n",
       "      <th>Outcome</th>\n",
       "    </tr>\n",
       "  </thead>\n",
       "  <tbody>\n",
       "    <tr>\n",
       "      <th>0</th>\n",
       "      <td>6</td>\n",
       "      <td>148</td>\n",
       "      <td>72</td>\n",
       "      <td>35</td>\n",
       "      <td>0</td>\n",
       "      <td>33.6</td>\n",
       "      <td>0.627</td>\n",
       "      <td>50</td>\n",
       "      <td>1</td>\n",
       "    </tr>\n",
       "    <tr>\n",
       "      <th>1</th>\n",
       "      <td>1</td>\n",
       "      <td>85</td>\n",
       "      <td>66</td>\n",
       "      <td>29</td>\n",
       "      <td>0</td>\n",
       "      <td>26.6</td>\n",
       "      <td>0.351</td>\n",
       "      <td>31</td>\n",
       "      <td>0</td>\n",
       "    </tr>\n",
       "    <tr>\n",
       "      <th>2</th>\n",
       "      <td>8</td>\n",
       "      <td>183</td>\n",
       "      <td>64</td>\n",
       "      <td>0</td>\n",
       "      <td>0</td>\n",
       "      <td>23.3</td>\n",
       "      <td>0.672</td>\n",
       "      <td>32</td>\n",
       "      <td>1</td>\n",
       "    </tr>\n",
       "    <tr>\n",
       "      <th>3</th>\n",
       "      <td>1</td>\n",
       "      <td>89</td>\n",
       "      <td>66</td>\n",
       "      <td>23</td>\n",
       "      <td>94</td>\n",
       "      <td>28.1</td>\n",
       "      <td>0.167</td>\n",
       "      <td>21</td>\n",
       "      <td>0</td>\n",
       "    </tr>\n",
       "    <tr>\n",
       "      <th>4</th>\n",
       "      <td>0</td>\n",
       "      <td>137</td>\n",
       "      <td>40</td>\n",
       "      <td>35</td>\n",
       "      <td>168</td>\n",
       "      <td>43.1</td>\n",
       "      <td>2.288</td>\n",
       "      <td>33</td>\n",
       "      <td>1</td>\n",
       "    </tr>\n",
       "  </tbody>\n",
       "</table>\n",
       "</div>"
      ],
      "text/plain": [
       "   Pregnancies  Glucose  BloodPressure  SkinThickness  Insulin   BMI  \\\n",
       "0            6      148             72             35        0  33.6   \n",
       "1            1       85             66             29        0  26.6   \n",
       "2            8      183             64              0        0  23.3   \n",
       "3            1       89             66             23       94  28.1   \n",
       "4            0      137             40             35      168  43.1   \n",
       "\n",
       "   DiabetesPedigreeFunction  Age  Outcome  \n",
       "0                     0.627   50        1  \n",
       "1                     0.351   31        0  \n",
       "2                     0.672   32        1  \n",
       "3                     0.167   21        0  \n",
       "4                     2.288   33        1  "
      ]
     },
     "execution_count": 6,
     "metadata": {},
     "output_type": "execute_result"
    }
   ],
   "source": [
    "import pandas as pd\n",
    "from IPython.core.interactiveshell import InteractiveShell\n",
    "InteractiveShell.ast_node_interactivity = \"all\"\n",
    "\n",
    "# data frame\n",
    "df = pd.read_csv('data/diabetes.csv')\n",
    "df.head(5)"
   ]
  },
  {
   "cell_type": "code",
   "execution_count": 7,
   "metadata": {},
   "outputs": [],
   "source": [
    "# set X and y\n",
    "X = df.iloc[:, 0:8].values\n",
    "y = df.iloc[:, 8].values"
   ]
  },
  {
   "cell_type": "code",
   "execution_count": 8,
   "metadata": {},
   "outputs": [
    {
     "data": {
      "text/plain": [
       "array([[ 0.63994726,  0.84832379,  0.14964075,  0.90726993, -0.69289057,\n",
       "         0.20401277,  0.46849198,  1.4259954 ],\n",
       "       [-0.84488505, -1.12339636, -0.16054575,  0.53090156, -0.69289057,\n",
       "        -0.68442195, -0.36506078, -0.19067191],\n",
       "       [ 1.23388019,  1.94372388, -0.26394125, -1.28821221, -0.69289057,\n",
       "        -1.10325546,  0.60439732, -0.10558415]])"
      ]
     },
     "execution_count": 8,
     "metadata": {},
     "output_type": "execute_result"
    }
   ],
   "source": [
    "from sklearn.preprocessing import StandardScaler\n",
    "\n",
    "# feature scaling\n",
    "sc = StandardScaler()\n",
    "X = sc.fit_transform(X)\n",
    "X[:3,:]"
   ]
  },
  {
   "cell_type": "code",
   "execution_count": 9,
   "metadata": {},
   "outputs": [
    {
     "data": {
      "text/plain": [
       "(614, 8)"
      ]
     },
     "execution_count": 9,
     "metadata": {},
     "output_type": "execute_result"
    },
    {
     "data": {
      "text/plain": [
       "(614,)"
      ]
     },
     "execution_count": 9,
     "metadata": {},
     "output_type": "execute_result"
    }
   ],
   "source": [
    "from sklearn.model_selection import train_test_split\n",
    "\n",
    "# split dataset\n",
    "X_train, X_test, y_train, y_test = train_test_split(X, y, test_size = 0.2, random_state = 0, stratify=y)\n",
    "X_train.shape\n",
    "y_train.shape"
   ]
  },
  {
   "cell_type": "markdown",
   "metadata": {},
   "source": [
    "### 1. Binary-Classification Model\n"
   ]
  },
  {
   "cell_type": "code",
   "execution_count": 21,
   "metadata": {},
   "outputs": [],
   "source": [
    "import numpy as np\n",
    "\n",
    "from tensorflow.keras.models import Sequential\n",
    "from tensorflow.keras.layers import Dense\n",
    "from tensorflow.keras.optimizers import Adam\n",
    "\n",
    "model = Sequential()\n",
    "model.add(Dense(units = 20, kernel_initializer = 'uniform', activation = 'relu', input_dim = 8))\n",
    "model.add(Dense(units = 10, kernel_initializer = 'uniform', activation = 'relu'))\n",
    "model.add(Dense(units = 1, kernel_initializer = 'uniform', activation = 'sigmoid'))\n",
    "model.compile(optimizer = 'Adam',\n",
    "              loss='binary_crossentropy',\n",
    "              metrics=['accuracy'])"
   ]
  },
  {
   "cell_type": "code",
   "execution_count": 22,
   "metadata": {
    "scrolled": true
   },
   "outputs": [
    {
     "name": "stdout",
     "output_type": "stream",
     "text": [
      "Train on 552 samples, validate on 62 samples\n",
      "Epoch 1/100\n",
      "552/552 - 0s - loss: 0.6526 - accuracy: 0.6558 - val_loss: 0.5909 - val_accuracy: 0.5968\n",
      "Epoch 2/100\n",
      "552/552 - 0s - loss: 0.5259 - accuracy: 0.6576 - val_loss: 0.5669 - val_accuracy: 0.5968\n",
      "Epoch 3/100\n",
      "552/552 - 0s - loss: 0.5115 - accuracy: 0.6576 - val_loss: 0.5613 - val_accuracy: 0.5968\n",
      "Epoch 4/100\n",
      "552/552 - 0s - loss: 0.5076 - accuracy: 0.7681 - val_loss: 0.5570 - val_accuracy: 0.7419\n",
      "Epoch 5/100\n",
      "552/552 - 0s - loss: 0.5032 - accuracy: 0.7808 - val_loss: 0.5555 - val_accuracy: 0.7581\n",
      "Epoch 6/100\n",
      "552/552 - 0s - loss: 0.4998 - accuracy: 0.7862 - val_loss: 0.5513 - val_accuracy: 0.7419\n",
      "Epoch 7/100\n",
      "552/552 - 0s - loss: 0.4974 - accuracy: 0.7790 - val_loss: 0.5494 - val_accuracy: 0.7419\n",
      "Epoch 8/100\n",
      "552/552 - 0s - loss: 0.4949 - accuracy: 0.7808 - val_loss: 0.5488 - val_accuracy: 0.7419\n",
      "Epoch 9/100\n",
      "552/552 - 0s - loss: 0.4912 - accuracy: 0.7844 - val_loss: 0.5472 - val_accuracy: 0.7742\n",
      "Epoch 10/100\n",
      "552/552 - 0s - loss: 0.4897 - accuracy: 0.7826 - val_loss: 0.5442 - val_accuracy: 0.7581\n",
      "Epoch 11/100\n",
      "552/552 - 0s - loss: 0.4877 - accuracy: 0.7772 - val_loss: 0.5411 - val_accuracy: 0.7581\n",
      "Epoch 12/100\n",
      "552/552 - 0s - loss: 0.4835 - accuracy: 0.7844 - val_loss: 0.5470 - val_accuracy: 0.7581\n",
      "Epoch 13/100\n",
      "552/552 - 0s - loss: 0.4835 - accuracy: 0.7844 - val_loss: 0.5442 - val_accuracy: 0.7742\n",
      "Epoch 14/100\n",
      "552/552 - 0s - loss: 0.4814 - accuracy: 0.7808 - val_loss: 0.5414 - val_accuracy: 0.7742\n",
      "Epoch 15/100\n",
      "552/552 - 0s - loss: 0.4789 - accuracy: 0.7844 - val_loss: 0.5395 - val_accuracy: 0.7742\n",
      "Epoch 16/100\n",
      "552/552 - 0s - loss: 0.4761 - accuracy: 0.7790 - val_loss: 0.5386 - val_accuracy: 0.7742\n",
      "Epoch 17/100\n",
      "552/552 - 0s - loss: 0.4753 - accuracy: 0.7808 - val_loss: 0.5389 - val_accuracy: 0.7742\n",
      "Epoch 18/100\n",
      "552/552 - 0s - loss: 0.4741 - accuracy: 0.7826 - val_loss: 0.5420 - val_accuracy: 0.7581\n",
      "Epoch 19/100\n",
      "552/552 - 0s - loss: 0.4732 - accuracy: 0.7808 - val_loss: 0.5402 - val_accuracy: 0.7742\n",
      "Epoch 20/100\n",
      "552/552 - 0s - loss: 0.4703 - accuracy: 0.7808 - val_loss: 0.5409 - val_accuracy: 0.7742\n",
      "Epoch 21/100\n",
      "552/552 - 0s - loss: 0.4689 - accuracy: 0.7808 - val_loss: 0.5384 - val_accuracy: 0.7581\n",
      "Epoch 22/100\n",
      "552/552 - 0s - loss: 0.4678 - accuracy: 0.7717 - val_loss: 0.5406 - val_accuracy: 0.7742\n",
      "Epoch 23/100\n",
      "552/552 - 0s - loss: 0.4653 - accuracy: 0.7790 - val_loss: 0.5413 - val_accuracy: 0.7581\n",
      "Epoch 24/100\n",
      "552/552 - 0s - loss: 0.4650 - accuracy: 0.7826 - val_loss: 0.5398 - val_accuracy: 0.7419\n",
      "Epoch 25/100\n",
      "552/552 - 0s - loss: 0.4622 - accuracy: 0.7790 - val_loss: 0.5392 - val_accuracy: 0.7419\n",
      "Epoch 26/100\n",
      "552/552 - 0s - loss: 0.4610 - accuracy: 0.7808 - val_loss: 0.5400 - val_accuracy: 0.7419\n",
      "Epoch 27/100\n",
      "552/552 - 0s - loss: 0.4597 - accuracy: 0.7790 - val_loss: 0.5394 - val_accuracy: 0.7419\n",
      "Epoch 28/100\n",
      "552/552 - 0s - loss: 0.4576 - accuracy: 0.7826 - val_loss: 0.5438 - val_accuracy: 0.7581\n",
      "Epoch 29/100\n",
      "552/552 - 0s - loss: 0.4577 - accuracy: 0.7862 - val_loss: 0.5389 - val_accuracy: 0.7419\n",
      "Epoch 30/100\n",
      "552/552 - 0s - loss: 0.4555 - accuracy: 0.7917 - val_loss: 0.5481 - val_accuracy: 0.7419\n",
      "Epoch 31/100\n",
      "552/552 - 0s - loss: 0.4554 - accuracy: 0.7808 - val_loss: 0.5458 - val_accuracy: 0.7419\n",
      "Epoch 32/100\n",
      "552/552 - 0s - loss: 0.4524 - accuracy: 0.7862 - val_loss: 0.5479 - val_accuracy: 0.7419\n",
      "Epoch 33/100\n",
      "552/552 - 0s - loss: 0.4524 - accuracy: 0.7808 - val_loss: 0.5485 - val_accuracy: 0.7581\n",
      "Epoch 34/100\n",
      "552/552 - 0s - loss: 0.4523 - accuracy: 0.7899 - val_loss: 0.5442 - val_accuracy: 0.7419\n",
      "Epoch 35/100\n",
      "552/552 - 0s - loss: 0.4499 - accuracy: 0.7826 - val_loss: 0.5457 - val_accuracy: 0.7258\n",
      "Epoch 36/100\n",
      "552/552 - 0s - loss: 0.4487 - accuracy: 0.7899 - val_loss: 0.5441 - val_accuracy: 0.7258\n",
      "Epoch 37/100\n",
      "552/552 - 0s - loss: 0.4479 - accuracy: 0.7899 - val_loss: 0.5501 - val_accuracy: 0.7419\n",
      "Epoch 38/100\n",
      "552/552 - 0s - loss: 0.4462 - accuracy: 0.7844 - val_loss: 0.5461 - val_accuracy: 0.7419\n",
      "Epoch 39/100\n",
      "552/552 - 0s - loss: 0.4457 - accuracy: 0.7844 - val_loss: 0.5532 - val_accuracy: 0.7419\n",
      "Epoch 40/100\n",
      "552/552 - 0s - loss: 0.4451 - accuracy: 0.7880 - val_loss: 0.5511 - val_accuracy: 0.7419\n",
      "Epoch 41/100\n",
      "552/552 - 0s - loss: 0.4434 - accuracy: 0.7935 - val_loss: 0.5485 - val_accuracy: 0.7419\n",
      "Epoch 42/100\n",
      "552/552 - 0s - loss: 0.4422 - accuracy: 0.7844 - val_loss: 0.5574 - val_accuracy: 0.7419\n",
      "Epoch 43/100\n",
      "552/552 - 0s - loss: 0.4425 - accuracy: 0.7880 - val_loss: 0.5531 - val_accuracy: 0.7419\n",
      "Epoch 44/100\n",
      "552/552 - 0s - loss: 0.4438 - accuracy: 0.7935 - val_loss: 0.5510 - val_accuracy: 0.7419\n",
      "Epoch 45/100\n",
      "552/552 - 0s - loss: 0.4384 - accuracy: 0.7989 - val_loss: 0.5538 - val_accuracy: 0.7419\n",
      "Epoch 46/100\n",
      "552/552 - 0s - loss: 0.4402 - accuracy: 0.7953 - val_loss: 0.5557 - val_accuracy: 0.7419\n",
      "Epoch 47/100\n",
      "552/552 - 0s - loss: 0.4391 - accuracy: 0.7917 - val_loss: 0.5507 - val_accuracy: 0.7097\n",
      "Epoch 48/100\n",
      "552/552 - 0s - loss: 0.4378 - accuracy: 0.7917 - val_loss: 0.5524 - val_accuracy: 0.7097\n",
      "Epoch 49/100\n",
      "552/552 - 0s - loss: 0.4374 - accuracy: 0.7989 - val_loss: 0.5561 - val_accuracy: 0.7258\n",
      "Epoch 50/100\n",
      "552/552 - 0s - loss: 0.4349 - accuracy: 0.7989 - val_loss: 0.5531 - val_accuracy: 0.7419\n",
      "Epoch 51/100\n",
      "552/552 - 0s - loss: 0.4382 - accuracy: 0.7971 - val_loss: 0.5553 - val_accuracy: 0.7258\n",
      "Epoch 52/100\n",
      "552/552 - 0s - loss: 0.4358 - accuracy: 0.8007 - val_loss: 0.5571 - val_accuracy: 0.7258\n",
      "Epoch 53/100\n",
      "552/552 - 0s - loss: 0.4354 - accuracy: 0.7971 - val_loss: 0.5546 - val_accuracy: 0.7258\n",
      "Epoch 54/100\n",
      "552/552 - 0s - loss: 0.4338 - accuracy: 0.8098 - val_loss: 0.5544 - val_accuracy: 0.7258\n",
      "Epoch 55/100\n",
      "552/552 - 0s - loss: 0.4344 - accuracy: 0.8025 - val_loss: 0.5547 - val_accuracy: 0.7258\n",
      "Epoch 56/100\n",
      "552/552 - 0s - loss: 0.4340 - accuracy: 0.7935 - val_loss: 0.5564 - val_accuracy: 0.7419\n",
      "Epoch 57/100\n",
      "552/552 - 0s - loss: 0.4309 - accuracy: 0.8007 - val_loss: 0.5557 - val_accuracy: 0.7419\n",
      "Epoch 58/100\n",
      "552/552 - 0s - loss: 0.4303 - accuracy: 0.8080 - val_loss: 0.5589 - val_accuracy: 0.7258\n",
      "Epoch 59/100\n",
      "552/552 - 0s - loss: 0.4279 - accuracy: 0.8062 - val_loss: 0.5545 - val_accuracy: 0.7419\n",
      "Epoch 60/100\n",
      "552/552 - 0s - loss: 0.4279 - accuracy: 0.8062 - val_loss: 0.5554 - val_accuracy: 0.7419\n",
      "Epoch 61/100\n",
      "552/552 - 0s - loss: 0.4270 - accuracy: 0.8116 - val_loss: 0.5586 - val_accuracy: 0.7419\n",
      "Epoch 62/100\n",
      "552/552 - 0s - loss: 0.4279 - accuracy: 0.8134 - val_loss: 0.5570 - val_accuracy: 0.7258\n",
      "Epoch 63/100\n",
      "552/552 - 0s - loss: 0.4257 - accuracy: 0.8170 - val_loss: 0.5556 - val_accuracy: 0.7419\n",
      "Epoch 64/100\n",
      "552/552 - 0s - loss: 0.4246 - accuracy: 0.8116 - val_loss: 0.5559 - val_accuracy: 0.7419\n",
      "Epoch 65/100\n",
      "552/552 - 0s - loss: 0.4237 - accuracy: 0.8116 - val_loss: 0.5581 - val_accuracy: 0.7419\n",
      "Epoch 66/100\n",
      "552/552 - 0s - loss: 0.4222 - accuracy: 0.8062 - val_loss: 0.5577 - val_accuracy: 0.7419\n",
      "Epoch 67/100\n",
      "552/552 - 0s - loss: 0.4239 - accuracy: 0.8116 - val_loss: 0.5587 - val_accuracy: 0.7419\n",
      "Epoch 68/100\n",
      "552/552 - 0s - loss: 0.4214 - accuracy: 0.8170 - val_loss: 0.5592 - val_accuracy: 0.7419\n",
      "Epoch 69/100\n",
      "552/552 - 0s - loss: 0.4222 - accuracy: 0.8207 - val_loss: 0.5588 - val_accuracy: 0.7419\n",
      "Epoch 70/100\n",
      "552/552 - 0s - loss: 0.4215 - accuracy: 0.8116 - val_loss: 0.5568 - val_accuracy: 0.7419\n",
      "Epoch 71/100\n",
      "552/552 - 0s - loss: 0.4202 - accuracy: 0.8116 - val_loss: 0.5611 - val_accuracy: 0.7419\n",
      "Epoch 72/100\n",
      "552/552 - 0s - loss: 0.4217 - accuracy: 0.8152 - val_loss: 0.5566 - val_accuracy: 0.7419\n",
      "Epoch 73/100\n",
      "552/552 - 0s - loss: 0.4203 - accuracy: 0.8116 - val_loss: 0.5579 - val_accuracy: 0.7419\n",
      "Epoch 74/100\n",
      "552/552 - 0s - loss: 0.4212 - accuracy: 0.8080 - val_loss: 0.5579 - val_accuracy: 0.7258\n",
      "Epoch 75/100\n",
      "552/552 - 0s - loss: 0.4182 - accuracy: 0.8170 - val_loss: 0.5601 - val_accuracy: 0.7419\n",
      "Epoch 76/100\n",
      "552/552 - 0s - loss: 0.4172 - accuracy: 0.8225 - val_loss: 0.5585 - val_accuracy: 0.7258\n",
      "Epoch 77/100\n",
      "552/552 - 0s - loss: 0.4167 - accuracy: 0.8116 - val_loss: 0.5592 - val_accuracy: 0.7258\n",
      "Epoch 78/100\n",
      "552/552 - 0s - loss: 0.4149 - accuracy: 0.8152 - val_loss: 0.5592 - val_accuracy: 0.7419\n",
      "Epoch 79/100\n",
      "552/552 - 0s - loss: 0.4151 - accuracy: 0.8188 - val_loss: 0.5592 - val_accuracy: 0.7258\n",
      "Epoch 80/100\n",
      "552/552 - 0s - loss: 0.4148 - accuracy: 0.8170 - val_loss: 0.5599 - val_accuracy: 0.7258\n"
     ]
    },
    {
     "name": "stdout",
     "output_type": "stream",
     "text": [
      "Epoch 81/100\n",
      "552/552 - 0s - loss: 0.4130 - accuracy: 0.8080 - val_loss: 0.5626 - val_accuracy: 0.7419\n",
      "Epoch 82/100\n",
      "552/552 - 0s - loss: 0.4138 - accuracy: 0.8134 - val_loss: 0.5671 - val_accuracy: 0.7419\n",
      "Epoch 83/100\n",
      "552/552 - 0s - loss: 0.4126 - accuracy: 0.8207 - val_loss: 0.5653 - val_accuracy: 0.7419\n",
      "Epoch 84/100\n",
      "552/552 - 0s - loss: 0.4112 - accuracy: 0.8152 - val_loss: 0.5665 - val_accuracy: 0.7419\n",
      "Epoch 85/100\n",
      "552/552 - 0s - loss: 0.4112 - accuracy: 0.8243 - val_loss: 0.5667 - val_accuracy: 0.7258\n",
      "Epoch 86/100\n",
      "552/552 - 0s - loss: 0.4118 - accuracy: 0.8261 - val_loss: 0.5705 - val_accuracy: 0.7419\n",
      "Epoch 87/100\n",
      "552/552 - 0s - loss: 0.4104 - accuracy: 0.8188 - val_loss: 0.5709 - val_accuracy: 0.7419\n",
      "Epoch 88/100\n",
      "552/552 - 0s - loss: 0.4083 - accuracy: 0.8080 - val_loss: 0.5712 - val_accuracy: 0.7258\n",
      "Epoch 89/100\n",
      "552/552 - 0s - loss: 0.4084 - accuracy: 0.8207 - val_loss: 0.5684 - val_accuracy: 0.7258\n",
      "Epoch 90/100\n",
      "552/552 - 0s - loss: 0.4060 - accuracy: 0.8207 - val_loss: 0.5725 - val_accuracy: 0.7258\n",
      "Epoch 91/100\n",
      "552/552 - 0s - loss: 0.4058 - accuracy: 0.8225 - val_loss: 0.5757 - val_accuracy: 0.7581\n",
      "Epoch 92/100\n",
      "552/552 - 0s - loss: 0.4061 - accuracy: 0.8116 - val_loss: 0.5759 - val_accuracy: 0.7419\n",
      "Epoch 93/100\n",
      "552/552 - 0s - loss: 0.4051 - accuracy: 0.8243 - val_loss: 0.5753 - val_accuracy: 0.7419\n",
      "Epoch 94/100\n",
      "552/552 - 0s - loss: 0.4074 - accuracy: 0.8134 - val_loss: 0.5737 - val_accuracy: 0.7419\n",
      "Epoch 95/100\n",
      "552/552 - 0s - loss: 0.4033 - accuracy: 0.8207 - val_loss: 0.5816 - val_accuracy: 0.7419\n",
      "Epoch 96/100\n",
      "552/552 - 0s - loss: 0.4029 - accuracy: 0.8098 - val_loss: 0.5842 - val_accuracy: 0.7419\n",
      "Epoch 97/100\n",
      "552/552 - 0s - loss: 0.4033 - accuracy: 0.8261 - val_loss: 0.5856 - val_accuracy: 0.7419\n",
      "Epoch 98/100\n",
      "552/552 - 0s - loss: 0.4040 - accuracy: 0.8207 - val_loss: 0.5813 - val_accuracy: 0.7419\n",
      "Epoch 99/100\n",
      "552/552 - 0s - loss: 0.3996 - accuracy: 0.8297 - val_loss: 0.5853 - val_accuracy: 0.7419\n",
      "Epoch 100/100\n",
      "552/552 - 0s - loss: 0.4008 - accuracy: 0.8188 - val_loss: 0.5840 - val_accuracy: 0.7258\n"
     ]
    },
    {
     "data": {
      "text/plain": [
       "<tensorflow.python.keras.callbacks.History at 0x1a926643488>"
      ]
     },
     "execution_count": 22,
     "metadata": {},
     "output_type": "execute_result"
    }
   ],
   "source": [
    "model.fit(X_train, y_train, validation_split=0.1, batch_size = 4, epochs = 100, verbose=2)"
   ]
  },
  {
   "cell_type": "code",
   "execution_count": 23,
   "metadata": {},
   "outputs": [],
   "source": [
    "y_pred = model.predict(X_test)\n",
    "y_pred = (y_pred > 0.5)"
   ]
  },
  {
   "cell_type": "markdown",
   "metadata": {},
   "source": [
    "### 2. Analysis"
   ]
  },
  {
   "cell_type": "code",
   "execution_count": 24,
   "metadata": {},
   "outputs": [
    {
     "name": "stdout",
     "output_type": "stream",
     "text": [
      "              precision    recall  f1-score   support\n",
      "\n",
      "           0       0.87      0.90      0.89       100\n",
      "           1       0.80      0.76      0.78        54\n",
      "\n",
      "   micro avg       0.85      0.85      0.85       154\n",
      "   macro avg       0.84      0.83      0.83       154\n",
      "weighted avg       0.85      0.85      0.85       154\n",
      "\n"
     ]
    }
   ],
   "source": [
    "from sklearn.metrics import classification_report\n",
    "\n",
    "# print report\n",
    "print(classification_report(y_test, y_pred))"
   ]
  },
  {
   "cell_type": "code",
   "execution_count": 25,
   "metadata": {},
   "outputs": [
    {
     "data": {
      "text/html": [
       "<div>\n",
       "<style scoped>\n",
       "    .dataframe tbody tr th:only-of-type {\n",
       "        vertical-align: middle;\n",
       "    }\n",
       "\n",
       "    .dataframe tbody tr th {\n",
       "        vertical-align: top;\n",
       "    }\n",
       "\n",
       "    .dataframe thead th {\n",
       "        text-align: right;\n",
       "    }\n",
       "</style>\n",
       "<table border=\"1\" class=\"dataframe\">\n",
       "  <thead>\n",
       "    <tr style=\"text-align: right;\">\n",
       "      <th></th>\n",
       "      <th>0</th>\n",
       "      <th>1</th>\n",
       "    </tr>\n",
       "  </thead>\n",
       "  <tbody>\n",
       "    <tr>\n",
       "      <th>0</th>\n",
       "      <td>90</td>\n",
       "      <td>10</td>\n",
       "    </tr>\n",
       "    <tr>\n",
       "      <th>1</th>\n",
       "      <td>13</td>\n",
       "      <td>41</td>\n",
       "    </tr>\n",
       "  </tbody>\n",
       "</table>\n",
       "</div>"
      ],
      "text/plain": [
       "    0   1\n",
       "0  90  10\n",
       "1  13  41"
      ]
     },
     "execution_count": 25,
     "metadata": {},
     "output_type": "execute_result"
    }
   ],
   "source": [
    "from sklearn.metrics import accuracy_score, confusion_matrix\n",
    "\n",
    "# get confusion matrix\n",
    "cm = confusion_matrix(y_test, y_pred)\n",
    "pd.DataFrame(cm)"
   ]
  },
  {
   "cell_type": "code",
   "execution_count": 27,
   "metadata": {},
   "outputs": [
    {
     "data": {
      "image/png": "[encoded data removed]",
      "text/plain": [
       "<Figure size 432x288 with 1 Axes>"
      ]
     },
     "metadata": {
      "needs_background": "light"
     },
     "output_type": "display_data"
    }
   ],
   "source": [
    "import matplotlib.pyplot as plt\n",
    "\n",
    "plt.imshow(cm, cmap='Blues');"
   ]
  },
  {
   "cell_type": "code",
   "execution_count": 29,
   "metadata": {},
   "outputs": [
    {
     "name": "stdout",
     "output_type": "stream",
     "text": [
      "Test accuracy for our ANN model: 85.06 %\n"
     ]
    }
   ],
   "source": [
    "print('Test accuracy for our ANN model:', \\\n",
    "      round(accuracy_score(y_test, y_pred)*100, 2),'%')"
   ]
  }
 ],
 "metadata": {
  "kernelspec": {
   "display_name": "Python 3",
   "language": "python",
   "name": "python3"
  },
  "language_info": {
   "codemirror_mode": {
    "name": "ipython",
    "version": 3
   },
   "file_extension": ".py",
   "mimetype": "text/x-python",
   "name": "python",
   "nbconvert_exporter": "python",
   "pygments_lexer": "ipython3",
   "version": "3.7.4"
  }
 },
 "nbformat": 4,
 "nbformat_minor": 2
}
