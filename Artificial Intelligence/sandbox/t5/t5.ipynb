{
 "cells": [
  {
   "cell_type": "markdown",
   "metadata": {},
   "source": [
    "# CS 4820\n",
    "# Tutorial 5: Data Pre-processing and Model Analysis\n",
    "\n",
    "In the labs and assignments that have worked on so far, input data were pretty much all ready for training and testing our ANN models. However, in the real-world situation, that is not necessarily the case thus requiring a data pre-processing phase.\n",
    "\n",
    "Also, as shown in the *ANN Intuition Part II* slides, other than accurary, we want to use additional measurements such as ${f_1}$ score and confusion matrix to analyze the performance of our model. "
   ]
  },
  {
   "cell_type": "markdown",
   "metadata": {},
   "source": [
    "### 0. The *bank_customers* Dataset and Data Preprocessing\n",
    "\n",
    "> Libraries used: pandas, sklearn\n",
    "\n",
    "\n",
    "The *bank_customers* dataset contains information of 10,000 customers at a Bank. We want to build our ANN model to predict if a customer will leave the bank.\n",
    "\n",
    "For such a dataset, the data pro-processing phase primarily involves the following steps:\n",
    "\n",
    "- Some features such as row number, customer id and customer surname are irrelevant to our task therefore need to be removed from the dataset. \n",
    "- Some features such as geography and geneder need to be encoded into numerical values.\n",
    "- All features need to be scaled/standardized. \n",
    "\n",
    "> [Why, How and When to Scale your Features](https://medium.com/greyatom/why-how-and-when-to-scale-your-features-4b30ab09db5e)\n",
    "\n",
    "\n",
    "It describes three species of 150 flowers, with four features each, so it’s a great example of a Multiclass classification. Let’s see how Multiclass classification’s done using Keras and the Iris dataset. First of all, let’s load the data."
   ]
  },
  {
   "cell_type": "code",
   "execution_count": 9,
   "metadata": {},
   "outputs": [],
   "source": [
    "#import matplotlib.pyplot as plt\n",
    "import pandas as pd\n",
    "\n",
    "# allow multiple outputs be displayed for each cell\n",
    "from IPython.core.interactiveshell import InteractiveShell\n",
    "InteractiveShell.ast_node_interactivity = \"all\""
   ]
  },
  {
   "cell_type": "code",
   "execution_count": 7,
   "metadata": {},
   "outputs": [
    {
     "data": {
      "text/html": [
       "<div>\n",
       "<style scoped>\n",
       "    .dataframe tbody tr th:only-of-type {\n",
       "        vertical-align: middle;\n",
       "    }\n",
       "\n",
       "    .dataframe tbody tr th {\n",
       "        vertical-align: top;\n",
       "    }\n",
       "\n",
       "    .dataframe thead th {\n",
       "        text-align: right;\n",
       "    }\n",
       "</style>\n",
       "<table border=\"1\" class=\"dataframe\">\n",
       "  <thead>\n",
       "    <tr style=\"text-align: right;\">\n",
       "      <th></th>\n",
       "      <th>RowNumber</th>\n",
       "      <th>CustomerId</th>\n",
       "      <th>Surname</th>\n",
       "      <th>CreditScore</th>\n",
       "      <th>Geography</th>\n",
       "      <th>Gender</th>\n",
       "      <th>Age</th>\n",
       "      <th>Tenure</th>\n",
       "      <th>Balance</th>\n",
       "      <th>NumOfProducts</th>\n",
       "      <th>HasCrCard</th>\n",
       "      <th>IsActiveMember</th>\n",
       "      <th>EstimatedSalary</th>\n",
       "      <th>Exited</th>\n",
       "    </tr>\n",
       "  </thead>\n",
       "  <tbody>\n",
       "    <tr>\n",
       "      <th>0</th>\n",
       "      <td>1</td>\n",
       "      <td>15634602</td>\n",
       "      <td>Hargrave</td>\n",
       "      <td>619</td>\n",
       "      <td>France</td>\n",
       "      <td>Female</td>\n",
       "      <td>42</td>\n",
       "      <td>2</td>\n",
       "      <td>0.00</td>\n",
       "      <td>1</td>\n",
       "      <td>1</td>\n",
       "      <td>1</td>\n",
       "      <td>101348.88</td>\n",
       "      <td>1</td>\n",
       "    </tr>\n",
       "    <tr>\n",
       "      <th>1</th>\n",
       "      <td>2</td>\n",
       "      <td>15647311</td>\n",
       "      <td>Hill</td>\n",
       "      <td>608</td>\n",
       "      <td>Spain</td>\n",
       "      <td>Female</td>\n",
       "      <td>41</td>\n",
       "      <td>1</td>\n",
       "      <td>83807.86</td>\n",
       "      <td>1</td>\n",
       "      <td>0</td>\n",
       "      <td>1</td>\n",
       "      <td>112542.58</td>\n",
       "      <td>0</td>\n",
       "    </tr>\n",
       "    <tr>\n",
       "      <th>2</th>\n",
       "      <td>3</td>\n",
       "      <td>15619304</td>\n",
       "      <td>Onio</td>\n",
       "      <td>502</td>\n",
       "      <td>France</td>\n",
       "      <td>Female</td>\n",
       "      <td>42</td>\n",
       "      <td>8</td>\n",
       "      <td>159660.80</td>\n",
       "      <td>3</td>\n",
       "      <td>1</td>\n",
       "      <td>0</td>\n",
       "      <td>113931.57</td>\n",
       "      <td>1</td>\n",
       "    </tr>\n",
       "    <tr>\n",
       "      <th>3</th>\n",
       "      <td>4</td>\n",
       "      <td>15701354</td>\n",
       "      <td>Boni</td>\n",
       "      <td>699</td>\n",
       "      <td>France</td>\n",
       "      <td>Female</td>\n",
       "      <td>39</td>\n",
       "      <td>1</td>\n",
       "      <td>0.00</td>\n",
       "      <td>2</td>\n",
       "      <td>0</td>\n",
       "      <td>0</td>\n",
       "      <td>93826.63</td>\n",
       "      <td>0</td>\n",
       "    </tr>\n",
       "    <tr>\n",
       "      <th>4</th>\n",
       "      <td>5</td>\n",
       "      <td>15737888</td>\n",
       "      <td>Mitchell</td>\n",
       "      <td>850</td>\n",
       "      <td>Spain</td>\n",
       "      <td>Female</td>\n",
       "      <td>43</td>\n",
       "      <td>2</td>\n",
       "      <td>125510.82</td>\n",
       "      <td>1</td>\n",
       "      <td>1</td>\n",
       "      <td>1</td>\n",
       "      <td>79084.10</td>\n",
       "      <td>0</td>\n",
       "    </tr>\n",
       "  </tbody>\n",
       "</table>\n",
       "</div>"
      ],
      "text/plain": [
       "   RowNumber  CustomerId   Surname  CreditScore Geography  Gender  Age  \\\n",
       "0          1    15634602  Hargrave          619    France  Female   42   \n",
       "1          2    15647311      Hill          608     Spain  Female   41   \n",
       "2          3    15619304      Onio          502    France  Female   42   \n",
       "3          4    15701354      Boni          699    France  Female   39   \n",
       "4          5    15737888  Mitchell          850     Spain  Female   43   \n",
       "\n",
       "   Tenure    Balance  NumOfProducts  HasCrCard  IsActiveMember  \\\n",
       "0       2       0.00              1          1               1   \n",
       "1       1   83807.86              1          0               1   \n",
       "2       8  159660.80              3          1               0   \n",
       "3       1       0.00              2          0               0   \n",
       "4       2  125510.82              1          1               1   \n",
       "\n",
       "   EstimatedSalary  Exited  \n",
       "0        101348.88       1  \n",
       "1        112542.58       0  \n",
       "2        113931.57       1  \n",
       "3         93826.63       0  \n",
       "4         79084.10       0  "
      ]
     },
     "execution_count": 7,
     "metadata": {},
     "output_type": "execute_result"
    }
   ],
   "source": [
    "# Importing the dataset\n",
    "df = pd.read_csv('./data/bank_customers.csv')\n",
    "df.head(5)"
   ]
  },
  {
   "cell_type": "markdown",
   "metadata": {},
   "source": [
    "#### 0.1 First, let's remove the irrelevant information and seprate the input data from the targets."
   ]
  },
  {
   "cell_type": "code",
   "execution_count": 108,
   "metadata": {},
   "outputs": [
    {
     "data": {
      "text/plain": [
       "array([[619, 'France', 'Female', 42, 2, 0.0, 1, 1, 1, 101348.88],\n",
       "       [608, 'Spain', 'Female', 41, 1, 83807.86, 1, 0, 1, 112542.58],\n",
       "       [502, 'France', 'Female', 42, 8, 159660.8, 3, 1, 0, 113931.57],\n",
       "       [699, 'France', 'Female', 39, 1, 0.0, 2, 0, 0, 93826.63],\n",
       "       [850, 'Spain', 'Female', 43, 2, 125510.82, 1, 1, 1, 79084.1]],\n",
       "      dtype=object)"
      ]
     },
     "execution_count": 108,
     "metadata": {},
     "output_type": "execute_result"
    },
    {
     "data": {
      "text/plain": [
       "array([1, 0, 1, 0, 0])"
      ]
     },
     "execution_count": 108,
     "metadata": {},
     "output_type": "execute_result"
    }
   ],
   "source": [
    "#df.iloc[:, 3:13].head(5)\n",
    "#df.iloc[:, 13].head(5)\n",
    "\n",
    "X = df.iloc[:, 3:13].values\n",
    "X[:5,:]\n",
    "y = df.iloc[:, 13].values\n",
    "y[:5]"
   ]
  },
  {
   "cell_type": "markdown",
   "metadata": {},
   "source": [
    "#### 0.2 Second, encode the categorical input darta"
   ]
  },
  {
   "cell_type": "code",
   "execution_count": 109,
   "metadata": {},
   "outputs": [
    {
     "data": {
      "text/plain": [
       "array([[619, 0, 'Female', 42, 2, 0.0, 1, 1, 1, 101348.88],\n",
       "       [608, 2, 'Female', 41, 1, 83807.86, 1, 0, 1, 112542.58],\n",
       "       [502, 0, 'Female', 42, 8, 159660.8, 3, 1, 0, 113931.57],\n",
       "       [699, 0, 'Female', 39, 1, 0.0, 2, 0, 0, 93826.63],\n",
       "       [850, 2, 'Female', 43, 2, 125510.82, 1, 1, 1, 79084.1],\n",
       "       [645, 2, 'Male', 44, 8, 113755.78, 2, 1, 0, 149756.71],\n",
       "       [822, 0, 'Male', 50, 7, 0.0, 2, 1, 1, 10062.8],\n",
       "       [376, 1, 'Female', 29, 4, 115046.74, 4, 1, 0, 119346.88],\n",
       "       [501, 0, 'Male', 44, 4, 142051.07, 2, 0, 1, 74940.5],\n",
       "       [684, 0, 'Male', 27, 2, 134603.88, 1, 1, 1, 71725.73],\n",
       "       [528, 0, 'Male', 31, 6, 102016.72, 2, 0, 0, 80181.12],\n",
       "       [497, 2, 'Male', 24, 3, 0.0, 2, 1, 0, 76390.01],\n",
       "       [476, 0, 'Female', 34, 10, 0.0, 2, 1, 0, 26260.98],\n",
       "       [549, 0, 'Female', 25, 5, 0.0, 2, 0, 0, 190857.79],\n",
       "       [635, 2, 'Female', 35, 7, 0.0, 2, 1, 1, 65951.65]], dtype=object)"
      ]
     },
     "execution_count": 109,
     "metadata": {},
     "output_type": "execute_result"
    }
   ],
   "source": [
    "from sklearn.preprocessing import LabelEncoder, OneHotEncoder\n",
    "\n",
    "# country\n",
    "labelencoder_X_1 = LabelEncoder()\n",
    "X[:, 1] = labelencoder_X_1.fit_transform(X[:, 1])\n",
    "X[:15,:]"
   ]
  },
  {
   "cell_type": "code",
   "execution_count": 110,
   "metadata": {},
   "outputs": [
    {
     "data": {
      "text/plain": [
       "array([[619, 0, 0, 42, 2, 0.0, 1, 1, 1, 101348.88],\n",
       "       [608, 2, 0, 41, 1, 83807.86, 1, 0, 1, 112542.58],\n",
       "       [502, 0, 0, 42, 8, 159660.8, 3, 1, 0, 113931.57],\n",
       "       [699, 0, 0, 39, 1, 0.0, 2, 0, 0, 93826.63],\n",
       "       [850, 2, 0, 43, 2, 125510.82, 1, 1, 1, 79084.1],\n",
       "       [645, 2, 1, 44, 8, 113755.78, 2, 1, 0, 149756.71],\n",
       "       [822, 0, 1, 50, 7, 0.0, 2, 1, 1, 10062.8],\n",
       "       [376, 1, 0, 29, 4, 115046.74, 4, 1, 0, 119346.88],\n",
       "       [501, 0, 1, 44, 4, 142051.07, 2, 0, 1, 74940.5],\n",
       "       [684, 0, 1, 27, 2, 134603.88, 1, 1, 1, 71725.73],\n",
       "       [528, 0, 1, 31, 6, 102016.72, 2, 0, 0, 80181.12],\n",
       "       [497, 2, 1, 24, 3, 0.0, 2, 1, 0, 76390.01],\n",
       "       [476, 0, 0, 34, 10, 0.0, 2, 1, 0, 26260.98],\n",
       "       [549, 0, 0, 25, 5, 0.0, 2, 0, 0, 190857.79],\n",
       "       [635, 2, 0, 35, 7, 0.0, 2, 1, 1, 65951.65]], dtype=object)"
      ]
     },
     "execution_count": 110,
     "metadata": {},
     "output_type": "execute_result"
    }
   ],
   "source": [
    "# gender\n",
    "labelencoder_X_2 = LabelEncoder()\n",
    "X[:, 2] = labelencoder_X_2.fit_transform(X[:, 2])\n",
    "X[:15,:]"
   ]
  },
  {
   "cell_type": "code",
   "execution_count": 111,
   "metadata": {},
   "outputs": [
    {
     "name": "stderr",
     "output_type": "stream",
     "text": [
      "/anaconda3/envs/CS4820/lib/python3.7/site-packages/sklearn/preprocessing/_encoders.py:371: FutureWarning: The handling of integer data will change in version 0.22. Currently, the categories are determined based on the range [0, max(values)], while in the future they will be determined based on the unique values.\n",
      "If you want the future behaviour and silence this warning, you can specify \"categories='auto'\".\n",
      "In case you used a LabelEncoder before this OneHotEncoder to convert the categories to integers, then you can now use the OneHotEncoder directly.\n",
      "  warnings.warn(msg, FutureWarning)\n",
      "/anaconda3/envs/CS4820/lib/python3.7/site-packages/sklearn/preprocessing/_encoders.py:392: DeprecationWarning: The 'categorical_features' keyword is deprecated in version 0.20 and will be removed in 0.22. You can use the ColumnTransformer instead.\n",
      "  \"use the ColumnTransformer instead.\", DeprecationWarning)\n"
     ]
    },
    {
     "data": {
      "text/plain": [
       "array([[1.0000000e+00, 0.0000000e+00, 0.0000000e+00, 6.1900000e+02,\n",
       "        0.0000000e+00, 4.2000000e+01, 2.0000000e+00, 0.0000000e+00,\n",
       "        1.0000000e+00, 1.0000000e+00, 1.0000000e+00, 1.0134888e+05],\n",
       "       [0.0000000e+00, 0.0000000e+00, 1.0000000e+00, 6.0800000e+02,\n",
       "        0.0000000e+00, 4.1000000e+01, 1.0000000e+00, 8.3807860e+04,\n",
       "        1.0000000e+00, 0.0000000e+00, 1.0000000e+00, 1.1254258e+05],\n",
       "       [1.0000000e+00, 0.0000000e+00, 0.0000000e+00, 5.0200000e+02,\n",
       "        0.0000000e+00, 4.2000000e+01, 8.0000000e+00, 1.5966080e+05,\n",
       "        3.0000000e+00, 1.0000000e+00, 0.0000000e+00, 1.1393157e+05],\n",
       "       [1.0000000e+00, 0.0000000e+00, 0.0000000e+00, 6.9900000e+02,\n",
       "        0.0000000e+00, 3.9000000e+01, 1.0000000e+00, 0.0000000e+00,\n",
       "        2.0000000e+00, 0.0000000e+00, 0.0000000e+00, 9.3826630e+04],\n",
       "       [0.0000000e+00, 0.0000000e+00, 1.0000000e+00, 8.5000000e+02,\n",
       "        0.0000000e+00, 4.3000000e+01, 2.0000000e+00, 1.2551082e+05,\n",
       "        1.0000000e+00, 1.0000000e+00, 1.0000000e+00, 7.9084100e+04],\n",
       "       [0.0000000e+00, 0.0000000e+00, 1.0000000e+00, 6.4500000e+02,\n",
       "        1.0000000e+00, 4.4000000e+01, 8.0000000e+00, 1.1375578e+05,\n",
       "        2.0000000e+00, 1.0000000e+00, 0.0000000e+00, 1.4975671e+05],\n",
       "       [1.0000000e+00, 0.0000000e+00, 0.0000000e+00, 8.2200000e+02,\n",
       "        1.0000000e+00, 5.0000000e+01, 7.0000000e+00, 0.0000000e+00,\n",
       "        2.0000000e+00, 1.0000000e+00, 1.0000000e+00, 1.0062800e+04],\n",
       "       [0.0000000e+00, 1.0000000e+00, 0.0000000e+00, 3.7600000e+02,\n",
       "        0.0000000e+00, 2.9000000e+01, 4.0000000e+00, 1.1504674e+05,\n",
       "        4.0000000e+00, 1.0000000e+00, 0.0000000e+00, 1.1934688e+05],\n",
       "       [1.0000000e+00, 0.0000000e+00, 0.0000000e+00, 5.0100000e+02,\n",
       "        1.0000000e+00, 4.4000000e+01, 4.0000000e+00, 1.4205107e+05,\n",
       "        2.0000000e+00, 0.0000000e+00, 1.0000000e+00, 7.4940500e+04],\n",
       "       [1.0000000e+00, 0.0000000e+00, 0.0000000e+00, 6.8400000e+02,\n",
       "        1.0000000e+00, 2.7000000e+01, 2.0000000e+00, 1.3460388e+05,\n",
       "        1.0000000e+00, 1.0000000e+00, 1.0000000e+00, 7.1725730e+04]])"
      ]
     },
     "execution_count": 111,
     "metadata": {},
     "output_type": "execute_result"
    },
    {
     "data": {
      "text/plain": [
       "array([[0.0000000e+00, 0.0000000e+00, 6.1900000e+02, 0.0000000e+00,\n",
       "        4.2000000e+01, 2.0000000e+00, 0.0000000e+00, 1.0000000e+00,\n",
       "        1.0000000e+00, 1.0000000e+00, 1.0134888e+05],\n",
       "       [0.0000000e+00, 1.0000000e+00, 6.0800000e+02, 0.0000000e+00,\n",
       "        4.1000000e+01, 1.0000000e+00, 8.3807860e+04, 1.0000000e+00,\n",
       "        0.0000000e+00, 1.0000000e+00, 1.1254258e+05],\n",
       "       [0.0000000e+00, 0.0000000e+00, 5.0200000e+02, 0.0000000e+00,\n",
       "        4.2000000e+01, 8.0000000e+00, 1.5966080e+05, 3.0000000e+00,\n",
       "        1.0000000e+00, 0.0000000e+00, 1.1393157e+05],\n",
       "       [0.0000000e+00, 0.0000000e+00, 6.9900000e+02, 0.0000000e+00,\n",
       "        3.9000000e+01, 1.0000000e+00, 0.0000000e+00, 2.0000000e+00,\n",
       "        0.0000000e+00, 0.0000000e+00, 9.3826630e+04],\n",
       "       [0.0000000e+00, 1.0000000e+00, 8.5000000e+02, 0.0000000e+00,\n",
       "        4.3000000e+01, 2.0000000e+00, 1.2551082e+05, 1.0000000e+00,\n",
       "        1.0000000e+00, 1.0000000e+00, 7.9084100e+04],\n",
       "       [0.0000000e+00, 1.0000000e+00, 6.4500000e+02, 1.0000000e+00,\n",
       "        4.4000000e+01, 8.0000000e+00, 1.1375578e+05, 2.0000000e+00,\n",
       "        1.0000000e+00, 0.0000000e+00, 1.4975671e+05],\n",
       "       [0.0000000e+00, 0.0000000e+00, 8.2200000e+02, 1.0000000e+00,\n",
       "        5.0000000e+01, 7.0000000e+00, 0.0000000e+00, 2.0000000e+00,\n",
       "        1.0000000e+00, 1.0000000e+00, 1.0062800e+04],\n",
       "       [1.0000000e+00, 0.0000000e+00, 3.7600000e+02, 0.0000000e+00,\n",
       "        2.9000000e+01, 4.0000000e+00, 1.1504674e+05, 4.0000000e+00,\n",
       "        1.0000000e+00, 0.0000000e+00, 1.1934688e+05],\n",
       "       [0.0000000e+00, 0.0000000e+00, 5.0100000e+02, 1.0000000e+00,\n",
       "        4.4000000e+01, 4.0000000e+00, 1.4205107e+05, 2.0000000e+00,\n",
       "        0.0000000e+00, 1.0000000e+00, 7.4940500e+04],\n",
       "       [0.0000000e+00, 0.0000000e+00, 6.8400000e+02, 1.0000000e+00,\n",
       "        2.7000000e+01, 2.0000000e+00, 1.3460388e+05, 1.0000000e+00,\n",
       "        1.0000000e+00, 1.0000000e+00, 7.1725730e+04]])"
      ]
     },
     "execution_count": 111,
     "metadata": {},
     "output_type": "execute_result"
    }
   ],
   "source": [
    "onehotencoder = OneHotEncoder(categorical_features = [1])\n",
    "X = onehotencoder.fit_transform(X).toarray()\n",
    "X[:10,:]\n",
    "X = X[:, 1:]\n",
    "X[:10,:]"
   ]
  },
  {
   "cell_type": "markdown",
   "metadata": {},
   "source": [
    "#### 0.3 Feature Scaling\n",
    "The standard score of a sample $x$ is calculated as:\n",
    "\n",
    "$$ z = (x - u) / s $$\n",
    "where $u$ is the mean of the training samples or zero if `with_mean=False`, and $s$ is the standard deviation of the training samples or one if `with_std=False`"
   ]
  },
  {
   "cell_type": "code",
   "execution_count": 112,
   "metadata": {},
   "outputs": [
    {
     "data": {
      "text/plain": [
       "array([[-0.57873591, -0.57380915, -0.32622142, -1.09598752,  0.29351742,\n",
       "        -1.04175968, -1.22584767, -0.91158349,  0.64609167,  0.97024255,\n",
       "         0.02188649],\n",
       "       [-0.57873591,  1.74273971, -0.44003595, -1.09598752,  0.19816383,\n",
       "        -1.38753759,  0.11735002, -0.91158349, -1.54776799,  0.97024255,\n",
       "         0.21653375],\n",
       "       [-0.57873591, -0.57380915, -1.53679418, -1.09598752,  0.29351742,\n",
       "         1.03290776,  1.33305335,  2.52705662,  0.64609167, -1.03067011,\n",
       "         0.2406869 ],\n",
       "       [-0.57873591, -0.57380915,  0.50152063, -1.09598752,  0.00745665,\n",
       "        -1.38753759, -1.22584767,  0.80773656, -1.54776799, -1.03067011,\n",
       "        -0.10891792],\n",
       "       [-0.57873591,  1.74273971,  2.06388377, -1.09598752,  0.38887101,\n",
       "        -1.04175968,  0.7857279 , -0.91158349,  0.64609167,  0.97024255,\n",
       "        -0.36527578]])"
      ]
     },
     "execution_count": 112,
     "metadata": {},
     "output_type": "execute_result"
    }
   ],
   "source": [
    "from sklearn.preprocessing import StandardScaler\n",
    "\n",
    "sc = StandardScaler()\n",
    "X = sc.fit_transform(X)\n",
    "X[:5,:]"
   ]
  },
  {
   "cell_type": "markdown",
   "metadata": {},
   "source": [
    "#### 0.4 Splitting the dataset into the Training set and Test set\n",
    "\n",
    "Finally, we create a train and test split, with 20% test size. Notice that we introduce 2 more parameters:\n",
    "\n",
    "- `random_state = 0` sets the seed of the random number generator in a way that we all get the same results.\n",
    "- `stratify = y` to make sure that we preserve the ratio of labels in each set, i.e. we want each set to be composed of one third of each flower type."
   ]
  },
  {
   "cell_type": "code",
   "execution_count": 113,
   "metadata": {},
   "outputs": [
    {
     "data": {
      "text/plain": [
       "(8000, 11)"
      ]
     },
     "execution_count": 113,
     "metadata": {},
     "output_type": "execute_result"
    },
    {
     "data": {
      "text/plain": [
       "(8000,)"
      ]
     },
     "execution_count": 113,
     "metadata": {},
     "output_type": "execute_result"
    }
   ],
   "source": [
    "from sklearn.model_selection import train_test_split\n",
    "X_train, X_test, y_train, y_test = train_test_split(X, y, test_size = 0.2, random_state = 0, stratify=y)\n",
    "X_train.shape\n",
    "y_train.shape"
   ]
  },
  {
   "cell_type": "markdown",
   "metadata": {},
   "source": [
    "### 1. Binary-Classification Model\n",
    "\n",
    "> Libraries used: numpy, keras\n",
    "\n",
    "Now let's create an ANN model with:\n",
    "\n",
    "* 11 features in input (Geography - onehotencoded, Credit Score, Gender, Age, Tenure, Balance, NumOfProducts, HadCrCard, IsActiveMemeber, EstimatedSalary)\n",
    "* 2 hidden layers; 6 neurons per layer; ReLU activation\n",
    "* 1 neuron in output; sigmoid activation"
   ]
  },
  {
   "cell_type": "code",
   "execution_count": 114,
   "metadata": {},
   "outputs": [],
   "source": [
    "import numpy as np\n",
    "\n",
    "from tensorflow.keras.models import Sequential\n",
    "from tensorflow.keras.layers import Dense\n",
    "from tensorflow.keras.optimizers import Adam\n",
    "\n",
    "model = Sequential()\n",
    "model.add(Dense(units = 32, kernel_initializer = 'uniform', activation = 'relu', input_dim = 11))\n",
    "model.add(Dense(units = 8, kernel_initializer = 'uniform', activation = 'relu'))\n",
    "model.add(Dense(units = 1, kernel_initializer = 'uniform', activation = 'sigmoid'))\n",
    "model.compile(optimizer = 'Adam',\n",
    "              loss='binary_crossentropy',\n",
    "              metrics=['accuracy'])"
   ]
  },
  {
   "cell_type": "code",
   "execution_count": 115,
   "metadata": {},
   "outputs": [
    {
     "name": "stdout",
     "output_type": "stream",
     "text": [
      "Train on 7200 samples, validate on 800 samples\n",
      "Epoch 1/50\n",
      "7200/7200 - 1s - loss: 0.4600 - accuracy: 0.7964 - val_loss: 0.4030 - val_accuracy: 0.8250\n",
      "Epoch 2/50\n",
      "7200/7200 - 1s - loss: 0.4198 - accuracy: 0.8222 - val_loss: 0.3998 - val_accuracy: 0.8313\n",
      "Epoch 3/50\n",
      "7200/7200 - 1s - loss: 0.4113 - accuracy: 0.8285 - val_loss: 0.3957 - val_accuracy: 0.8313\n",
      "Epoch 4/50\n",
      "7200/7200 - 1s - loss: 0.4049 - accuracy: 0.8349 - val_loss: 0.3863 - val_accuracy: 0.8300\n",
      "Epoch 5/50\n",
      "7200/7200 - 1s - loss: 0.3980 - accuracy: 0.8351 - val_loss: 0.3844 - val_accuracy: 0.8425\n",
      "Epoch 6/50\n",
      "7200/7200 - 1s - loss: 0.3917 - accuracy: 0.8386 - val_loss: 0.3792 - val_accuracy: 0.8438\n",
      "Epoch 7/50\n",
      "7200/7200 - 1s - loss: 0.3825 - accuracy: 0.8425 - val_loss: 0.3646 - val_accuracy: 0.8512\n",
      "Epoch 8/50\n",
      "7200/7200 - 1s - loss: 0.3628 - accuracy: 0.8517 - val_loss: 0.3483 - val_accuracy: 0.8550\n",
      "Epoch 9/50\n",
      "7200/7200 - 1s - loss: 0.3481 - accuracy: 0.8579 - val_loss: 0.3399 - val_accuracy: 0.8587\n",
      "Epoch 10/50\n",
      "7200/7200 - 1s - loss: 0.3426 - accuracy: 0.8576 - val_loss: 0.3373 - val_accuracy: 0.8525\n",
      "Epoch 11/50\n",
      "7200/7200 - 1s - loss: 0.3372 - accuracy: 0.8622 - val_loss: 0.3327 - val_accuracy: 0.8625\n",
      "Epoch 12/50\n",
      "7200/7200 - 1s - loss: 0.3366 - accuracy: 0.8579 - val_loss: 0.3368 - val_accuracy: 0.8550\n",
      "Epoch 13/50\n",
      "7200/7200 - 1s - loss: 0.3361 - accuracy: 0.8625 - val_loss: 0.3363 - val_accuracy: 0.8575\n",
      "Epoch 14/50\n",
      "7200/7200 - 1s - loss: 0.3350 - accuracy: 0.8622 - val_loss: 0.3333 - val_accuracy: 0.8612\n",
      "Epoch 15/50\n",
      "7200/7200 - 1s - loss: 0.3337 - accuracy: 0.8629 - val_loss: 0.3346 - val_accuracy: 0.8575\n",
      "Epoch 16/50\n",
      "7200/7200 - 1s - loss: 0.3346 - accuracy: 0.8619 - val_loss: 0.3314 - val_accuracy: 0.8562\n",
      "Epoch 17/50\n",
      "7200/7200 - 1s - loss: 0.3339 - accuracy: 0.8631 - val_loss: 0.3341 - val_accuracy: 0.8612\n",
      "Epoch 18/50\n",
      "7200/7200 - 1s - loss: 0.3326 - accuracy: 0.8636 - val_loss: 0.3312 - val_accuracy: 0.8562\n",
      "Epoch 19/50\n",
      "7200/7200 - 1s - loss: 0.3325 - accuracy: 0.8626 - val_loss: 0.3303 - val_accuracy: 0.8625\n",
      "Epoch 20/50\n",
      "7200/7200 - 1s - loss: 0.3329 - accuracy: 0.8621 - val_loss: 0.3345 - val_accuracy: 0.8600\n",
      "Epoch 21/50\n",
      "7200/7200 - 1s - loss: 0.3325 - accuracy: 0.8619 - val_loss: 0.3376 - val_accuracy: 0.8587\n",
      "Epoch 22/50\n",
      "7200/7200 - 1s - loss: 0.3317 - accuracy: 0.8626 - val_loss: 0.3352 - val_accuracy: 0.8587\n",
      "Epoch 23/50\n",
      "7200/7200 - 1s - loss: 0.3314 - accuracy: 0.8646 - val_loss: 0.3356 - val_accuracy: 0.8575\n",
      "Epoch 24/50\n",
      "7200/7200 - 0s - loss: 0.3309 - accuracy: 0.8639 - val_loss: 0.3418 - val_accuracy: 0.8562\n",
      "Epoch 25/50\n",
      "7200/7200 - 1s - loss: 0.3311 - accuracy: 0.8646 - val_loss: 0.3346 - val_accuracy: 0.8625\n",
      "Epoch 26/50\n",
      "7200/7200 - 1s - loss: 0.3310 - accuracy: 0.8640 - val_loss: 0.3346 - val_accuracy: 0.8625\n",
      "Epoch 27/50\n",
      "7200/7200 - 1s - loss: 0.3300 - accuracy: 0.8656 - val_loss: 0.3362 - val_accuracy: 0.8625\n",
      "Epoch 28/50\n",
      "7200/7200 - 1s - loss: 0.3310 - accuracy: 0.8660 - val_loss: 0.3367 - val_accuracy: 0.8587\n",
      "Epoch 29/50\n",
      "7200/7200 - 1s - loss: 0.3294 - accuracy: 0.8654 - val_loss: 0.3393 - val_accuracy: 0.8637\n",
      "Epoch 30/50\n",
      "7200/7200 - 1s - loss: 0.3293 - accuracy: 0.8651 - val_loss: 0.3376 - val_accuracy: 0.8575\n",
      "Epoch 31/50\n",
      "7200/7200 - 1s - loss: 0.3294 - accuracy: 0.8649 - val_loss: 0.3386 - val_accuracy: 0.8600\n",
      "Epoch 32/50\n",
      "7200/7200 - 1s - loss: 0.3293 - accuracy: 0.8640 - val_loss: 0.3348 - val_accuracy: 0.8562\n",
      "Epoch 33/50\n",
      "7200/7200 - 1s - loss: 0.3294 - accuracy: 0.8636 - val_loss: 0.3362 - val_accuracy: 0.8612\n",
      "Epoch 34/50\n",
      "7200/7200 - 1s - loss: 0.3284 - accuracy: 0.8662 - val_loss: 0.3398 - val_accuracy: 0.8562\n",
      "Epoch 35/50\n",
      "7200/7200 - 1s - loss: 0.3283 - accuracy: 0.8643 - val_loss: 0.3397 - val_accuracy: 0.8575\n",
      "Epoch 36/50\n",
      "7200/7200 - 1s - loss: 0.3275 - accuracy: 0.8658 - val_loss: 0.3348 - val_accuracy: 0.8575\n",
      "Epoch 37/50\n",
      "7200/7200 - 1s - loss: 0.3273 - accuracy: 0.8647 - val_loss: 0.3375 - val_accuracy: 0.8575\n",
      "Epoch 38/50\n",
      "7200/7200 - 1s - loss: 0.3278 - accuracy: 0.8651 - val_loss: 0.3344 - val_accuracy: 0.8612\n",
      "Epoch 39/50\n",
      "7200/7200 - 1s - loss: 0.3289 - accuracy: 0.8642 - val_loss: 0.3415 - val_accuracy: 0.8575\n",
      "Epoch 40/50\n",
      "7200/7200 - 1s - loss: 0.3273 - accuracy: 0.8656 - val_loss: 0.3358 - val_accuracy: 0.8612\n",
      "Epoch 41/50\n",
      "7200/7200 - 1s - loss: 0.3254 - accuracy: 0.8681 - val_loss: 0.3382 - val_accuracy: 0.8625\n",
      "Epoch 42/50\n",
      "7200/7200 - 1s - loss: 0.3267 - accuracy: 0.8643 - val_loss: 0.3326 - val_accuracy: 0.8675\n",
      "Epoch 43/50\n",
      "7200/7200 - 1s - loss: 0.3263 - accuracy: 0.8651 - val_loss: 0.3414 - val_accuracy: 0.8575\n",
      "Epoch 44/50\n",
      "7200/7200 - 1s - loss: 0.3264 - accuracy: 0.8651 - val_loss: 0.3363 - val_accuracy: 0.8600\n",
      "Epoch 45/50\n",
      "7200/7200 - 1s - loss: 0.3266 - accuracy: 0.8646 - val_loss: 0.3329 - val_accuracy: 0.8587\n",
      "Epoch 46/50\n",
      "7200/7200 - 1s - loss: 0.3260 - accuracy: 0.8643 - val_loss: 0.3333 - val_accuracy: 0.8650\n",
      "Epoch 47/50\n",
      "7200/7200 - 0s - loss: 0.3262 - accuracy: 0.8644 - val_loss: 0.3355 - val_accuracy: 0.8562\n",
      "Epoch 48/50\n",
      "7200/7200 - 1s - loss: 0.3251 - accuracy: 0.8662 - val_loss: 0.3321 - val_accuracy: 0.8675\n",
      "Epoch 49/50\n",
      "7200/7200 - 1s - loss: 0.3233 - accuracy: 0.8647 - val_loss: 0.3423 - val_accuracy: 0.8562\n",
      "Epoch 50/50\n",
      "7200/7200 - 1s - loss: 0.3258 - accuracy: 0.8651 - val_loss: 0.3362 - val_accuracy: 0.8587\n"
     ]
    },
    {
     "data": {
      "text/plain": [
       "<tensorflow.python.keras.callbacks.History at 0x7f83a084fcc0>"
      ]
     },
     "execution_count": 115,
     "metadata": {},
     "output_type": "execute_result"
    }
   ],
   "source": [
    "model.fit(X_train, y_train, validation_split=0.1, batch_size = 10, epochs = 50, verbose=2)"
   ]
  },
  {
   "cell_type": "code",
   "execution_count": 116,
   "metadata": {},
   "outputs": [],
   "source": [
    "y_pred = model.predict(X_test)\n",
    "y_pred = (y_pred > 0.5)"
   ]
  },
  {
   "cell_type": "markdown",
   "metadata": {},
   "source": [
    "### 2. Analysis\n",
    "\n",
    "> Libraries used: numpy, sklearn, matplotlib, seaborn"
   ]
  },
  {
   "cell_type": "markdown",
   "metadata": {},
   "source": [
    "According to our ANN model, which customers will leave? Which customers will stay? "
   ]
  },
  {
   "cell_type": "markdown",
   "metadata": {},
   "source": [
    "To create a classification report, we'll run the `classification_report()` method, passing it the test class (the list that we created before of the _correct_ labels for each dataum) and the `y_pred_class` (the list we just obtained of the predicted classes)."
   ]
  },
  {
   "cell_type": "code",
   "execution_count": 117,
   "metadata": {},
   "outputs": [
    {
     "name": "stdout",
     "output_type": "stream",
     "text": [
      "              precision    recall  f1-score   support\n",
      "\n",
      "           0       0.87      0.96      0.91      1593\n",
      "           1       0.76      0.43      0.54       407\n",
      "\n",
      "   micro avg       0.85      0.85      0.85      2000\n",
      "   macro avg       0.81      0.69      0.73      2000\n",
      "weighted avg       0.84      0.85      0.84      2000\n",
      "\n"
     ]
    }
   ],
   "source": [
    "from sklearn.metrics import classification_report\n",
    "\n",
    "print(classification_report(y_test, y_pred))"
   ]
  },
  {
   "cell_type": "markdown",
   "metadata": {},
   "source": [
    "We get the confusion matrix by running the `confusion_matrix()` method passing it the same arguments as the classification report:"
   ]
  },
  {
   "cell_type": "code",
   "execution_count": 118,
   "metadata": {},
   "outputs": [
    {
     "data": {
      "text/html": [
       "<div>\n",
       "<style scoped>\n",
       "    .dataframe tbody tr th:only-of-type {\n",
       "        vertical-align: middle;\n",
       "    }\n",
       "\n",
       "    .dataframe tbody tr th {\n",
       "        vertical-align: top;\n",
       "    }\n",
       "\n",
       "    .dataframe thead th {\n",
       "        text-align: right;\n",
       "    }\n",
       "</style>\n",
       "<table border=\"1\" class=\"dataframe\">\n",
       "  <thead>\n",
       "    <tr style=\"text-align: right;\">\n",
       "      <th></th>\n",
       "      <th>0</th>\n",
       "      <th>1</th>\n",
       "    </tr>\n",
       "  </thead>\n",
       "  <tbody>\n",
       "    <tr>\n",
       "      <th>0</th>\n",
       "      <td>1537</td>\n",
       "      <td>56</td>\n",
       "    </tr>\n",
       "    <tr>\n",
       "      <th>1</th>\n",
       "      <td>234</td>\n",
       "      <td>173</td>\n",
       "    </tr>\n",
       "  </tbody>\n",
       "</table>\n",
       "</div>"
      ],
      "text/plain": [
       "      0    1\n",
       "0  1537   56\n",
       "1   234  173"
      ]
     },
     "execution_count": 118,
     "metadata": {},
     "output_type": "execute_result"
    }
   ],
   "source": [
    "from sklearn.metrics import accuracy_score, confusion_matrix\n",
    "\n",
    "cm = confusion_matrix(y_test, y_pred)\n",
    "\n",
    "pd.DataFrame(cm)"
   ]
  },
  {
   "cell_type": "code",
   "execution_count": 119,
   "metadata": {},
   "outputs": [
    {
     "data": {
      "image/png": "[encoded data removed]",
      "text/plain": [
       "<Figure size 432x288 with 1 Axes>"
      ]
     },
     "metadata": {
      "needs_background": "light"
     },
     "output_type": "display_data"
    }
   ],
   "source": [
    "import matplotlib.pyplot as plt\n",
    "\n",
    "plt.imshow(cm, cmap='Blues');"
   ]
  },
  {
   "cell_type": "markdown",
   "metadata": {},
   "source": [
    "Looks like our model did a reasonably good job when predicting which customers will stay (`y_pred=0`) but needed more imporvements when predicting which customers will stay (`y_pred=1`)."
   ]
  },
  {
   "cell_type": "code",
   "execution_count": 120,
   "metadata": {},
   "outputs": [
    {
     "name": "stdout",
     "output_type": "stream",
     "text": [
      "Test accuracy for our ANN model: 85.5 %\n"
     ]
    }
   ],
   "source": [
    "print('Test accuracy for our ANN model:', \\\n",
    "      round(accuracy_score(y_test, y_pred)*100, 2),'%')"
   ]
  }
 ],
 "metadata": {
  "kernelspec": {
   "display_name": "Python 3",
   "language": "python",
   "name": "python3"
  },
  "language_info": {
   "codemirror_mode": {
    "name": "ipython",
    "version": 3
   },
   "file_extension": ".py",
   "mimetype": "text/x-python",
   "name": "python",
   "nbconvert_exporter": "python",
   "pygments_lexer": "ipython3",
   "version": "3.7.4"
  }
 },
 "nbformat": 4,
 "nbformat_minor": 2
}
