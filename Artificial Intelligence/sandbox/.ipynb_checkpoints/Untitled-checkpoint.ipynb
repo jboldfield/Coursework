{
 "cells": [
  {
   "cell_type": "code",
   "execution_count": 43,
   "metadata": {},
   "outputs": [
    {
     "name": "stdout",
     "output_type": "stream",
     "text": [
      "Total distance traveled is: 25.6\n"
     ]
    }
   ],
   "source": [
    "# User input variables\n",
    "height = 10\n",
    "bounce = .6\n",
    "bouncenum = 2\n",
    "\n",
    "# Initial bounce (down)\n",
    "totaldist = height\n",
    "\n",
    "# Full bounces (up and down)\n",
    "for count in range(bouncenum - 1):\n",
    "    height = height * bounce\n",
    "    totaldist += (height * 2)\n",
    "\n",
    "# Final Bounce (up)\n",
    "height *= bounce\n",
    "totaldist += height\n",
    "\n",
    "print(\"Total distance traveled is:\", totaldist)\n"
   ]
  }
 ],
 "metadata": {
  "kernelspec": {
   "display_name": "Python 3",
   "language": "python",
   "name": "python3"
  },
  "language_info": {
   "codemirror_mode": {
    "name": "ipython",
    "version": 3
   },
   "file_extension": ".py",
   "mimetype": "text/x-python",
   "name": "python",
   "nbconvert_exporter": "python",
   "pygments_lexer": "ipython3",
   "version": "3.7.3"
  }
 },
 "nbformat": 4,
 "nbformat_minor": 2
}
