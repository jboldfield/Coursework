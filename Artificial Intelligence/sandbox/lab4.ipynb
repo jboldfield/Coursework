{
 "cells": [
  {
   "cell_type": "markdown",
   "metadata": {},
   "source": [
    "# CS 4820\n",
    "# Lab 4: Understanding how a _feed-forward_ ANN works\n",
    "\n",
    "In this lab, we are going to manually calculate the outputs of all the neurons in a multi-layer feed_forwared NN and then build a Teras model to verify our calculations."
   ]
  },
  {
   "cell_type": "markdown",
   "metadata": {},
   "source": [
    "### 0. Manually calculate the outputs from all neurons"
   ]
  },
  {
   "cell_type": "code",
   "execution_count": 3,
   "metadata": {},
   "outputs": [
    {
     "name": "stdout",
     "output_type": "stream",
     "text": [
      "Inputs:\n",
      " [[0.5 1.2 0.7]]\n",
      "Weights:\n",
      " [[ 1  0]\n",
      " [-1  1]\n",
      " [ 0 -1]]\n",
      "Thetas:\n",
      " [0.01 0.01]\n",
      "tf.Tensor([[-0.597982   0.4699452]], shape=(1, 2), dtype=float64)\n",
      "[[0.57981789]]\n",
      "(3, 2) (2,)\n",
      "(2, 1) (1,)\n"
     ]
    }
   ],
   "source": [
    "import tensorflow as tf\n",
    "import numpy as np\n",
    "from tensorflow.keras.activations import tanh\n",
    "from tensorflow.keras.activations import sigmoid\n",
    "\n",
    "x_test = np.array([[0.5, 1.2, 0.7]])\n",
    "print(\"Inputs:\\n\", x_test)\n",
    "\n",
    "weights_0 = np.array([[1, -1, 0], [0, 1, -1]]).T\n",
    "print(\"Weights:\\n\", weights_0)\n",
    "\n",
    "thetas_0 = np.full((2,), 0.01)\n",
    "print(\"Thetas:\\n\", thetas_0)\n",
    "\n",
    "#print(x_test.dot(weights_0)+thetas_0[0])\n",
    "y_1 = tanh(x_test.dot(weights_0)+thetas_0)\n",
    "print(y_1)\n",
    "weights_1 = np.array([[-1, -0.8]]).T\n",
    "thetas_1 = np.full((1,), 0.1)\n",
    "output = sigmoid(np.dot(y_1, weights_1)+thetas_1).numpy()\n",
    "print(output)\n",
    "\n",
    "print(weights_0.shape, thetas_0.shape)\n",
    "print(weights_1.shape, thetas_1.shape)"
   ]
  },
  {
   "cell_type": "markdown",
   "metadata": {},
   "source": [
    "### 1. Build a model in Keras to verify the calculations above"
   ]
  },
  {
   "cell_type": "code",
   "execution_count": 47,
   "metadata": {},
   "outputs": [
    {
     "name": "stdout",
     "output_type": "stream",
     "text": [
      "[[0.5798179]]\n"
     ]
    }
   ],
   "source": [
    "from tensorflow.keras.models import Sequential\n",
    "from tensorflow.keras.layers import Dense\n",
    "from tensorflow.keras.optimizers import Adam\n",
    "\n",
    "model = Sequential()\n",
    "\n",
    "model.add(Dense(2, input_shape=(3,), activation='tanh'))\n",
    "model.add(Dense(1, activation='sigmoid'))\n",
    "model.compile(Adam(lr=0.1),\n",
    "              loss='binary_crossentropy',\n",
    "              metrics=['accuracy'])\n",
    "\n",
    "model.layers[0].set_weights([weights_0, thetas_0])\n",
    "model.layers[1].set_weights([weights_1, thetas_1])\n",
    "\n",
    "y_pred = model.predict(x_test)\n",
    "print(y_pred)"
   ]
  }
 ],
 "metadata": {
  "kernelspec": {
   "display_name": "Python 3",
   "language": "python",
   "name": "python3"
  },
  "language_info": {
   "codemirror_mode": {
    "name": "ipython",
    "version": 3
   },
   "file_extension": ".py",
   "mimetype": "text/x-python",
   "name": "python",
   "nbconvert_exporter": "python",
   "pygments_lexer": "ipython3",
   "version": "3.7.4"
  }
 },
 "nbformat": 4,
 "nbformat_minor": 2
}
