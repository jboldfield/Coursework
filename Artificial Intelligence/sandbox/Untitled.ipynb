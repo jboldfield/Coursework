{
 "cells": [
  {
   "cell_type": "code",
   "execution_count": 57,
   "metadata": {},
   "outputs": [
    {
     "data": {
      "image/png": "[encoded data removed]",
      "text/plain": [
       "<Figure size 432x288 with 1 Axes>"
      ]
     },
     "metadata": {
      "needs_background": "light"
     },
     "output_type": "display_data"
    }
   ],
   "source": [
    "import matplotlib.pyplot as plt\n",
    "import numpy as np\n",
    "\n",
    "X = np.array( [None, 1, 2, 4, 8, 16, 32, 1, 2, 4, 8, \n",
    "               16, 17, 18, 19, 20, 21, 22, 23, 24, 25, \n",
    "               26, 27, 28, 14, 15, 16, 17, 18, 19, 20] )\n",
    "y = np.arange(30) \n",
    "\n",
    "fig, ax = plt.subplots(1,1)\n",
    "plt.plot(X, '-r', linewidth=.8)\n",
    "plt.plot(X, 'ob', ms=3.5)\n",
    "plt.xlabel('Transmission Round')\n",
    "plt.ylabel('Size of Congestion Window')\n",
    "ax.tick_params(axis=\"y\",direction=\"out\")\n",
    "ax.tick_params(axis=\"x\",direction=\"out\")\n",
    "ax.tick_params(axis='both', which='major', pad=5)\n",
    "# spine params\n",
    "plt.xticks(range(0,31,2))\n",
    "plt.yticks(range(0,36,5))\n",
    "plt.gca().yaxis.grid(True)"
   ]
  },
  {
   "cell_type": "code",
   "execution_count": 39,
   "metadata": {},
   "outputs": [
    {
     "name": "stdout",
     "output_type": "stream",
     "text": [
      "9\n",
      "8\n",
      "7\n",
      "6\n",
      "5\n"
     ]
    }
   ],
   "source": [
    "import math\n",
    "\n",
    "tolerance = 0.000001\n",
    "def newton(x, estimate):\n",
    "    difference = abs(x - estimate ** 2)\n",
    "    if limitReached(difference):\n",
    "        return estimate\n",
    "    else:\n",
    "        estimate = improveEstimate(estimate)\n",
    "    return estimate\n",
    "\n",
    "def limitReached(difference):\n",
    "    limit = False\n",
    "    if difference <= tolerance:\n",
    "        limit = True\n",
    "    return limit\n",
    "\n",
    "def improveEstimate(estimate):\n",
    "    estimate = newton(x, (estimate + x/estimate)/2)\n",
    "    return estimate\n",
    "\n",
    "x = 9\n",
    "newton(x, x/2)\n",
    "\n",
    "for x in range(9, 4, -1):\n",
    "    print(x)"
   ]
  },
  {
   "cell_type": "code",
   "execution_count": 27,
   "metadata": {},
   "outputs": [
    {
     "ename": "IndentationError",
     "evalue": "expected an indented block (<ipython-input-27-6881383bc398>, line 3)",
     "output_type": "error",
     "traceback": [
      "\u001b[1;36m  File \u001b[1;32m\"<ipython-input-27-6881383bc398>\"\u001b[1;36m, line \u001b[1;32m3\u001b[0m\n\u001b[1;33m    print(myRange(10))\u001b[0m\n\u001b[1;37m        ^\u001b[0m\n\u001b[1;31mIndentationError\u001b[0m\u001b[1;31m:\u001b[0m expected an indented block\n"
     ]
    }
   ],
   "source": [
    "def myRange(x, y=None, it=None):\n",
    "    count = 0\n",
    "    \n",
    "    while count < ln:\n",
    "        print()\n",
    "print(myRange(10))"
   ]
  },
  {
   "cell_type": "code",
   "execution_count": null,
   "metadata": {},
   "outputs": [],
   "source": []
  }
 ],
 "metadata": {
  "kernelspec": {
   "display_name": "Python 3",
   "language": "python",
   "name": "python3"
  },
  "language_info": {
   "codemirror_mode": {
    "name": "ipython",
    "version": 3
   },
   "file_extension": ".py",
   "mimetype": "text/x-python",
   "name": "python",
   "nbconvert_exporter": "python",
   "pygments_lexer": "ipython3",
   "version": "3.7.4"
  }
 },
 "nbformat": 4,
 "nbformat_minor": 2
}
