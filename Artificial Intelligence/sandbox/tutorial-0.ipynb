{
 "cells": [
  {
   "cell_type": "markdown",
   "metadata": {},
   "source": [
    "## Tutorial - 0\n",
    "### 1. Basic Python"
   ]
  },
  {
   "cell_type": "code",
   "execution_count": 5,
   "metadata": {},
   "outputs": [
    {
     "name": "stdout",
     "output_type": "stream",
     "text": [
      "26\n",
      "44\n",
      "53\n",
      "77\n",
      "62\n"
     ]
    }
   ],
   "source": [
    "import random\n",
    "for i in range(5):\n",
    "    print(random.randint(10,99))"
   ]
  },
  {
   "cell_type": "code",
   "execution_count": 4,
   "metadata": {},
   "outputs": [
    {
     "name": "stdout",
     "output_type": "stream",
     "text": [
      "5\n",
      "<class 'int'>\n",
      "3.2\n",
      "<class 'float'>\n",
      "spam\n",
      "<class 'str'>\n"
     ]
    }
   ],
   "source": [
    "var=5\n",
    "print(var)\n",
    "print(type(var))\n",
    "\n",
    "var=3.2\n",
    "print(var)\n",
    "print(type(var))\n",
    "\n",
    "var='spam'\n",
    "print(var)\n",
    "print(type(var))"
   ]
  },
  {
   "cell_type": "code",
   "execution_count": 6,
   "metadata": {},
   "outputs": [
    {
     "name": "stdout",
     "output_type": "stream",
     "text": [
      "ham a\n",
      "4\n",
      "['ham', 'and', 'eggs']\n"
     ]
    }
   ],
   "source": [
    "mystring='ham and eggs'\n",
    "print(mystring[0:5]) # note that the first index is inclusive and the secon\n",
    "print(mystring.find('and'))\n",
    "print(mystring.split(' '))"
   ]
  },
  {
   "cell_type": "code",
   "execution_count": 7,
   "metadata": {},
   "outputs": [
    {
     "name": "stdout",
     "output_type": "stream",
     "text": [
      "0\n",
      "2\n",
      "4\n",
      "6\n",
      "8\n",
      "done\n"
     ]
    }
   ],
   "source": [
    "x = 0\n",
    "while x < 10:\n",
    "    if x%2 == 0:\n",
    "        print(x)\n",
    "    x+=1\n",
    "print('done')"
   ]
  },
  {
   "cell_type": "code",
   "execution_count": 10,
   "metadata": {},
   "outputs": [
    {
     "name": "stdout",
     "output_type": "stream",
     "text": [
      "[1, 2, 'three']\n",
      "3000\n",
      "13\n",
      "[1, 1, 2, 3, 3000, 8]\n"
     ]
    }
   ],
   "source": [
    "mylist = [1, 2]\n",
    "mylist.append(\"three\")\n",
    "\n",
    "print(mylist)\n",
    "\n",
    "newlist = [1, 1, 2, 3, 5, 8, 13]\n",
    "newlist[4] = 3000\n",
    "print(newlist[4])\n",
    "print(newlist[-1]) # get the last item in the list\n",
    "newlist.pop()\n",
    "print(newlist)"
   ]
  },
  {
   "cell_type": "code",
   "execution_count": 13,
   "metadata": {},
   "outputs": [
    {
     "name": "stdout",
     "output_type": "stream",
     "text": [
      "See why this returns an error?\n",
      "length of tup3: 4\n",
      "12\n",
      "34.56\n",
      "abc\n",
      "xyz\n"
     ]
    }
   ],
   "source": [
    "tup1 = (12, 34.56)\n",
    "tup2 = ('abc', 'xyz')\n",
    "\n",
    "try:\n",
    "    tup1[0] =100;\n",
    "except TypeError:\n",
    "    print('See why this returns an error?')\n",
    "\n",
    "tup3 = tup1 + tup2 # this concatenates the two tuplesprint(tup3)\n",
    "print('length of tup3:', len(tup3))\n",
    "for x in tup3: print(x)"
   ]
  },
  {
   "cell_type": "code",
   "execution_count": 15,
   "metadata": {},
   "outputs": [
    {
     "name": "stdout",
     "output_type": "stream",
     "text": [
      "1\n",
      "This shouldn't work, since we deleted numbers['one'] above\n",
      "{'two': 2, 'three': 3, 'four': 4}\n",
      "dict_keys(['two', 'three', 'four'])\n",
      "dict_values([2, 3, 4])\n"
     ]
    }
   ],
   "source": [
    "numbers= {'one': 1, 'two': 2, 'three': 3, 'four': 4 }\n",
    "print(numbers['one'])\n",
    "del numbers['one']  # Remove an entry from the dictionary\n",
    "try:\n",
    "    print(numbers['one'])\n",
    "except KeyError:\n",
    "    print(\"This shouldn't work, since we deleted numbers['one'] above\")\n",
    "print(numbers)\n",
    "print(numbers.keys())\n",
    "print(numbers.values())"
   ]
  },
  {
   "cell_type": "code",
   "execution_count": 4,
   "metadata": {},
   "outputs": [
    {
     "data": {
      "text/plain": [
       "(3, 1)"
      ]
     },
     "execution_count": 4,
     "metadata": {},
     "output_type": "execute_result"
    }
   ],
   "source": [
    "import numpy as np\n",
    "d = np.array([[10], [20], [30]])\n",
    "print(d)\n",
    "d.shape"
   ]
  },
  {
   "cell_type": "code",
   "execution_count": 10,
   "metadata": {},
   "outputs": [
    {
     "data": {
      "text/plain": [
       "(1, 3)"
      ]
     },
     "execution_count": 10,
     "metadata": {},
     "output_type": "execute_result"
    }
   ],
   "source": [
    "c = np.array([[1, 2, 3]])\n",
    "c.shape"
   ]
  },
  {
   "cell_type": "code",
   "execution_count": 7,
   "metadata": {},
   "outputs": [
    {
     "data": {
      "text/plain": [
       "array([[1],\n",
       "       [2],\n",
       "       [3]])"
      ]
     },
     "execution_count": 7,
     "metadata": {},
     "output_type": "execute_result"
    }
   ],
   "source": [
    "e = c.transpose()\n",
    "e"
   ]
  },
  {
   "cell_type": "code",
   "execution_count": 9,
   "metadata": {},
   "outputs": [
    {
     "data": {
      "text/plain": [
       "array([[1],\n",
       "       [2],\n",
       "       [3]])"
      ]
     },
     "execution_count": 9,
     "metadata": {},
     "output_type": "execute_result"
    }
   ],
   "source": [
    "f = e.reshape(-1, 1)\n",
    "f"
   ]
  },
  {
   "cell_type": "code",
   "execution_count": 19,
   "metadata": {},
   "outputs": [
    {
     "data": {
      "text/plain": [
       "array([[0., 0.],\n",
       "       [0., 0.]])"
      ]
     },
     "execution_count": 19,
     "metadata": {},
     "output_type": "execute_result"
    }
   ],
   "source": [
    "a = np.zeros((2, 2))\n",
    "a"
   ]
  },
  {
   "cell_type": "code",
   "execution_count": 1,
   "metadata": {},
   "outputs": [
    {
     "name": "stdout",
     "output_type": "stream",
     "text": [
      "Hours:\t\t 10\n"
     ]
    }
   ],
   "source": [
    "hours = 10\n",
    "print(\"Hours:\\t\\t\", hours)"
   ]
  }
 ],
 "metadata": {
  "kernelspec": {
   "display_name": "Python 3",
   "language": "python",
   "name": "python3"
  },
  "language_info": {
   "codemirror_mode": {
    "name": "ipython",
    "version": 3
   },
   "file_extension": ".py",
   "mimetype": "text/x-python",
   "name": "python",
   "nbconvert_exporter": "python",
   "pygments_lexer": "ipython3",
   "version": "3.7.3"
  }
 },
 "nbformat": 4,
 "nbformat_minor": 2
}
