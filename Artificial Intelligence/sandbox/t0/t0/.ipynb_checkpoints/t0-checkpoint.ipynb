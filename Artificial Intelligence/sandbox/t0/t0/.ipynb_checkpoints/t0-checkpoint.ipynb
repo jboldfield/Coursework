{
 "cells": [
  {
   "cell_type": "markdown",
   "metadata": {},
   "source": [
    "# CS 4820 \n",
    "# Tutorial 0: Python and Linear Algebra Refresher\n",
    "\n",
    "This course heavily uses Tensorflow (and Teras). Tensorflow is an open source deep learning library created by Google. Currently it is the most popular and widely used library. However, before touching Tensorflow, we all need to be reasonably familiar with basic Python and  linear algebra, which are what Tensorflow depends on. \n",
    "\n",
    "So, this tutorial is a refresher on Python 3 and basic linear algebra. It also introduces Numpy, the standard Python library for manipulating arrays algebraically."
   ]
  },
  {
   "cell_type": "markdown",
   "metadata": {},
   "source": [
    "> # Jupyter notebook \n",
    ">\n",
    "> In Jupyter notebook, each cell is of one of a few basic types: Markdown, code, raw NBConvert,  and Heading. \n",
    ">\n",
    "> Also, there are two modes for each cell: command mode and edit mode.\n",
    ">\n",
    "> [keyboard shortcuts](http://www.tetraph.com/blog/machine-learning/jupyter-notebook-keyboard-shortcut-command-mode-edit-mode/)"
   ]
  },
  {
   "cell_type": "markdown",
   "metadata": {},
   "source": [
    "# 1. Python\n",
    "## Hello World ##\n",
    "Printing in Python can be done with the `print` function."
   ]
  },
  {
   "cell_type": "code",
   "execution_count": 4,
   "metadata": {},
   "outputs": [
    {
     "name": "stdout",
     "output_type": "stream",
     "text": [
      "Hello World!\n"
     ]
    }
   ],
   "source": [
    "print(\"Hello World!\")"
   ]
  },
  {
   "cell_type": "markdown",
   "metadata": {},
   "source": [
    "## Libraries ##\n",
    "\n",
    "Python has a number of built-in modules and libraries that offer convenient access to useful functions. These libraries can be imported by using the built-in `import` function followed by the library name.\n",
    "\n",
    "Here is one example with the `random` library that can be used for generating a series of random integers within some specified range. Note that `for i in range(5)` is analogous to `for (int i = 0; i < 5; i++)` in Java."
   ]
  },
  {
   "cell_type": "code",
   "execution_count": null,
   "metadata": {},
   "outputs": [],
   "source": [
    "import random\n",
    "for i in range(5):\n",
    "    print(random.randint(10,99))"
   ]
  },
  {
   "cell_type": "markdown",
   "metadata": {},
   "source": [
    "## Indentation ##\n",
    "Notice that Python uses indentation and colons in order to specify scope, as opposed to brackets. This means that you need to be careful to make sure that all of your code is indented correctly."
   ]
  },
  {
   "cell_type": "code",
   "execution_count": null,
   "metadata": {},
   "outputs": [],
   "source": [
    "x = 0\n",
    " \n",
    "while x < 10:\n",
    "    if x % 2 == 0:\n",
    "        print(x)\n",
    "    x += 1\n",
    " \n",
    "print('done.')"
   ]
  },
  {
   "cell_type": "markdown",
   "metadata": {},
   "source": [
    "## Dynamic Typing ##\n",
    "In Python, variables are associated with single objects and no data types. Furthermore, primitive data types in Python are immutable."
   ]
  },
  {
   "cell_type": "code",
   "execution_count": null,
   "metadata": {},
   "outputs": [],
   "source": [
    "var = 5\n",
    "print(var)\n",
    "print(type(var))\n",
    "\n",
    "var = 3.2\n",
    "print(var)\n",
    "print(type(var))\n",
    "\n",
    "var = 'spam'\n",
    "print(var)\n",
    "print(type(var))"
   ]
  },
  {
   "cell_type": "markdown",
   "metadata": {},
   "source": [
    "## Strings ##\n",
    "Python supports strings along with the expected indexing schema and methods."
   ]
  },
  {
   "cell_type": "code",
   "execution_count": 11,
   "metadata": {},
   "outputs": [
    {
     "name": "stdout",
     "output_type": "stream",
     "text": [
      "ham a\n",
      "4\n",
      "['ham', 'and', 'eggs']\n"
     ]
    }
   ],
   "source": [
    "mystring = 'ham and eggs'\n",
    "print(mystring[0:5]) # note that the first index is inclusive and the second index is exclusive\n",
    "print(mystring.find('and'))\n",
    "print(mystring.split(' '))"
   ]
  },
  {
   "cell_type": "markdown",
   "metadata": {},
   "source": [
    "## Lists ##\n",
    "Lists/arrays are mutable objects in Python."
   ]
  },
  {
   "cell_type": "code",
   "execution_count": 12,
   "metadata": {},
   "outputs": [
    {
     "name": "stdout",
     "output_type": "stream",
     "text": [
      "[1, 2, 'three']\n",
      "3000\n",
      "13\n",
      "[1, 1, 2, 3, 3000, 8]\n"
     ]
    }
   ],
   "source": [
    "mylist = [1, 2]\n",
    "mylist.append(\"three\")\n",
    "\n",
    "print(mylist)\n",
    " \n",
    "newlist = [1, 1, 2, 3, 5, 8, 13]\n",
    "newlist[4] = 3000\n",
    "print(newlist[4])\n",
    "print(newlist[-1]) # get the last item in the list\n",
    "newlist.pop()\n",
    "print(newlist)"
   ]
  },
  {
   "cell_type": "markdown",
   "metadata": {},
   "source": [
    "## Tuples ##\n",
    "Tuples are like immutable lists."
   ]
  },
  {
   "cell_type": "code",
   "execution_count": 3,
   "metadata": {},
   "outputs": [
    {
     "name": "stdout",
     "output_type": "stream",
     "text": [
      "See why this returns an error?\n",
      "(12, 34.56, 'abc', 'xyz')\n",
      "length of tup3: 4\n",
      "12\n",
      "34.56\n",
      "abc\n",
      "xyz\n"
     ]
    }
   ],
   "source": [
    "tup1 = (12, 34.56)\n",
    "tup2 = ('abc', 'xyz')\n",
    "\n",
    "try:\n",
    "    tup1[0] = 100;\n",
    "except TypeError:\n",
    "    print('See why this returns an error?')\n",
    "\n",
    "\n",
    "tup3 = tup1 + tup2 # this concatenates the two tuples\n",
    "print(tup3)\n",
    "print('length of tup3:', len(tup3))\n",
    "for x in tup3: print(x)"
   ]
  },
  {
   "cell_type": "markdown",
   "metadata": {},
   "source": [
    "## Dictionaries ##\n",
    "Python also supports dictionaries (hash maps) for mapping between specified keys and values."
   ]
  },
  {
   "cell_type": "code",
   "execution_count": 17,
   "metadata": {},
   "outputs": [
    {
     "name": "stdout",
     "output_type": "stream",
     "text": [
      "1\n",
      "This shouldn't work, since we deleted numbers['one'] above\n",
      "{'two': 2, 'three': 3, 'four': 4}\n",
      "dict_keys(['two', 'three', 'four'])\n",
      "dict_values([2, 3, 4])\n"
     ]
    }
   ],
   "source": [
    "numbers = {'one': 1, 'two': 2, 'three': 3, 'four': 4 }\n",
    "print(numbers['one'])\n",
    "del numbers['one']  # Remove an etry from the dictionary\n",
    "\n",
    "try:\n",
    "    print(numbers['one'])\n",
    "except KeyError:\n",
    "    print(\"This shouldn't work, since we deleted numbers['one'] above\")\n",
    "\n",
    "print(numbers)\n",
    "print(numbers.keys())\n",
    "print(numbers.values())"
   ]
  },
  {
   "cell_type": "markdown",
   "metadata": {},
   "source": [
    "## Name binding ##\n",
    "Notice that Python assignment binds a name to a particular object. In other words, objects are pass-by-reference. Primitives like integers, however, are pass-by-value.\n",
    "\n",
    "If your goal is to make an independent clone of an object, you should use the `deepcopy` function from Python's `copy` library. Alternatively, you can use the `str` function to copy a string, `list` to copy a list, and so on."
   ]
  },
  {
   "cell_type": "code",
   "execution_count": 19,
   "metadata": {},
   "outputs": [
    {
     "name": "stdout",
     "output_type": "stream",
     "text": [
      "[1, 2] [1, 2]\n",
      "[1, 2, 3]\n",
      "1 1\n",
      "1\n",
      "2\n"
     ]
    }
   ],
   "source": [
    "a = [1, 2]\n",
    "b = a\n",
    "print(b, a)\n",
    "b.append(3)\n",
    "print(a)\n",
    "\n",
    "a = 1\n",
    "b = a\n",
    "print(b, a)\n",
    "b = b + 1\n",
    "print(a)\n",
    "print(b)"
   ]
  },
  {
   "cell_type": "markdown",
   "metadata": {},
   "source": [
    "## Control Flow ##\n",
    "Here are examples of if-else statements, for loops, and while loops in Python. Notice how identation controls scope in each statement."
   ]
  },
  {
   "cell_type": "code",
   "execution_count": 20,
   "metadata": {},
   "outputs": [
    {
     "name": "stdout",
     "output_type": "stream",
     "text": [
      "adult\n"
     ]
    }
   ],
   "source": [
    "age = 22\n",
    " \n",
    "if age < 13:\n",
    "    print('kid')\n",
    "elif age < 18:\n",
    "    print('teen')\n",
    "else:\n",
    "    print('adult')"
   ]
  },
  {
   "cell_type": "code",
   "execution_count": 21,
   "metadata": {},
   "outputs": [
    {
     "name": "stdout",
     "output_type": "stream",
     "text": [
      "Python supports the else keyword for for-loops, which execute if the loop completes without breaking\n"
     ]
    }
   ],
   "source": [
    "for i in range(5):\n",
    "    pass\n",
    " \n",
    "for i in [0, 1, 2, 3, 4]:\n",
    "    if i > 5:\n",
    "        break\n",
    "else:\n",
    "    print('Python supports the else keyword for for-loops, which execute if the loop completes without breaking')"
   ]
  },
  {
   "cell_type": "code",
   "execution_count": 22,
   "metadata": {},
   "outputs": [
    {
     "name": "stdout",
     "output_type": "stream",
     "text": [
      "512.0\n",
      "32.0\n",
      "2.0\n"
     ]
    }
   ],
   "source": [
    "x = 1024\n",
    " \n",
    "while x > 1:\n",
    "    x = x / 2\n",
    "    if (x % 10) != 2:\n",
    "        continue\n",
    "    print(x)"
   ]
  },
  {
   "cell_type": "markdown",
   "metadata": {},
   "source": [
    "## Try-Except ##\n",
    "Python also supports try-except statements for error handling."
   ]
  },
  {
   "cell_type": "code",
   "execution_count": 23,
   "metadata": {},
   "outputs": [
    {
     "name": "stdout",
     "output_type": "stream",
     "text": [
      "Exception!\n",
      "Done.\n"
     ]
    }
   ],
   "source": [
    "try:\n",
    "    1 / 0\n",
    "except:\n",
    "    print('Exception!')\n",
    "else:\n",
    "    print('No exception!')\n",
    "finally:\n",
    "    print('Done.')"
   ]
  },
  {
   "cell_type": "markdown",
   "metadata": {},
   "source": [
    "## Functions ##\n",
    "Specify functions using the `def` keyword."
   ]
  },
  {
   "cell_type": "code",
   "execution_count": 24,
   "metadata": {},
   "outputs": [
    {
     "name": "stdout",
     "output_type": "stream",
     "text": [
      "goodbye!\n",
      "hello!\n"
     ]
    }
   ],
   "source": [
    "def example_func(s=\"hello!\"):\n",
    "    print(s)\n",
    " \n",
    "example_func(\"goodbye!\")\n",
    "example_func() # This is equivalent to exapmle_func(\"hello!\") since we give the parameter s a default value of \"hello!\""
   ]
  },
  {
   "cell_type": "markdown",
   "metadata": {},
   "source": [
    "## Classes ##\n",
    "Specify classes using the `class` keyword. Notice the `__` around the first method of this class; this denotes what are more commonly referred to as [\"magic methods\"](http://minhhh.github.io/posts/a-guide-to-pythons-magic-methods) in Python. The magic method defined for this class is the constructor that you will need to define for all your classes."
   ]
  },
  {
   "cell_type": "code",
   "execution_count": 25,
   "metadata": {},
   "outputs": [
    {
     "name": "stdout",
     "output_type": "stream",
     "text": [
      "(3,4): len = 5.0\n"
     ]
    }
   ],
   "source": [
    "import math\n",
    " \n",
    "class Vector2:\n",
    "    def __init__(self, x, y):\n",
    "        self.x = x\n",
    "        self.y = y\n",
    " \n",
    "    def len(self):\n",
    "        return math.sqrt(self.x ** 2 +\n",
    "                         self.y ** 2)\n",
    "    \n",
    "    _DoNotTouch = 10\n",
    " \n",
    " \n",
    "v = Vector2(3, 4)\n",
    "print(\"({},{}):\".format(v.x, v.y), \\\n",
    "      \"len = {}\".format(v.len()))"
   ]
  },
  {
   "cell_type": "markdown",
   "metadata": {},
   "source": [
    "# 2. Linear Algebra Refresher\n",
    "Before moving on to NumPy, I need to talk about my favourite type of math: Linear Algebra. Most of the operations in Deep Learning are done by matrices. It's both practical and easy to optimise using very powerful parallel hardwares like GPUs. Good news is, for the most part of this course, I only need to make sure you know about **matrix multiplications** because other matrix operations are fairly straight-forward. Let's take a look at how that works."
   ]
  },
  {
   "cell_type": "markdown",
   "metadata": {},
   "source": [
    "Given the following two matrices: \n",
    "``` Python\n",
    "A = [[1,2,3],[4,5,6]]      # Shape=(2,3)\n",
    "B = [[7,8],[9,10],[11,12]] # Shape=(3,2)\n",
    "```\n",
    "And we want to find A * B, to do this we dot the rows of A and the columns of B to find each element in AB:\n",
    "![matrix1](./assets/matrix1.svg)\n",
    "![matrix2](./assets/matrix2.svg)\n",
    "![matrix3](./assets/matrix3.svg)\n",
    "\n",
    "Take note of the resultant shape of the multiplication. When we have a matrix of shape (N, M) multiplied by a matrix of shape (M, V), we end up with a matrix of shape (N, V). If the last dimension of the first matrix and the first dimension of the matrix do not match, the multiplication won't work. "
   ]
  },
  {
   "cell_type": "markdown",
   "metadata": {},
   "source": [
    "# 3. Numpy (Numeric Python)\n",
    "For much of this course, you will often find yourself in need of creating, modifying, and combining n-dimensional arrays. Numpy is the standard Python library for quickly, cleanly, and efficiently performing all of these functions.\n",
    "\n",
    "Here are just a few examples with basic Numpy arrays. \n",
    "\n",
    "For a more in-depth view of the other useful features of Numpy, visit [this tutorial](http://cs231n.github.io/python-numpy-tutorial/#numpy)."
   ]
  },
  {
   "cell_type": "markdown",
   "metadata": {},
   "source": [
    "### Basics"
   ]
  },
  {
   "cell_type": "code",
   "execution_count": 12,
   "metadata": {},
   "outputs": [
    {
     "name": "stdout",
     "output_type": "stream",
     "text": [
      "<class 'numpy.ndarray'>\n",
      "(3,)\n",
      "1 2 3\n",
      "[5 2 3]\n",
      "<class 'numpy.ndarray'>\n",
      "(2, 3)\n",
      "1 2 4\n",
      "(1, 3)\n",
      "(3, 1)\n"
     ]
    }
   ],
   "source": [
    "import numpy as np\n",
    "\n",
    "a = np.array([1, 2, 3])   # Creates a rank 1 array, or a 1D array, or a vector, which is always horizontal\n",
    "print(type(a))            # Prints \"<class 'numpy.ndarray'>\"\n",
    "print(a.shape)            # Prints \"(3,)\"\n",
    "print(a[0], a[1], a[2])   # Prints \"1 2 3\"\n",
    "a[0] = 5                  # Change an element of the array\n",
    "print(a)                  # Prints \"[5, 2, 3]\"\n",
    "\n",
    "b = np.array([[1,2,3],[4,5,6]])    # Create a rank 2 array, or a 2D array, or a 2D matrix\n",
    "print(type(b))                     # Prints \"<class 'numpy.ndarray'>\"\n",
    "print(b.shape)                     # Prints \"(2, 3)\"\n",
    "print(b[0, 0], b[0, 1], b[1, 0])   # Prints \"1 2 4\"\n",
    "\n",
    "c = np.array([[1, 2, 3]]) # Creates a row matrix \n",
    "print(c.shape)            # Prints \"(1, 3)\" --> Make sure you understand the difference \n",
    "                          #                     between the vector \"a\" and the row matrix of \"b\"\n",
    "\n",
    "d = np.array([[1], [2], [3]])      # Create a column matrix \n",
    "print(d.shape)                     # Prints \"(3, 1)\""
   ]
  },
  {
   "cell_type": "markdown",
   "metadata": {},
   "source": [
    "### Some custom functions to create arrays."
   ]
  },
  {
   "cell_type": "code",
   "execution_count": 13,
   "metadata": {},
   "outputs": [
    {
     "name": "stdout",
     "output_type": "stream",
     "text": [
      "[[0. 0.]\n",
      " [0. 0.]]\n",
      "[[1. 1.]]\n",
      "[[7 7]\n",
      " [7 7]]\n",
      "[[1. 0.]\n",
      " [0. 1.]]\n",
      "[[0.94816218 0.67477923]\n",
      " [0.29306738 0.96598233]]\n"
     ]
    }
   ],
   "source": [
    "import numpy as np\n",
    "\n",
    "a = np.zeros((2,2))   # Create an array of all zeros\n",
    "print(a)              # Prints \"[[ 0.  0.]\n",
    "                      #          [ 0.  0.]]\"\n",
    "\n",
    "b = np.ones((1,2))    # Create an array of all ones\n",
    "print(b)              # Prints \"[[ 1.  1.]]\"\n",
    "\n",
    "c = np.full((2,2), 7)  # Create a constant array\n",
    "print(c)               # Prints \"[[ 7.  7.]\n",
    "                       #          [ 7.  7.]]\"\n",
    "\n",
    "d = np.eye(2)         # Create a 2x2 identity matrix\n",
    "print(d)              # Prints \"[[ 1.  0.]\n",
    "                      #          [ 0.  1.]]\"\n",
    "\n",
    "e = np.random.random((2,2))  # Create an array filled with random values\n",
    "print(e)                     # Might print \"[[ 0.91940167  0.08143941]\n",
    "                             #               [ 0.68744134  0.87236687]]\""
   ]
  },
  {
   "cell_type": "markdown",
   "metadata": {},
   "source": [
    "### Array operations.\n",
    "Assuming x and y are two arrays of the same shape, basic mathematical functions operate __elementwise__ on arrays, and are available both as __operator overloads__ like x+y and as __functions in the numpy module__ like np.add(x,y).\n",
    "\n",
    "What if x and y are of different shapes? See the section of \"broadcasting\" below."
   ]
  },
  {
   "cell_type": "code",
   "execution_count": 14,
   "metadata": {},
   "outputs": [
    {
     "name": "stdout",
     "output_type": "stream",
     "text": [
      "[[ 6.  8.]\n",
      " [10. 12.]]\n",
      "[[ 6.  8.]\n",
      " [10. 12.]]\n",
      "[[-4. -4.]\n",
      " [-4. -4.]]\n",
      "[[-4. -4.]\n",
      " [-4. -4.]]\n",
      "[[ 5. 12.]\n",
      " [21. 32.]]\n",
      "[[ 5. 12.]\n",
      " [21. 32.]]\n",
      "[[0.2        0.33333333]\n",
      " [0.42857143 0.5       ]]\n",
      "[[0.2        0.33333333]\n",
      " [0.42857143 0.5       ]]\n",
      "[[1.         1.41421356]\n",
      " [1.73205081 2.        ]]\n",
      "[[1. 2. 3. 4.]]\n",
      "4.0\n",
      "3\n"
     ]
    }
   ],
   "source": [
    "import numpy as np\n",
    "\n",
    "x = np.array([[1,2],[3,4]], dtype=np.float64)\n",
    "y = np.array([[5,6],[7,8]], dtype=np.float64)\n",
    "\n",
    "# Elementwise sum; both produce an array\n",
    "# [[ 6.0  8.0]\n",
    "#  [10.0 12.0]]\n",
    "print(x + y)\n",
    "print(np.add(x, y))\n",
    "\n",
    "# Elementwise difference; both produce an array\n",
    "# [[-4.0 -4.0]\n",
    "#  [-4.0 -4.0]]\n",
    "print(x - y)\n",
    "print(np.subtract(x, y))\n",
    "\n",
    "# Elementwise product; both produce an array\n",
    "# [[ 5.0 12.0]\n",
    "#  [21.0 32.0]]\n",
    "print(x * y)\n",
    "print(np.multiply(x, y))\n",
    "\n",
    "# Elementwise division; both produce an array\n",
    "# [[ 0.2         0.33333333]\n",
    "#  [ 0.42857143  0.5       ]]\n",
    "print(x / y)\n",
    "print(np.divide(x, y))\n",
    "\n",
    "# Elementwise square root; produces an array\n",
    "# [[ 1.          1.41421356]\n",
    "#  [ 1.73205081  2.        ]]\n",
    "print(np.sqrt(x))\n",
    "\n",
    "# Reshape; changes the dimensions of a matrix\n",
    "# [[ 1.  2.  3.  4.]]\n",
    "x2 = np.reshape(x, [1, 4])\n",
    "print(x2)\n",
    "\n",
    "# Max; returns the value of the largest element\n",
    "# 4.0\n",
    "print(np.max(x2))\n",
    "\n",
    "# Argmax; returns the index of the largest element\n",
    "# 3\n",
    "print(np.argmax(x2))"
   ]
  },
  {
   "cell_type": "markdown",
   "metadata": {},
   "source": [
    "### Matrix multiplication"
   ]
  },
  {
   "cell_type": "code",
   "execution_count": 17,
   "metadata": {},
   "outputs": [
    {
     "name": "stdout",
     "output_type": "stream",
     "text": [
      "219\n",
      "219\n",
      "[29 67]\n",
      "[29 67]\n",
      "[[19 22]\n",
      " [43 50]]\n",
      "[[19 22]\n",
      " [43 50]]\n",
      "[[29]\n",
      " [67]]\n"
     ]
    }
   ],
   "source": [
    "import numpy as np\n",
    "\n",
    "v = np.array([9,10])\n",
    "w = np.array([11, 12])\n",
    "\n",
    "# Inner product of vectors (sum of element-wise products); both produce 219\n",
    "print(v.dot(w))\n",
    "print(np.dot(v, w))\n",
    "\n",
    "x = np.array([[1,2],[3,4]])\n",
    "y = np.array([[5,6],[7,8]])\n",
    "\n",
    "# Matrix / vector product; both produce the rank 1 array [29 67]\n",
    "print(x.dot(v))\n",
    "print(np.dot(x, v))\n",
    "\n",
    "# Matrix / matrix product; both produce the rank 2 array\n",
    "# Matmul and dot are the same for 2D operations, but differ when we increase dimensionalities.\n",
    "# [[19 22]\n",
    "#  [43 50]]\n",
    "print(x.dot(y))\n",
    "print(np.matmul(x, y))  # Preferred. Alternatively, you may also do x@y\n",
    "\n",
    "# Matrix / matrix product; both produce the rank 2 array\n",
    "z=np.array([[9],[10]])\n",
    "print(x.dot(z))"
   ]
  },
  {
   "cell_type": "markdown",
   "metadata": {},
   "source": [
    "### Broadcasting\n",
    "Broadcasting is a powerful mechanism that allows numpy to work with arrays of different shapes when performing arithmetic operations. Frequently we have a smaller array and a larger array, and we want to use the smaller array multiple times to perform some operation on the larger array."
   ]
  },
  {
   "cell_type": "code",
   "execution_count": 39,
   "metadata": {},
   "outputs": [
    {
     "name": "stdout",
     "output_type": "stream",
     "text": [
      "[[ 2  2  4]\n",
      " [ 5  5  7]\n",
      " [ 8  8 10]\n",
      " [11 11 13]]\n"
     ]
    }
   ],
   "source": [
    "import numpy as np\n",
    "\n",
    "# We will add the vector v to each row of the matrix x,\n",
    "# storing the result in the matrix y\n",
    "x = np.array([[1,2,3], [4,5,6], [7,8,9], [10, 11, 12]])\n",
    "v = np.array([1, 0, 1])\n",
    "y = x + v  # Add v to each row of x using broadcasting\n",
    "print(y)  # Prints \"[[ 2  2  4]\n",
    "          #          [ 5  5  7]\n",
    "          #          [ 8  8 10]\n",
    "          #          [11 11 13]]\""
   ]
  },
  {
   "cell_type": "markdown",
   "metadata": {},
   "source": [
    "### Multiple Dimensional Matrix Multiplication"
   ]
  },
  {
   "cell_type": "code",
   "execution_count": 41,
   "metadata": {},
   "outputs": [
    {
     "name": "stdout",
     "output_type": "stream",
     "text": [
      "(50, 100, 40)\n"
     ]
    }
   ],
   "source": [
    "import numpy as np\n",
    "\n",
    "# Let's say we have the following matrix A\n",
    "A = np.random.random((50, 100, 20))\n",
    "# We can imagine A as 50 instances of (100,20) matrices.\n",
    "# We have the following matrix B\n",
    "B = np.random.random((20,40))\n",
    "# We want to multiply each (100,20) instance of A by B, we can do this because the dimensions match up: 20 = 20\n",
    "print(np.dot(A,B).shape) \n",
    "# should be (50, 100, 40), each of the 50 (100,20) is multiplied by (20,40) matrix to yield (100, 40)"
   ]
  }
 ],
 "metadata": {
  "kernelspec": {
   "display_name": "Python 3",
   "language": "python",
   "name": "python3"
  },
  "language_info": {
   "codemirror_mode": {
    "name": "ipython",
    "version": 3
   },
   "file_extension": ".py",
   "mimetype": "text/x-python",
   "name": "python",
   "nbconvert_exporter": "python",
   "pygments_lexer": "ipython3",
   "version": "3.7.3"
  }
 },
 "nbformat": 4,
 "nbformat_minor": 2
}
