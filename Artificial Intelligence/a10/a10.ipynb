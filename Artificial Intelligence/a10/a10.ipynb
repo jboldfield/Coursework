{
 "cells": [
  {
   "cell_type": "markdown",
   "metadata": {},
   "source": [
    "# CS 4820\n",
    "# Assignment 10: Comparing ANN and CNN on the CIFAR-10 DataSet\n",
    "\n",
    "In this assignment, we are going to compare two classification models on the  [CIFAR-10](https://www.cs.toronto.edu/~kriz/cifar.html) dataset -- one is based on Fully-connected ANN; the other one is based on Convolutional NN.\n",
    "\n",
    "## 1. Loading the CIFAR-10 dataset"
   ]
  },
  {
   "cell_type": "code",
   "execution_count": 1,
   "metadata": {},
   "outputs": [],
   "source": [
    "# allow multiple outputs be displayed for each cell\n",
    "from IPython.core.interactiveshell import InteractiveShell\n",
    "InteractiveShell.ast_node_interactivity = \"all\""
   ]
  },
  {
   "cell_type": "code",
   "execution_count": 2,
   "metadata": {},
   "outputs": [],
   "source": [
    "import numpy as np\n",
    "\n",
    "from tensorflow.keras.datasets import cifar10\n",
    "\n",
    "(X_train, y_train), (X_test, y_test) = cifar10.load_data()"
   ]
  },
  {
   "cell_type": "code",
   "execution_count": 3,
   "metadata": {},
   "outputs": [
    {
     "name": "stdout",
     "output_type": "stream",
     "text": [
      "Shape of training data:\n"
     ]
    },
    {
     "data": {
      "text/plain": [
       "(50000, 32, 32, 3)"
      ]
     },
     "execution_count": 3,
     "metadata": {},
     "output_type": "execute_result"
    },
    {
     "data": {
      "text/plain": [
       "(50000, 1)"
      ]
     },
     "execution_count": 3,
     "metadata": {},
     "output_type": "execute_result"
    },
    {
     "name": "stdout",
     "output_type": "stream",
     "text": [
      "Shape of test data:\n"
     ]
    },
    {
     "data": {
      "text/plain": [
       "(10000, 32, 32, 3)"
      ]
     },
     "execution_count": 3,
     "metadata": {},
     "output_type": "execute_result"
    },
    {
     "data": {
      "text/plain": [
       "(10000, 1)"
      ]
     },
     "execution_count": 3,
     "metadata": {},
     "output_type": "execute_result"
    }
   ],
   "source": [
    "print(\"Shape of training data:\")\n",
    "X_train.shape\n",
    "y_train.shape\n",
    "print(\"Shape of test data:\")\n",
    "X_test.shape\n",
    "y_test.shape"
   ]
  },
  {
   "cell_type": "markdown",
   "metadata": {},
   "source": [
    "We have 50000 training and 10000 test images in the dataset. The images have a structure of (32,32,3) which correspond to (width, height, RGB)."
   ]
  },
  {
   "cell_type": "code",
   "execution_count": 4,
   "metadata": {},
   "outputs": [
    {
     "name": "stdout",
     "output_type": "stream",
     "text": [
      "Example training images and their labels: [6, 9, 9, 4, 1]\n",
      "Corresponding classes for the labels: ['frog', 'truck', 'truck', 'deer', 'automobile']\n"
     ]
    },
    {
     "data": {
      "text/plain": [
       "<matplotlib.image.AxesImage at 0x1da0e934cc8>"
      ]
     },
     "execution_count": 4,
     "metadata": {},
     "output_type": "execute_result"
    },
    {
     "data": {
      "text/plain": [
       "<matplotlib.image.AxesImage at 0x1da0e3d11c8>"
      ]
     },
     "execution_count": 4,
     "metadata": {},
     "output_type": "execute_result"
    },
    {
     "data": {
      "text/plain": [
       "<matplotlib.image.AxesImage at 0x1da0ea72108>"
      ]
     },
     "execution_count": 4,
     "metadata": {},
     "output_type": "execute_result"
    },
    {
     "data": {
      "text/plain": [
       "<matplotlib.image.AxesImage at 0x1da0ea7acc8>"
      ]
     },
     "execution_count": 4,
     "metadata": {},
     "output_type": "execute_result"
    },
    {
     "data": {
      "text/plain": [
       "<matplotlib.image.AxesImage at 0x1da0ea721c8>"
      ]
     },
     "execution_count": 4,
     "metadata": {},
     "output_type": "execute_result"
    }
   ],
   "source": [
    "import matplotlib.pyplot as plt\n",
    "\n",
    "cifar_classes = ['airplane', 'automobile', 'bird', 'cat', 'deer', 'dog', 'frog', 'horse', 'ship', 'truck']\n",
    "print('Example training images and their labels: ' + str([x[0] for x in y_train[0:5]])) \n",
    "print('Corresponding classes for the labels: ' + str([cifar_classes[x[0]] for x in y_train[0:5]]))\n",
    "\n",
    "f, axarr = plt.subplots(1, 5)\n",
    "f.set_size_inches(16, 6)\n",
    "\n",
    "for i in range(5):\n",
    "    axarr[i].imshow(X_train[i])"
   ]
  },
  {
   "cell_type": "markdown",
   "metadata": {},
   "source": [
    "## 2. Fully-connected ANN Classifier\n",
    "\n",
    "First of all, you need to __scale__ and __reshape__ the data."
   ]
  },
  {
   "cell_type": "code",
   "execution_count": 5,
   "metadata": {},
   "outputs": [
    {
     "data": {
      "text/plain": [
       "(50000, 3072)"
      ]
     },
     "execution_count": 5,
     "metadata": {},
     "output_type": "execute_result"
    },
    {
     "data": {
      "text/plain": [
       "(10000, 3072)"
      ]
     },
     "execution_count": 5,
     "metadata": {},
     "output_type": "execute_result"
    }
   ],
   "source": [
    "X_train_sc = X_train.astype('float32') / 255.0\n",
    "X_test_sc = X_test.astype('float32') / 255.0\n",
    "\n",
    "X_train_flat = X_train_sc.reshape(-1, 32*32*3)\n",
    "X_test_flat = X_test_sc.reshape(-1, 32*32*3)\n",
    "\n",
    "X_train_flat.shape\n",
    "X_test_flat.shape"
   ]
  },
  {
   "cell_type": "markdown",
   "metadata": {},
   "source": [
    "You also need to one-hot encode the targets."
   ]
  },
  {
   "cell_type": "code",
   "execution_count": 6,
   "metadata": {},
   "outputs": [
    {
     "data": {
      "text/plain": [
       "(50000, 10)"
      ]
     },
     "execution_count": 6,
     "metadata": {},
     "output_type": "execute_result"
    },
    {
     "data": {
      "text/plain": [
       "(10000, 10)"
      ]
     },
     "execution_count": 6,
     "metadata": {},
     "output_type": "execute_result"
    }
   ],
   "source": [
    "from tensorflow.keras.utils import to_categorical\n",
    "\n",
    "y_train_cat = to_categorical(y_train)\n",
    "y_test_cat = to_categorical(y_test)\n",
    "\n",
    "y_train_cat.shape\n",
    "y_test_cat.shape"
   ]
  },
  {
   "cell_type": "markdown",
   "metadata": {},
   "source": [
    "Then build a fully-connected ANN model. The architecure of the model is totally up to you."
   ]
  },
  {
   "cell_type": "code",
   "execution_count": 7,
   "metadata": {},
   "outputs": [
    {
     "name": "stdout",
     "output_type": "stream",
     "text": [
      "Model: \"sequential\"\n",
      "_________________________________________________________________\n",
      "Layer (type)                 Output Shape              Param #   \n",
      "=================================================================\n",
      "dense (Dense)                (None, 200)               614600    \n",
      "_________________________________________________________________\n",
      "dense_1 (Dense)              (None, 146)               29346     \n",
      "_________________________________________________________________\n",
      "dense_2 (Dense)              (None, 64)                9408      \n",
      "_________________________________________________________________\n",
      "dense_3 (Dense)              (None, 10)                650       \n",
      "=================================================================\n",
      "Total params: 654,004\n",
      "Trainable params: 654,004\n",
      "Non-trainable params: 0\n",
      "_________________________________________________________________\n"
     ]
    }
   ],
   "source": [
    "from tensorflow.keras.models import Sequential\n",
    "from tensorflow.keras.layers import Dense\n",
    "\n",
    "model = Sequential()\n",
    "\n",
    "model.add(Dense(200, input_dim=3072, activation='relu'))\n",
    "model.add(Dense(146, activation='relu'))\n",
    "model.add(Dense(64, activation='relu'))\n",
    "model.add(Dense(10, activation='softmax'))\n",
    "\n",
    "model.compile(loss='categorical_crossentropy',\n",
    "              optimizer='rmsprop',\n",
    "              metrics=['accuracy'])\n",
    "\n",
    "model.summary()"
   ]
  },
  {
   "cell_type": "markdown",
   "metadata": {},
   "source": [
    "Train the model."
   ]
  },
  {
   "cell_type": "code",
   "execution_count": 8,
   "metadata": {},
   "outputs": [
    {
     "name": "stdout",
     "output_type": "stream",
     "text": [
      "Train on 45000 samples, validate on 5000 samples\n",
      "Epoch 1/10\n",
      "45000/45000 [==============================] - 4s 78us/sample - loss: 2.0660 - accuracy: 0.2551 - val_loss: 1.9570 - val_accuracy: 0.2984\n",
      "Epoch 2/10\n",
      "45000/45000 [==============================] - 3s 71us/sample - loss: 1.8076 - accuracy: 0.3486 - val_loss: 1.8449 - val_accuracy: 0.3322\n",
      "Epoch 3/10\n",
      "45000/45000 [==============================] - 3s 71us/sample - loss: 1.7258 - accuracy: 0.3821 - val_loss: 1.8139 - val_accuracy: 0.3578\n",
      "Epoch 4/10\n",
      "45000/45000 [==============================] - 3s 75us/sample - loss: 1.6624 - accuracy: 0.4065 - val_loss: 1.7295 - val_accuracy: 0.3836\n",
      "Epoch 5/10\n",
      "45000/45000 [==============================] - 3s 72us/sample - loss: 1.6107 - accuracy: 0.4273 - val_loss: 1.6537 - val_accuracy: 0.4056\n",
      "Epoch 6/10\n",
      "45000/45000 [==============================] - 3s 72us/sample - loss: 1.5721 - accuracy: 0.4395 - val_loss: 1.5891 - val_accuracy: 0.4338\n",
      "Epoch 7/10\n",
      "45000/45000 [==============================] - 3s 73us/sample - loss: 1.5367 - accuracy: 0.4508 - val_loss: 1.6574 - val_accuracy: 0.4074\n",
      "Epoch 8/10\n",
      "45000/45000 [==============================] - 3s 74us/sample - loss: 1.5104 - accuracy: 0.4593 - val_loss: 1.6749 - val_accuracy: 0.4040\n",
      "Epoch 9/10\n",
      "45000/45000 [==============================] - 3s 73us/sample - loss: 1.4840 - accuracy: 0.4690 - val_loss: 1.6082 - val_accuracy: 0.4204\n",
      "Epoch 10/10\n",
      "45000/45000 [==============================] - 3s 73us/sample - loss: 1.4616 - accuracy: 0.4762 - val_loss: 1.5041 - val_accuracy: 0.4710\n"
     ]
    }
   ],
   "source": [
    "h = model.fit(X_train_flat, y_train_cat, batch_size=128,\n",
    "              epochs=10, verbose=1,\n",
    "              validation_split=0.1)"
   ]
  },
  {
   "cell_type": "markdown",
   "metadata": {},
   "source": [
    "Plot the training history (like what was done in Tutorial 10)."
   ]
  },
  {
   "cell_type": "code",
   "execution_count": 9,
   "metadata": {},
   "outputs": [
    {
     "data": {
      "image/png": "[encoded data removed]",
      "text/plain": [
       "<Figure size 432x288 with 1 Axes>"
      ]
     },
     "metadata": {
      "needs_background": "light"
     },
     "output_type": "display_data"
    }
   ],
   "source": [
    "import matplotlib.pyplot as plt\n",
    "\n",
    "plt.plot(h.history['accuracy'])\n",
    "plt.plot(h.history['val_accuracy'])\n",
    "plt.legend(['Training', 'Validation'])\n",
    "plt.title('Accuracy')\n",
    "plt.xlabel('Epochs');"
   ]
  },
  {
   "cell_type": "markdown",
   "metadata": {},
   "source": [
    "Check the performance on the training and testing datasets respectively (like what was done in Tutorial 10)."
   ]
  },
  {
   "cell_type": "code",
   "execution_count": 10,
   "metadata": {},
   "outputs": [
    {
     "name": "stdout",
     "output_type": "stream",
     "text": [
      "Train accuracy: 0.5010\n",
      "Test accuracy: 0.4713\n"
     ]
    }
   ],
   "source": [
    "train_acc = model.evaluate(X_train_flat, y_train_cat,\n",
    "                           verbose=0)[1]\n",
    "test_acc = model.evaluate(X_test_flat, y_test_cat,\n",
    "                          verbose=0)[1]\n",
    "\n",
    "print(\"Train accuracy: {:0.4f}\".format(train_acc))\n",
    "print(\"Test accuracy: {:0.4f}\".format(test_acc))"
   ]
  },
  {
   "cell_type": "markdown",
   "metadata": {},
   "source": [
    "For your reference, below was how the accurary results of my model looked like during training:\n",
    "\n",
    "![ann_training_history](./assets/ann_training_history.png)\n",
    "\n",
    "\n",
    "Below was the performace of my model on the training and testing datasets respectively:\n",
    "\n",
    "- Train accuracy: 0.4599\n",
    "- Test accuracy: 0.4344"
   ]
  },
  {
   "cell_type": "markdown",
   "metadata": {},
   "source": [
    "## 3. CNN Classifier\n"
   ]
  },
  {
   "cell_type": "markdown",
   "metadata": {},
   "source": [
    "Ensure that the dataset is ready for the convolution."
   ]
  },
  {
   "cell_type": "code",
   "execution_count": 11,
   "metadata": {},
   "outputs": [
    {
     "data": {
      "text/plain": [
       "(50000, 32, 32, 3)"
      ]
     },
     "execution_count": 11,
     "metadata": {},
     "output_type": "execute_result"
    },
    {
     "data": {
      "text/plain": [
       "(10000, 32, 32, 3)"
      ]
     },
     "execution_count": 11,
     "metadata": {},
     "output_type": "execute_result"
    }
   ],
   "source": [
    "X_train_t = X_train_sc.reshape(-1, 32, 32, 3)\n",
    "X_test_t = X_test_sc.reshape(-1, 32, 32, 3)\n",
    "\n",
    "X_train_t.shape\n",
    "X_test_t.shape"
   ]
  },
  {
   "cell_type": "markdown",
   "metadata": {},
   "source": [
    "Then build a CNN-based model. The architecure of the model is totally up to you."
   ]
  },
  {
   "cell_type": "code",
   "execution_count": 12,
   "metadata": {},
   "outputs": [
    {
     "name": "stdout",
     "output_type": "stream",
     "text": [
      "Model: \"sequential_1\"\n",
      "_________________________________________________________________\n",
      "Layer (type)                 Output Shape              Param #   \n",
      "=================================================================\n",
      "conv2d (Conv2D)              (None, 30, 30, 32)        896       \n",
      "_________________________________________________________________\n",
      "max_pooling2d (MaxPooling2D) (None, 10, 10, 32)        0         \n",
      "_________________________________________________________________\n",
      "activation (Activation)      (None, 10, 10, 32)        0         \n",
      "_________________________________________________________________\n",
      "flatten (Flatten)            (None, 3200)              0         \n",
      "_________________________________________________________________\n",
      "dense_4 (Dense)              (None, 100)               320100    \n",
      "_________________________________________________________________\n",
      "dense_5 (Dense)              (None, 85)                8585      \n",
      "_________________________________________________________________\n",
      "dense_6 (Dense)              (None, 34)                2924      \n",
      "_________________________________________________________________\n",
      "dense_7 (Dense)              (None, 10)                350       \n",
      "=================================================================\n",
      "Total params: 332,855\n",
      "Trainable params: 332,855\n",
      "Non-trainable params: 0\n",
      "_________________________________________________________________\n"
     ]
    }
   ],
   "source": [
    "from tensorflow.keras.models import Sequential\n",
    "from tensorflow.keras.layers import Conv2D, Dense\n",
    "\n",
    "from tensorflow.keras.layers import MaxPooling2D\n",
    "from tensorflow.keras.layers import Flatten, Activation\n",
    "\n",
    "model_2 = Sequential()\n",
    "\n",
    "model_2.add(Conv2D(32, (3, 3), input_shape=(32, 32, 3),\n",
    "                 kernel_initializer='normal'))\n",
    "model_2.add(MaxPooling2D(pool_size=(3, 3)))\n",
    "model_2.add(Activation('relu'))\n",
    "model_2.add(Flatten())\n",
    "model_2.add(Dense(100, activation='relu'))\n",
    "model_2.add(Dense(85, activation='relu'))\n",
    "model_2.add(Dense(34, activation='relu'))\n",
    "model_2.add(Dense(10, activation='softmax'))\n",
    "\n",
    "model_2.compile(loss='categorical_crossentropy',\n",
    "              optimizer='rmsprop',\n",
    "              metrics=['accuracy'])\n",
    "\n",
    "model_2.summary()"
   ]
  },
  {
   "cell_type": "markdown",
   "metadata": {},
   "source": [
    "Train the model."
   ]
  },
  {
   "cell_type": "code",
   "execution_count": 13,
   "metadata": {},
   "outputs": [
    {
     "name": "stdout",
     "output_type": "stream",
     "text": [
      "Train on 45000 samples, validate on 5000 samples\n",
      "Epoch 1/25\n",
      "45000/45000 [==============================] - 14s 301us/sample - loss: 1.8000 - accuracy: 0.3437 - val_loss: 1.4963 - val_accuracy: 0.4718\n",
      "Epoch 2/25\n",
      "45000/45000 [==============================] - 13s 297us/sample - loss: 1.4471 - accuracy: 0.4842 - val_loss: 1.3522 - val_accuracy: 0.5152\n",
      "Epoch 3/25\n",
      "45000/45000 [==============================] - 13s 299us/sample - loss: 1.2931 - accuracy: 0.5420 - val_loss: 1.2241 - val_accuracy: 0.5596\n",
      "Epoch 4/25\n",
      "45000/45000 [==============================] - 13s 298us/sample - loss: 1.1836 - accuracy: 0.5843 - val_loss: 1.1321 - val_accuracy: 0.5996\n",
      "Epoch 5/25\n",
      "45000/45000 [==============================] - 13s 296us/sample - loss: 1.0974 - accuracy: 0.6161 - val_loss: 1.0979 - val_accuracy: 0.6182\n",
      "Epoch 6/25\n",
      "45000/45000 [==============================] - 13s 299us/sample - loss: 1.0224 - accuracy: 0.6434 - val_loss: 1.0928 - val_accuracy: 0.6258\n",
      "Epoch 7/25\n",
      "45000/45000 [==============================] - 13s 297us/sample - loss: 0.9608 - accuracy: 0.6644 - val_loss: 1.0380 - val_accuracy: 0.6446\n",
      "Epoch 8/25\n",
      "45000/45000 [==============================] - 13s 295us/sample - loss: 0.9042 - accuracy: 0.6859 - val_loss: 1.0462 - val_accuracy: 0.6440\n",
      "Epoch 9/25\n",
      "45000/45000 [==============================] - 13s 299us/sample - loss: 0.8550 - accuracy: 0.7020 - val_loss: 1.0230 - val_accuracy: 0.6506\n",
      "Epoch 10/25\n",
      "45000/45000 [==============================] - 13s 300us/sample - loss: 0.8077 - accuracy: 0.7207 - val_loss: 0.9894 - val_accuracy: 0.6630\n",
      "Epoch 11/25\n",
      "45000/45000 [==============================] - 13s 297us/sample - loss: 0.7580 - accuracy: 0.7371 - val_loss: 0.9629 - val_accuracy: 0.6768\n",
      "Epoch 12/25\n",
      "45000/45000 [==============================] - 13s 298us/sample - loss: 0.7211 - accuracy: 0.7488 - val_loss: 1.0087 - val_accuracy: 0.6632\n",
      "Epoch 13/25\n",
      "45000/45000 [==============================] - 14s 300us/sample - loss: 0.6703 - accuracy: 0.7670 - val_loss: 1.0197 - val_accuracy: 0.6640\n",
      "Epoch 14/25\n",
      "45000/45000 [==============================] - 13s 300us/sample - loss: 0.6352 - accuracy: 0.7808 - val_loss: 1.0296 - val_accuracy: 0.6752\n",
      "Epoch 15/25\n",
      "45000/45000 [==============================] - 13s 298us/sample - loss: 0.5943 - accuracy: 0.7944 - val_loss: 1.0436 - val_accuracy: 0.6710\n",
      "Epoch 16/25\n",
      "45000/45000 [==============================] - 14s 301us/sample - loss: 0.5615 - accuracy: 0.8058 - val_loss: 1.0323 - val_accuracy: 0.6748\n",
      "Epoch 17/25\n",
      "45000/45000 [==============================] - 13s 297us/sample - loss: 0.5238 - accuracy: 0.8190 - val_loss: 1.1548 - val_accuracy: 0.6632\n",
      "Epoch 18/25\n",
      "45000/45000 [==============================] - 14s 308us/sample - loss: 0.4894 - accuracy: 0.8312 - val_loss: 1.2234 - val_accuracy: 0.6430\n",
      "Epoch 19/25\n",
      "45000/45000 [==============================] - 14s 308us/sample - loss: 0.4630 - accuracy: 0.8407 - val_loss: 1.1818 - val_accuracy: 0.6682\n",
      "Epoch 20/25\n",
      "45000/45000 [==============================] - 16s 347us/sample - loss: 0.4283 - accuracy: 0.8523 - val_loss: 1.2613 - val_accuracy: 0.6638\n",
      "Epoch 21/25\n",
      "45000/45000 [==============================] - 14s 306us/sample - loss: 0.3987 - accuracy: 0.8632 - val_loss: 1.2300 - val_accuracy: 0.6744\n",
      "Epoch 22/25\n",
      "45000/45000 [==============================] - 14s 308us/sample - loss: 0.3693 - accuracy: 0.8716 - val_loss: 1.3000 - val_accuracy: 0.6610\n",
      "Epoch 23/25\n",
      "45000/45000 [==============================] - 14s 306us/sample - loss: 0.3442 - accuracy: 0.8813 - val_loss: 1.3705 - val_accuracy: 0.6594\n",
      "Epoch 24/25\n",
      "45000/45000 [==============================] - 14s 306us/sample - loss: 0.3202 - accuracy: 0.8908 - val_loss: 1.4190 - val_accuracy: 0.6576\n",
      "Epoch 25/25\n",
      "45000/45000 [==============================] - 14s 305us/sample - loss: 0.2959 - accuracy: 0.8973 - val_loss: 1.5184 - val_accuracy: 0.6492\n"
     ]
    }
   ],
   "source": [
    "h_2 = model_2.fit(X_train_t, y_train_cat, batch_size=120,\n",
    "              epochs=25, verbose=1, validation_split=0.1)"
   ]
  },
  {
   "cell_type": "markdown",
   "metadata": {},
   "source": [
    "Plot the training history (like what was done in Tutorial 10)."
   ]
  },
  {
   "cell_type": "code",
   "execution_count": 16,
   "metadata": {},
   "outputs": [
    {
     "data": {
      "image/png": "[encoded data removed]",
      "text/plain": [
       "<Figure size 432x288 with 1 Axes>"
      ]
     },
     "metadata": {
      "needs_background": "light"
     },
     "output_type": "display_data"
    }
   ],
   "source": [
    "import matplotlib.pyplot as plt\n",
    "\n",
    "plt.plot(h_2.history['accuracy'])\n",
    "plt.plot(h_2.history['val_accuracy'])\n",
    "plt.legend(['Training', 'Validation'])\n",
    "plt.title('Accuracy')\n",
    "plt.xlabel('Epochs');"
   ]
  },
  {
   "cell_type": "markdown",
   "metadata": {},
   "source": [
    "Check the performance on the training and testing datasets respectively (like what was done in Tutorial 10)."
   ]
  },
  {
   "cell_type": "code",
   "execution_count": 17,
   "metadata": {},
   "outputs": [
    {
     "name": "stdout",
     "output_type": "stream",
     "text": [
      "Train accuracy: 0.8897\n",
      "Test accuracy: 0.6357\n"
     ]
    }
   ],
   "source": [
    "train_acc_2 = model_2.evaluate(X_train_t, y_train_cat,\n",
    "                           verbose=0)[1]\n",
    "test_acc_2 = model_2.evaluate(X_test_t, y_test_cat,\n",
    "                          verbose=0)[1]\n",
    "\n",
    "print(\"Train accuracy: {:0.4f}\".format(train_acc_2))\n",
    "print(\"Test accuracy: {:0.4f}\".format(test_acc_2))"
   ]
  },
  {
   "cell_type": "markdown",
   "metadata": {},
   "source": [
    "For your reference, below was how the accurary results of my model looked like during training:\n",
    "\n",
    "![cnn_training_history](./assets/cnn_training_history.png)\n",
    "\n",
    "\n",
    "Below was the performace of my model on the training and testing datasets respectively:\n",
    "\n",
    "- Train accuracy: 0.9258\n",
    "- Test accuracy: 0.6789\n",
    "\n",
    "As you could see, the CNN-based classifier achieved a much better performance than the ANN-based model. Apparently, overfitting still occured. To avoid this, additional regularization techniques such as dropping, batch normalization, data Augmentation, etc. could be applied. However, we are running out of time as this semester is getting to its end. I will leave these techniques to you as after-class research."
   ]
  }
 ],
 "metadata": {
  "kernelspec": {
   "display_name": "Python 3",
   "language": "python",
   "name": "python3"
  },
  "language_info": {
   "codemirror_mode": {
    "name": "ipython",
    "version": 3
   },
   "file_extension": ".py",
   "mimetype": "text/x-python",
   "name": "python",
   "nbconvert_exporter": "python",
   "pygments_lexer": "ipython3",
   "version": "3.7.4"
  }
 },
 "nbformat": 4,
 "nbformat_minor": 2
}
