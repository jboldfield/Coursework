{
 "cells": [
  {
   "cell_type": "markdown",
   "metadata": {},
   "source": [
    "# CS 4820\n",
    "# Assignment 1\n",
    "## Due: 2:00pm, 09/04/2019\n",
    "\n",
    "### What to turn in?\n",
    "\n",
    "After completing both problems below, zip up __the outer folder__ that contains this notebook (a1.ipynb) and the assets folder, name it __a1_your_full_name.zip__ and submit it on BlazeVIW.\n",
    "\n",
    "### Problem 1\n",
    "\n",
    "Let's practice a little bit more with `numpy`:"
   ]
  },
  {
   "cell_type": "code",
   "execution_count": 1,
   "metadata": {},
   "outputs": [],
   "source": [
    "import numpy as np\n",
    "\n",
    "# allow multiple outputs be displayed for each cell\n",
    "from IPython.core.interactiveshell import InteractiveShell\n",
    "InteractiveShell.ast_node_interactivity = \"all\""
   ]
  },
  {
   "cell_type": "markdown",
   "metadata": {},
   "source": [
    "1.1 Generate an array of zeros with `shape=(10, 10)`, call it `a`\n",
    "\n",
    "```\n",
    "array([[0., 0., 0., 0., 0., 0., 0., 0., 0., 0.],\n",
    "       [0., 0., 0., 0., 0., 0., 0., 0., 0., 0.],\n",
    "       [0., 0., 0., 0., 0., 0., 0., 0., 0., 0.],\n",
    "       [0., 0., 0., 0., 0., 0., 0., 0., 0., 0.],\n",
    "       [0., 0., 0., 0., 0., 0., 0., 0., 0., 0.],\n",
    "       [0., 0., 0., 0., 0., 0., 0., 0., 0., 0.],\n",
    "       [0., 0., 0., 0., 0., 0., 0., 0., 0., 0.],\n",
    "       [0., 0., 0., 0., 0., 0., 0., 0., 0., 0.],\n",
    "       [0., 0., 0., 0., 0., 0., 0., 0., 0., 0.],\n",
    "       [0., 0., 0., 0., 0., 0., 0., 0., 0., 0.]])\n",
    "```\n",
    "   Hint: use the built-in function `np.zeros()`"
   ]
  },
  {
   "cell_type": "code",
   "execution_count": 82,
   "metadata": {},
   "outputs": [
    {
     "data": {
      "text/plain": [
       "(10, 10)"
      ]
     },
     "execution_count": 82,
     "metadata": {},
     "output_type": "execute_result"
    },
    {
     "data": {
      "text/plain": [
       "array([[0., 0., 0., 0., 0., 0., 0., 0., 0., 0.],\n",
       "       [0., 0., 0., 0., 0., 0., 0., 0., 0., 0.],\n",
       "       [0., 0., 0., 0., 0., 0., 0., 0., 0., 0.],\n",
       "       [0., 0., 0., 0., 0., 0., 0., 0., 0., 0.],\n",
       "       [0., 0., 0., 0., 0., 0., 0., 0., 0., 0.],\n",
       "       [0., 0., 0., 0., 0., 0., 0., 0., 0., 0.],\n",
       "       [0., 0., 0., 0., 0., 0., 0., 0., 0., 0.],\n",
       "       [0., 0., 0., 0., 0., 0., 0., 0., 0., 0.],\n",
       "       [0., 0., 0., 0., 0., 0., 0., 0., 0., 0.],\n",
       "       [0., 0., 0., 0., 0., 0., 0., 0., 0., 0.]])"
      ]
     },
     "execution_count": 82,
     "metadata": {},
     "output_type": "execute_result"
    }
   ],
   "source": [
    "a = np.zeros((10, 10))\n",
    "a.shape\n",
    "a"
   ]
  },
  {
   "cell_type": "markdown",
   "metadata": {},
   "source": [
    "1.2 Set every other element of `a` to 1, both along columns and rows, so that you obtain a nice checkerboard pattern of zeros and ones\n",
    "\n",
    "```\n",
    "array([[1., 0., 1., 0., 1., 0., 1., 0., 1., 0.],\n",
    "       [0., 1., 0., 1., 0., 1., 0., 1., 0., 1.],\n",
    "       [1., 0., 1., 0., 1., 0., 1., 0., 1., 0.],\n",
    "       [0., 1., 0., 1., 0., 1., 0., 1., 0., 1.],\n",
    "       [1., 0., 1., 0., 1., 0., 1., 0., 1., 0.],\n",
    "       [0., 1., 0., 1., 0., 1., 0., 1., 0., 1.],\n",
    "       [1., 0., 1., 0., 1., 0., 1., 0., 1., 0.],\n",
    "       [0., 1., 0., 1., 0., 1., 0., 1., 0., 1.],\n",
    "       [1., 0., 1., 0., 1., 0., 1., 0., 1., 0.],\n",
    "       [0., 1., 0., 1., 0., 1., 0., 1., 0., 1.]])\n",
    "```\n",
    "    \n",
    "    Hint: use stride."
   ]
  },
  {
   "cell_type": "code",
   "execution_count": 86,
   "metadata": {},
   "outputs": [
    {
     "data": {
      "text/plain": [
       "array([[1., 0., 1., 0., 1., 0., 1., 0., 1., 0.],\n",
       "       [0., 1., 0., 1., 0., 1., 0., 1., 0., 1.],\n",
       "       [1., 0., 1., 0., 1., 0., 1., 0., 1., 0.],\n",
       "       [0., 1., 0., 1., 0., 1., 0., 1., 0., 1.],\n",
       "       [1., 0., 1., 0., 1., 0., 1., 0., 1., 0.],\n",
       "       [0., 1., 0., 1., 0., 1., 0., 1., 0., 1.],\n",
       "       [1., 0., 1., 0., 1., 0., 1., 0., 1., 0.],\n",
       "       [0., 1., 0., 1., 0., 1., 0., 1., 0., 1.],\n",
       "       [1., 0., 1., 0., 1., 0., 1., 0., 1., 0.],\n",
       "       [0., 1., 0., 1., 0., 1., 0., 1., 0., 1.]])"
      ]
     },
     "execution_count": 86,
     "metadata": {},
     "output_type": "execute_result"
    }
   ],
   "source": [
    "a[::2, ::2] = 1\n",
    "a[1::2, 1::2] = 1\n",
    "a"
   ]
  },
  {
   "cell_type": "markdown",
   "metadata": {},
   "source": [
    "1.3 Generate a second array to be the sequence from 5 included to 15 excluded, call it `b`\n",
    "\n",
    "```\n",
    "array([ 5,  6,  7,  8,  9, 10, 11, 12, 13, 14])\n",
    "```\n",
    "  \n",
    "  Hint:  use the built-in function `np.arange()`"
   ]
  },
  {
   "cell_type": "code",
   "execution_count": 134,
   "metadata": {},
   "outputs": [
    {
     "data": {
      "text/plain": [
       "array([ 5,  6,  7,  8,  9, 10, 11, 12, 13, 14])"
      ]
     },
     "execution_count": 134,
     "metadata": {},
     "output_type": "execute_result"
    }
   ],
   "source": [
    "b = np.arange(5, 15)\n",
    "b"
   ]
  },
  {
   "cell_type": "markdown",
   "metadata": {},
   "source": [
    "1.4 multiply `a` times `b` in such a way that the first row of `a` is an alternation of zeros and fives, the second row is an alternation of zeros and sixes and so on. Call this new array `c`. \n",
    "\n",
    "```\n",
    "array([[ 5.,  0.,  5.,  0.,  5.,  0.,  5.,  0.,  5.,  0.],\n",
    "       [ 0.,  6.,  0.,  6.,  0.,  6.,  0.,  6.,  0.,  6.],\n",
    "       [ 7.,  0.,  7.,  0.,  7.,  0.,  7.,  0.,  7.,  0.],\n",
    "       [ 0.,  8.,  0.,  8.,  0.,  8.,  0.,  8.,  0.,  8.],\n",
    "       [ 9.,  0.,  9.,  0.,  9.,  0.,  9.,  0.,  9.,  0.],\n",
    "       [ 0., 10.,  0., 10.,  0., 10.,  0., 10.,  0., 10.],\n",
    "       [11.,  0., 11.,  0., 11.,  0., 11.,  0., 11.,  0.],\n",
    "       [ 0., 12.,  0., 12.,  0., 12.,  0., 12.,  0., 12.],\n",
    "       [13.,  0., 13.,  0., 13.,  0., 13.,  0., 13.,  0.],\n",
    "       [ 0., 14.,  0., 14.,  0., 14.,  0., 14.,  0., 14.]])\n",
    "```\n",
    "\n",
    "   Hint: to complete this part, you will have to reshape `b` as a column array first."
   ]
  },
  {
   "cell_type": "code",
   "execution_count": 139,
   "metadata": {},
   "outputs": [
    {
     "data": {
      "text/plain": [
       "array([[ 5.,  0.,  5.,  0.,  5.,  0.,  5.,  0.,  5.,  0.],\n",
       "       [ 0.,  6.,  0.,  6.,  0.,  6.,  0.,  6.,  0.,  6.],\n",
       "       [ 7.,  0.,  7.,  0.,  7.,  0.,  7.,  0.,  7.,  0.],\n",
       "       [ 0.,  8.,  0.,  8.,  0.,  8.,  0.,  8.,  0.,  8.],\n",
       "       [ 9.,  0.,  9.,  0.,  9.,  0.,  9.,  0.,  9.,  0.],\n",
       "       [ 0., 10.,  0., 10.,  0., 10.,  0., 10.,  0., 10.],\n",
       "       [11.,  0., 11.,  0., 11.,  0., 11.,  0., 11.,  0.],\n",
       "       [ 0., 12.,  0., 12.,  0., 12.,  0., 12.,  0., 12.],\n",
       "       [13.,  0., 13.,  0., 13.,  0., 13.,  0., 13.,  0.],\n",
       "       [ 0., 14.,  0., 14.,  0., 14.,  0., 14.,  0., 14.]])"
      ]
     },
     "execution_count": 139,
     "metadata": {},
     "output_type": "execute_result"
    }
   ],
   "source": [
    "b = b.reshape(-1, 1)\n",
    "c = a * b\n",
    "c"
   ]
  },
  {
   "cell_type": "markdown",
   "metadata": {},
   "source": [
    "1.5 calculate the `mean` and the `standard deviation` of `c` along rows and columns\n",
    "\n",
    "```\n",
    "Mean along rows:\n",
    "array([4.5, 5. , 4.5, 5. , 4.5, 5. , 4.5, 5. , 4.5, 5. ])\n",
    "\n",
    "Standard deviation along rows:\n",
    "array([4.9244289 , 5.38516481, 4.9244289 , 5.38516481, 4.9244289 ,\n",
    "       5.38516481, 4.9244289 , 5.38516481, 4.9244289 , 5.38516481])\n",
    "       \n",
    "Mean along columns:\n",
    "array([2.5, 3. , 3.5, 4. , 4.5, 5. , 5.5, 6. , 6.5, 7. ])\n",
    "\n",
    "Standard deviation along columns:\n",
    "array([2.5, 3. , 3.5, 4. , 4.5, 5. , 5.5, 6. , 6.5, 7. ])\n",
    "```\n",
    "\n",
    "Hint: look up the built-in `mean` and `std` functions and use them."
   ]
  },
  {
   "cell_type": "code",
   "execution_count": 146,
   "metadata": {},
   "outputs": [
    {
     "data": {
      "text/plain": [
       "array([4.5, 5. , 4.5, 5. , 4.5, 5. , 4.5, 5. , 4.5, 5. ])"
      ]
     },
     "execution_count": 146,
     "metadata": {},
     "output_type": "execute_result"
    },
    {
     "data": {
      "text/plain": [
       "array([4.9244289 , 5.38516481, 4.9244289 , 5.38516481, 4.9244289 ,\n",
       "       5.38516481, 4.9244289 , 5.38516481, 4.9244289 , 5.38516481])"
      ]
     },
     "execution_count": 146,
     "metadata": {},
     "output_type": "execute_result"
    },
    {
     "data": {
      "text/plain": [
       "array([2.5, 3. , 3.5, 4. , 4.5, 5. , 5.5, 6. , 6.5, 7. ])"
      ]
     },
     "execution_count": 146,
     "metadata": {},
     "output_type": "execute_result"
    },
    {
     "data": {
      "text/plain": [
       "array([2.5, 3. , 3.5, 4. , 4.5, 5. , 5.5, 6. , 6.5, 7. ])"
      ]
     },
     "execution_count": 146,
     "metadata": {},
     "output_type": "execute_result"
    }
   ],
   "source": [
    "# Mean along rows:\n",
    "np.mean(c, axis=0)\n",
    "# Standard deviation along rows:\n",
    "np.std(c, axis=0)\n",
    "\n",
    "# Mean along columns:\n",
    "np.mean(c, axis=1)\n",
    "# Standard deviation along rows:\n",
    "np.std(c, axis=1)"
   ]
  },
  {
   "cell_type": "markdown",
   "metadata": {},
   "source": [
    "1.6 Create a new array of `shape=(10, 5)` and fill it with the __non-zero values__ of `c`, call it `d`.\n",
    "\n",
    "```\n",
    "array([[ 5.,  5.,  5.,  5.,  5.],\n",
    "       [ 6.,  6.,  6.,  6.,  6.],\n",
    "       [ 7.,  7.,  7.,  7.,  7.],\n",
    "       [ 8.,  8.,  8.,  8.,  8.],\n",
    "       [ 9.,  9.,  9.,  9.,  9.],\n",
    "       [10., 10., 10., 10., 10.],\n",
    "       [11., 11., 11., 11., 11.],\n",
    "       [12., 12., 12., 12., 12.],\n",
    "       [13., 13., 13., 13., 13.],\n",
    "       [14., 14., 14., 14., 14.]])\n",
    "```\n",
    "\n",
    "   Hint: Search for positive values from `c` by putting the search criteron between brackets `c[c>0]`, then reshape the resultant array to a 10 by 5 matrix"
   ]
  },
  {
   "cell_type": "code",
   "execution_count": 151,
   "metadata": {},
   "outputs": [
    {
     "data": {
      "text/plain": [
       "array([[ 5.,  5.,  5.,  5.,  5.],\n",
       "       [ 6.,  6.,  6.,  6.,  6.],\n",
       "       [ 7.,  7.,  7.,  7.,  7.],\n",
       "       [ 8.,  8.,  8.,  8.,  8.],\n",
       "       [ 9.,  9.,  9.,  9.,  9.],\n",
       "       [10., 10., 10., 10., 10.],\n",
       "       [11., 11., 11., 11., 11.],\n",
       "       [12., 12., 12., 12., 12.],\n",
       "       [13., 13., 13., 13., 13.],\n",
       "       [14., 14., 14., 14., 14.]])"
      ]
     },
     "execution_count": 151,
     "metadata": {},
     "output_type": "execute_result"
    }
   ],
   "source": [
    "d = c[c>0]\n",
    "d = d.reshape(10, 5)\n",
    "d\n",
    "\n"
   ]
  },
  {
   "cell_type": "markdown",
   "metadata": {},
   "source": [
    "1.7 Add random Gaussian noise to `d`, centered in zero and with a standard deviation of 0.1, call this new array `e`\n",
    "\n",
    "```\n",
    "array([[ 5.04262614,  5.12836023,  4.92075733,  5.18776641,  5.06115612],\n",
    "       [ 5.86840848,  6.11296072,  6.0949343 ,  6.00592642,  6.18533571],\n",
    "       [ 7.00722348,  7.04011868,  6.92968581,  7.01195513,  7.10590961],\n",
    "       [ 8.10696374,  7.92359695,  7.86031293,  8.14372865,  8.0750552 ],\n",
    "       [ 8.97658066,  8.99923218,  9.17782159,  8.95226642,  9.11942008],\n",
    "       [10.18134311,  9.96613087, 10.05406139,  9.92902838, 10.05815602],\n",
    "       [11.01557062, 11.13126809, 11.121203  , 10.87895468, 11.07878569],\n",
    "       [12.08773031, 12.10942016, 11.79747914, 11.88001042, 11.96105573],\n",
    "       [13.00080684, 13.06190414, 12.97716722, 13.06700925, 12.97499967],\n",
    "       [13.97815112, 14.06921442, 14.09094489, 13.87273029, 14.00924989]])\n",
    "```\n",
    "   Hint: look up the built-in function `np.random.normal` to create the noise matrix, then add it to `d` to create `e`."
   ]
  },
  {
   "cell_type": "code",
   "execution_count": 336,
   "metadata": {},
   "outputs": [
    {
     "data": {
      "text/plain": [
       "array([[ 5.00054815,  4.83035921,  4.8081066 ,  4.96274914,  4.84861319],\n",
       "       [ 6.00054815,  5.83035921,  5.8081066 ,  5.96274914,  5.84861319],\n",
       "       [ 7.00054815,  6.83035921,  6.8081066 ,  6.96274914,  6.84861319],\n",
       "       [ 8.00054815,  7.83035921,  7.8081066 ,  7.96274914,  7.84861319],\n",
       "       [ 9.00054815,  8.83035921,  8.8081066 ,  8.96274914,  8.84861319],\n",
       "       [10.00054815,  9.83035921,  9.8081066 ,  9.96274914,  9.84861319],\n",
       "       [11.00054815, 10.83035921, 10.8081066 , 10.96274914, 10.84861319],\n",
       "       [12.00054815, 11.83035921, 11.8081066 , 11.96274914, 11.84861319],\n",
       "       [13.00054815, 12.83035921, 12.8081066 , 12.96274914, 12.84861319],\n",
       "       [14.00054815, 13.83035921, 13.8081066 , 13.96274914, 13.84861319]])"
      ]
     },
     "execution_count": 336,
     "metadata": {},
     "output_type": "execute_result"
    }
   ],
   "source": [
    "e = d + np.random.normal(0, 0.1, 5)\n",
    "e"
   ]
  },
  {
   "cell_type": "markdown",
   "metadata": {},
   "source": [
    "### Problem 2\n",
    "\n",
    "Practice plotting with `matplotlib`:"
   ]
  },
  {
   "cell_type": "code",
   "execution_count": 244,
   "metadata": {},
   "outputs": [],
   "source": [
    "import matplotlib.pyplot as plt"
   ]
  },
  {
   "cell_type": "markdown",
   "metadata": {},
   "source": [
    "2.1 Use `plt.imshow()` to display the array `a` as an image, does it look like a checkerboard?\n",
    "\n",
    "![chekerboard](./assets/2.1.png)"
   ]
  },
  {
   "cell_type": "code",
   "execution_count": 240,
   "metadata": {},
   "outputs": [
    {
     "data": {
      "text/plain": [
       "<matplotlib.image.AxesImage at 0x1e307680780>"
      ]
     },
     "execution_count": 240,
     "metadata": {},
     "output_type": "execute_result"
    },
    {
     "data": {
      "image/png": "[encoded data removed]",
      "text/plain": [
       "<Figure size 432x288 with 1 Axes>"
      ]
     },
     "metadata": {
      "needs_background": "light"
     },
     "output_type": "display_data"
    }
   ],
   "source": [
    "plt.imshow(a)"
   ]
  },
  {
   "cell_type": "markdown",
   "metadata": {},
   "source": [
    "2.2 display c, d and e using the same function, change the colormap to grayscale\n",
    "\n",
    "Hint: loop up the imshow function to find out how to change the colormap.\n",
    "\n",
    "For c:\n",
    "\n",
    "![c](./assets/2.2.c.png)\n",
    "\n",
    "For d:\n",
    "\n",
    "![d](./assets/2.2.d.png)\n",
    "\n",
    "For e:\n",
    "\n",
    "![e](./assets/2.2.e.png)"
   ]
  },
  {
   "cell_type": "code",
   "execution_count": 262,
   "metadata": {},
   "outputs": [
    {
     "data": {
      "text/plain": [
       "<matplotlib.image.AxesImage at 0x1e308c4eb00>"
      ]
     },
     "execution_count": 262,
     "metadata": {},
     "output_type": "execute_result"
    },
    {
     "data": {
      "image/png": "[encoded data removed]",
      "text/plain": [
       "<Figure size 432x288 with 1 Axes>"
      ]
     },
     "metadata": {
      "needs_background": "light"
     },
     "output_type": "display_data"
    }
   ],
   "source": [
    "plt.imshow(c, cmap='Greys')"
   ]
  },
  {
   "cell_type": "code",
   "execution_count": 263,
   "metadata": {},
   "outputs": [
    {
     "data": {
      "text/plain": [
       "<matplotlib.image.AxesImage at 0x1e308ca0fd0>"
      ]
     },
     "execution_count": 263,
     "metadata": {},
     "output_type": "execute_result"
    },
    {
     "data": {
      "image/png": "[encoded data removed]",
      "text/plain": [
       "<Figure size 432x288 with 1 Axes>"
      ]
     },
     "metadata": {
      "needs_background": "light"
     },
     "output_type": "display_data"
    }
   ],
   "source": [
    "plt.imshow(d, cmap='Greys')"
   ]
  },
  {
   "cell_type": "code",
   "execution_count": 337,
   "metadata": {},
   "outputs": [
    {
     "data": {
      "text/plain": [
       "<matplotlib.image.AxesImage at 0x1e30ab1b518>"
      ]
     },
     "execution_count": 337,
     "metadata": {},
     "output_type": "execute_result"
    },
    {
     "data": {
      "image/png": "[encoded data removed]",
      "text/plain": [
       "<Figure size 432x288 with 1 Axes>"
      ]
     },
     "metadata": {
      "needs_background": "light"
     },
     "output_type": "display_data"
    }
   ],
   "source": [
    "plt.imshow(e, cmap='Greys')"
   ]
  }
 ],
 "metadata": {
  "kernelspec": {
   "display_name": "Python 3",
   "language": "python",
   "name": "python3"
  },
  "language_info": {
   "codemirror_mode": {
    "name": "ipython",
    "version": 3
   },
   "file_extension": ".py",
   "mimetype": "text/x-python",
   "name": "python",
   "nbconvert_exporter": "python",
   "pygments_lexer": "ipython3",
   "version": "3.7.3"
  }
 },
 "nbformat": 4,
 "nbformat_minor": 2
}
