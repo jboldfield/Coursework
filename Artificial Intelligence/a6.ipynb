{
 "cells": [
  {
   "cell_type": "markdown",
   "metadata": {},
   "source": [
    "# CS 4820\n",
    "# Assignment 6: Can AI read our mind?\n",
    "\n",
    "# Due: 2:00pm October 16, 2019"
   ]
  },
  {
   "cell_type": "markdown",
   "metadata": {},
   "source": [
    "Recently, in one of the elementary schools in China, an interesting question on the entrance exam for the 1st graders says:\n",
    "\n",
    "    Given that 1111=0,3388= 4,1289=3,9090=4,2256=1, what is 1868?\n",
    "\n",
    "Many kids figured it out after realizing that the trick is simply to count the number of “circles” among the digits on the left hand side of the equation (e.g., there is no circle in 1111, 4 circles in 3388, 3 circles in 1289, etc.). Therefore, the answer is 1868=5. However, such pattern/rule is truly arbitrary and is only implicitly specified in our mind. A different rule would lead to a completely different result. \n",
    "\n",
    "In this assignment, students will build an Artificial Neural Network to work on this question. They will go through the whole deep learning development cycle from creating the training and testing data sets, to building a deep neural network using Keras, training it and testing it, and to experimenting with various architectures of the neural net, choosing different combinations of activation functions, cost functions, and optimizers. Ultimately, based on their experiments, students would draw their conclusion to the question “can AI read our mind?”"
   ]
  },
  {
   "cell_type": "markdown",
   "metadata": {},
   "source": [
    "### Prepare training and testing data"
   ]
  },
  {
   "cell_type": "code",
   "execution_count": 1,
   "metadata": {},
   "outputs": [],
   "source": [
    "# Import all necessary modules in addition to numpy\n",
    "import numpy as np\n",
    "\n",
    "# your code here ...\n",
    "# allow multiple outputs be displayed for each cell\n",
    "from IPython.core.interactiveshell import InteractiveShell\n",
    "InteractiveShell.ast_node_interactivity = \"all\"\n",
    "import itertools\n",
    "import matplotlib.pyplot as plt\n",
    "from tensorflow.keras.utils import to_categorical\n",
    "from sklearn.preprocessing import OneHotEncoder\n",
    "from sklearn.model_selection import train_test_split\n",
    "from tensorflow.keras.models import Sequential\n",
    "from tensorflow.keras.layers import Dense\n",
    "from tensorflow.keras.optimizers import Adam\n",
    "from sklearn.metrics import classification_report\n",
    "from sklearn.metrics import accuracy_score, confusion_matrix\n",
    "import matplotlib.pyplot as plt"
   ]
  },
  {
   "cell_type": "code",
   "execution_count": 3,
   "metadata": {},
   "outputs": [
    {
     "name": "stderr",
     "output_type": "stream",
     "text": [
      "C:\\Users\\joldf\\Anaconda3\\envs\\CS4820\\lib\\site-packages\\sklearn\\preprocessing\\_encoders.py:371: FutureWarning: The handling of integer data will change in version 0.22. Currently, the categories are determined based on the range [0, max(values)], while in the future they will be determined based on the unique values.\n",
      "If you want the future behaviour and silence this warning, you can specify \"categories='auto'\".\n",
      "In case you used a LabelEncoder before this OneHotEncoder to convert the categories to integers, then you can now use the OneHotEncoder directly.\n",
      "  warnings.warn(msg, FutureWarning)\n",
      "C:\\Users\\joldf\\Anaconda3\\envs\\CS4820\\lib\\site-packages\\sklearn\\preprocessing\\_encoders.py:392: DeprecationWarning: The 'categorical_features' keyword is deprecated in version 0.20 and will be removed in 0.22. You can use the ColumnTransformer instead.\n",
      "  \"use the ColumnTransformer instead.\", DeprecationWarning)\n"
     ]
    },
    {
     "data": {
      "text/plain": [
       "(8000, 40)"
      ]
     },
     "execution_count": 3,
     "metadata": {},
     "output_type": "execute_result"
    },
    {
     "data": {
      "text/plain": [
       "(8000, 9)"
      ]
     },
     "execution_count": 3,
     "metadata": {},
     "output_type": "execute_result"
    }
   ],
   "source": [
    "# Create 10,000 data\n",
    "\n",
    "# Let's begin with creating two empty numpy arrays\n",
    "training_data = np.empty(shape=[0, 4])\n",
    "target_data = np.empty(shape=[0, 1])\n",
    "\n",
    "# Use nested for loops to populate these two numpty arrays with pairs of data.\n",
    "# Each pair is a four-digit number and a target value satisfying the hidden rule \n",
    "# that you've discovered between these digits.\n",
    "\n",
    "# You should find the np.vstack() function handy.\n",
    "# your code here ...\n",
    "for n in itertools.product(range(10), repeat=4):\n",
    "    count = 0\n",
    "    training_data = np.vstack((training_data, n))\n",
    "    for char in n:\n",
    "        if char == 0:\n",
    "            count += 1\n",
    "        if char == 6:\n",
    "            count += 1\n",
    "        if char == 8:\n",
    "            count += 2\n",
    "        if char == 9:\n",
    "            count += 1\n",
    "    target_data = np.vstack((target_data, count))\n",
    "\n",
    "# Split the data into training and testing data sets\n",
    "# Also, convert the target sets into one-hot encoded categorical values\n",
    "\n",
    "# your code here ...\n",
    "onehotencoder = OneHotEncoder(categorical_features = [0, 1, 2, 3])\n",
    "X_cat = onehotencoder.fit_transform(training_data).toarray()\n",
    "#X_cat = to_categorical(training_data, num_classes=3)\n",
    "y_cat = to_categorical(target_data)\n",
    "\n",
    "X_train, X_test, y_train, y_test = train_test_split(X_cat, y_cat, test_size = 0.2, random_state = 0)\n",
    "X_train.shape\n",
    "y_train.shape"
   ]
  },
  {
   "cell_type": "markdown",
   "metadata": {},
   "source": [
    "### Build and train the model"
   ]
  },
  {
   "cell_type": "code",
   "execution_count": 4,
   "metadata": {
    "scrolled": true
   },
   "outputs": [
    {
     "name": "stdout",
     "output_type": "stream",
     "text": [
      "Train on 7200 samples, validate on 800 samples\n",
      "Epoch 1/30\n",
      "7200/7200 - 5s - loss: 1.6611 - accuracy: 0.3951 - val_loss: 1.2775 - val_accuracy: 0.5450\n",
      "Epoch 2/30\n",
      "7200/7200 - 3s - loss: 1.0740 - accuracy: 0.6599 - val_loss: 0.8966 - val_accuracy: 0.7725\n",
      "Epoch 3/30\n",
      "7200/7200 - 4s - loss: 0.7859 - accuracy: 0.8176 - val_loss: 0.6884 - val_accuracy: 0.8313\n",
      "Epoch 4/30\n",
      "7200/7200 - 4s - loss: 0.6154 - accuracy: 0.8289 - val_loss: 0.5471 - val_accuracy: 0.8313\n",
      "Epoch 5/30\n",
      "7200/7200 - 3s - loss: 0.4996 - accuracy: 0.8289 - val_loss: 0.4487 - val_accuracy: 0.8313\n",
      "Epoch 6/30\n",
      "7200/7200 - 3s - loss: 0.4064 - accuracy: 0.8550 - val_loss: 0.3538 - val_accuracy: 0.9575\n",
      "Epoch 7/30\n",
      "7200/7200 - 3s - loss: 0.3153 - accuracy: 0.9589 - val_loss: 0.2670 - val_accuracy: 0.9575\n",
      "Epoch 8/30\n",
      "7200/7200 - 3s - loss: 0.2402 - accuracy: 0.9589 - val_loss: 0.2050 - val_accuracy: 0.9575\n",
      "Epoch 9/30\n",
      "7200/7200 - 4s - loss: 0.1886 - accuracy: 0.9589 - val_loss: 0.1629 - val_accuracy: 0.9575\n",
      "Epoch 10/30\n",
      "7200/7200 - 4s - loss: 0.1520 - accuracy: 0.9781 - val_loss: 0.1327 - val_accuracy: 0.9950\n",
      "Epoch 11/30\n",
      "7200/7200 - 3s - loss: 0.1245 - accuracy: 0.9906 - val_loss: 0.1098 - val_accuracy: 0.9950\n",
      "Epoch 12/30\n",
      "7200/7200 - 3s - loss: 0.1033 - accuracy: 0.9906 - val_loss: 0.0923 - val_accuracy: 0.9950\n",
      "Epoch 13/30\n",
      "7200/7200 - 4s - loss: 0.0868 - accuracy: 0.9906 - val_loss: 0.0784 - val_accuracy: 0.9950\n",
      "Epoch 14/30\n",
      "7200/7200 - 3s - loss: 0.0742 - accuracy: 0.9906 - val_loss: 0.0693 - val_accuracy: 0.9950\n",
      "Epoch 15/30\n",
      "7200/7200 - 3s - loss: 0.0644 - accuracy: 0.9906 - val_loss: 0.0621 - val_accuracy: 0.9950\n",
      "Epoch 16/30\n",
      "7200/7200 - 3s - loss: 0.0568 - accuracy: 0.9906 - val_loss: 0.0569 - val_accuracy: 0.9950\n",
      "Epoch 17/30\n",
      "7200/7200 - 3s - loss: 0.0508 - accuracy: 0.9906 - val_loss: 0.0527 - val_accuracy: 0.9950\n",
      "Epoch 18/30\n",
      "7200/7200 - 3s - loss: 0.0461 - accuracy: 0.9906 - val_loss: 0.0497 - val_accuracy: 0.9950\n",
      "Epoch 19/30\n",
      "7200/7200 - 3s - loss: 0.0424 - accuracy: 0.9906 - val_loss: 0.0470 - val_accuracy: 0.9950\n",
      "Epoch 20/30\n",
      "7200/7200 - 3s - loss: 0.0394 - accuracy: 0.9906 - val_loss: 0.0446 - val_accuracy: 0.9950\n",
      "Epoch 21/30\n",
      "7200/7200 - 3s - loss: 0.0370 - accuracy: 0.9906 - val_loss: 0.0443 - val_accuracy: 0.9950\n",
      "Epoch 22/30\n",
      "7200/7200 - 3s - loss: 0.0350 - accuracy: 0.9906 - val_loss: 0.0427 - val_accuracy: 0.9950\n",
      "Epoch 23/30\n",
      "7200/7200 - 3s - loss: 0.0334 - accuracy: 0.9906 - val_loss: 0.0413 - val_accuracy: 0.9950\n",
      "Epoch 24/30\n",
      "7200/7200 - 3s - loss: 0.0322 - accuracy: 0.9906 - val_loss: 0.0408 - val_accuracy: 0.9950\n",
      "Epoch 25/30\n",
      "7200/7200 - 3s - loss: 0.0311 - accuracy: 0.9906 - val_loss: 0.0403 - val_accuracy: 0.9950\n",
      "Epoch 26/30\n",
      "7200/7200 - 3s - loss: 0.0302 - accuracy: 0.9906 - val_loss: 0.0400 - val_accuracy: 0.9950\n",
      "Epoch 27/30\n",
      "7200/7200 - 3s - loss: 0.0295 - accuracy: 0.9906 - val_loss: 0.0392 - val_accuracy: 0.9950\n",
      "Epoch 28/30\n",
      "7200/7200 - 4s - loss: 0.0289 - accuracy: 0.9906 - val_loss: 0.0395 - val_accuracy: 0.9950\n",
      "Epoch 29/30\n",
      "7200/7200 - 4s - loss: 0.0284 - accuracy: 0.9906 - val_loss: 0.0391 - val_accuracy: 0.9950\n",
      "Epoch 30/30\n",
      "7200/7200 - 4s - loss: 0.0281 - accuracy: 0.9906 - val_loss: 0.0385 - val_accuracy: 0.9950\n"
     ]
    },
    {
     "data": {
      "text/plain": [
       "[<matplotlib.lines.Line2D at 0x1f08a418548>]"
      ]
     },
     "execution_count": 4,
     "metadata": {},
     "output_type": "execute_result"
    },
    {
     "data": {
      "text/plain": [
       "[<matplotlib.lines.Line2D at 0x1f08888bc48>]"
      ]
     },
     "execution_count": 4,
     "metadata": {},
     "output_type": "execute_result"
    },
    {
     "data": {
      "text/plain": [
       "Text(0.5, 1.0, 'Model Accuracy')"
      ]
     },
     "execution_count": 4,
     "metadata": {},
     "output_type": "execute_result"
    },
    {
     "data": {
      "text/plain": [
       "Text(0, 0.5, 'Accuracy')"
      ]
     },
     "execution_count": 4,
     "metadata": {},
     "output_type": "execute_result"
    },
    {
     "data": {
      "text/plain": [
       "Text(0.5, 0, 'Epoch')"
      ]
     },
     "execution_count": 4,
     "metadata": {},
     "output_type": "execute_result"
    },
    {
     "data": {
      "text/plain": [
       "<matplotlib.legend.Legend at 0x1f08a6774c8>"
      ]
     },
     "execution_count": 4,
     "metadata": {},
     "output_type": "execute_result"
    },
    {
     "data": {
      "image/png": "[encoded data removed]",
      "text/plain": [
       "<Figure size 432x288 with 1 Axes>"
      ]
     },
     "metadata": {
      "needs_background": "light"
     },
     "output_type": "display_data"
    }
   ],
   "source": [
    "# Build a deep neural net to solve this multi-class classification problem\n",
    "# Refer to the tutorials and notes that you had from previous classes as your clarifications and examples\n",
    "\n",
    "# your code here ...\n",
    "model = Sequential()\n",
    "model.add(Dense(3, input_dim = 40, activation = 'tanh'))\n",
    "model.add(Dense(units = 9, kernel_initializer = 'uniform', activation = 'softmax'))\n",
    "model.compile(optimizer = 'Adam',\n",
    "              loss='categorical_crossentropy',\n",
    "              metrics=['accuracy'])\n",
    "# Train your neural net\n",
    "\n",
    "# your code here ...\n",
    "history = model.fit(np.asarray(X_train), y_train, validation_split=0.1, batch_size = 5, epochs = 30, verbose=2)\n",
    "\n",
    "# Plot out the training history for accurary using matplotlib\n",
    "\n",
    "# your code here ...\n",
    "plt.plot(history.history['accuracy'])\n",
    "plt.plot(history.history['val_accuracy'])\n",
    "plt.title('Model Accuracy')\n",
    "plt.ylabel('Accuracy')\n",
    "plt.xlabel('Epoch')\n",
    "plt.legend(['train', 'val'], loc='upper left')"
   ]
  },
  {
   "cell_type": "markdown",
   "metadata": {},
   "source": [
    "### Test the model\n",
    "\n",
    "- Test your model with one or two specific test cases to manually verify the correctness of the prediction\n",
    "- Test your model with the entire testing dataset to obtain the overall accuracy, f1 scores, confusion matrix, etc."
   ]
  },
  {
   "cell_type": "code",
   "execution_count": 47,
   "metadata": {},
   "outputs": [
    {
     "name": "stdout",
     "output_type": "stream",
     "text": [
      "              precision    recall  f1-score   support\n",
      "\n",
      "           0       0.00      0.00      0.00         0\n",
      "           1       0.00      0.00      0.00         0\n",
      "           2       1.00      1.00      1.00         1\n",
      "           3       0.00      0.00      0.00         0\n",
      "           4       0.00      0.00      0.00         0\n",
      "           5       0.00      0.00      0.00         0\n",
      "           6       0.00      0.00      0.00         1\n",
      "           7       0.00      0.00      0.00         0\n",
      "           8       0.00      0.00      0.00         0\n",
      "\n",
      "   micro avg       0.50      0.50      0.50         2\n",
      "   macro avg       0.11      0.11      0.11         2\n",
      "weighted avg       0.50      0.50      0.50         2\n",
      " samples avg       0.50      0.50      0.50         2\n",
      "\n"
     ]
    },
    {
     "name": "stderr",
     "output_type": "stream",
     "text": [
      "C:\\Users\\joldf\\Anaconda3\\envs\\CS4820\\lib\\site-packages\\sklearn\\metrics\\classification.py:1143: UndefinedMetricWarning: Precision and F-score are ill-defined and being set to 0.0 in labels with no predicted samples.\n",
      "  'precision', 'predicted', average, warn_for)\n",
      "C:\\Users\\joldf\\Anaconda3\\envs\\CS4820\\lib\\site-packages\\sklearn\\metrics\\classification.py:1145: UndefinedMetricWarning: Recall and F-score are ill-defined and being set to 0.0 in labels with no true samples.\n",
      "  'recall', 'true', average, warn_for)\n"
     ]
    }
   ],
   "source": [
    "# Test your neural net and report the results\n",
    "\n",
    "# your code here ...\n",
    "y_pred = model.predict(X_test[:2])\n",
    "y_pred = (y_pred > 0.5)\n",
    "\n",
    "print(classification_report(y_test[:2], y_pred))"
   ]
  },
  {
   "cell_type": "code",
   "execution_count": 48,
   "metadata": {},
   "outputs": [
    {
     "name": "stdout",
     "output_type": "stream",
     "text": [
      "              precision    recall  f1-score   support\n",
      "\n",
      "           0       1.00      1.00      1.00       259\n",
      "           1       1.00      1.00      1.00       534\n",
      "           2       1.00      1.00      1.00       535\n",
      "           3       1.00      1.00      1.00       393\n",
      "           4       1.00      1.00      1.00       194\n",
      "           5       0.78      1.00      0.87        66\n",
      "           6       0.00      0.00      0.00        18\n",
      "           7       0.00      0.00      0.00         1\n",
      "\n",
      "   micro avg       0.99      0.99      0.99      2000\n",
      "   macro avg       0.72      0.75      0.73      2000\n",
      "weighted avg       0.98      0.99      0.99      2000\n",
      "\n"
     ]
    },
    {
     "data": {
      "image/png": "[encoded data removed]",
      "text/plain": [
       "<Figure size 432x288 with 1 Axes>"
      ]
     },
     "metadata": {
      "needs_background": "light"
     },
     "output_type": "display_data"
    }
   ],
   "source": [
    "y_pred = model.predict(X_test)\n",
    "y_pred = (y_pred > 0.5)\n",
    "\n",
    "y_test_class = np.argmax(y_test, axis=1)\n",
    "y_pred_class = np.argmax(y_pred, axis=1)\n",
    "print(classification_report(y_test_class, y_pred_class))\n",
    "\n",
    "cm = confusion_matrix(y_test_class, y_pred_class)\n",
    "plt.imshow(cm, cmap='Blues');"
   ]
  },
  {
   "cell_type": "code",
   "execution_count": 59,
   "metadata": {},
   "outputs": [
    {
     "name": "stdout",
     "output_type": "stream",
     "text": [
      "Test accuracy for our ANN model: 100.0 %\n"
     ]
    }
   ],
   "source": [
    "print('Test accuracy for our ANN model:', \\\n",
    "      round(accuracy_score(y_test_class, y_pred_class)*100, 2),'%')"
   ]
  },
  {
   "cell_type": "markdown",
   "metadata": {},
   "source": [
    "### Improve the model"
   ]
  },
  {
   "cell_type": "markdown",
   "metadata": {},
   "source": [
    "Try to improve your model by exprimenting in a variety of ways:\n",
    "\n",
    "- different number of layers\n",
    "- different number of neurons in each layer\n",
    "- other activation functions\n",
    "- other loss functions\n",
    "- other optimizers\n",
    "\n",
    "Compare and report your results."
   ]
  },
  {
   "cell_type": "code",
   "execution_count": 50,
   "metadata": {},
   "outputs": [
    {
     "name": "stdout",
     "output_type": "stream",
     "text": [
      "Train on 7200 samples, validate on 800 samples\n",
      "Epoch 1/25\n",
      "7200/7200 - 1s - loss: 1.2673 - accuracy: 0.5121 - val_loss: 0.4697 - val_accuracy: 0.9513\n",
      "Epoch 2/25\n",
      "7200/7200 - 1s - loss: 0.2401 - accuracy: 0.9585 - val_loss: 0.1295 - val_accuracy: 0.9575\n",
      "Epoch 3/25\n",
      "7200/7200 - 1s - loss: 0.0723 - accuracy: 0.9875 - val_loss: 0.0625 - val_accuracy: 0.9950\n",
      "Epoch 4/25\n",
      "7200/7200 - 1s - loss: 0.0389 - accuracy: 0.9906 - val_loss: 0.0502 - val_accuracy: 0.9950\n",
      "Epoch 5/25\n",
      "7200/7200 - 1s - loss: 0.0176 - accuracy: 0.9967 - val_loss: 0.0396 - val_accuracy: 0.9987\n",
      "Epoch 6/25\n",
      "7200/7200 - 1s - loss: 0.0082 - accuracy: 0.9985 - val_loss: 0.0383 - val_accuracy: 0.9987\n",
      "Epoch 7/25\n",
      "7200/7200 - 1s - loss: 0.0053 - accuracy: 0.9985 - val_loss: 0.0396 - val_accuracy: 0.9987\n",
      "Epoch 8/25\n",
      "7200/7200 - 1s - loss: 0.0048 - accuracy: 0.9985 - val_loss: 0.0394 - val_accuracy: 0.9987\n",
      "Epoch 9/25\n",
      "7200/7200 - 1s - loss: 0.0043 - accuracy: 0.9985 - val_loss: 0.0386 - val_accuracy: 0.9987\n",
      "Epoch 10/25\n",
      "7200/7200 - 1s - loss: 0.0040 - accuracy: 0.9985 - val_loss: 0.0373 - val_accuracy: 0.9987\n",
      "Epoch 11/25\n",
      "7200/7200 - 1s - loss: 0.0032 - accuracy: 0.9986 - val_loss: 0.0358 - val_accuracy: 0.9987\n",
      "Epoch 12/25\n",
      "7200/7200 - 1s - loss: 0.0012 - accuracy: 0.9996 - val_loss: 0.0399 - val_accuracy: 0.9987\n",
      "Epoch 13/25\n",
      "7200/7200 - 1s - loss: 3.1045e-04 - accuracy: 1.0000 - val_loss: 0.0456 - val_accuracy: 0.9987\n",
      "Epoch 14/25\n",
      "7200/7200 - 1s - loss: 1.0272e-04 - accuracy: 1.0000 - val_loss: 0.0507 - val_accuracy: 0.9987\n",
      "Epoch 15/25\n",
      "7200/7200 - 1s - loss: 3.9762e-05 - accuracy: 1.0000 - val_loss: 0.0542 - val_accuracy: 0.9987\n",
      "Epoch 16/25\n",
      "7200/7200 - 1s - loss: 1.7786e-05 - accuracy: 1.0000 - val_loss: 0.0587 - val_accuracy: 0.9987\n",
      "Epoch 17/25\n",
      "7200/7200 - 1s - loss: 6.9064e-06 - accuracy: 1.0000 - val_loss: 0.0631 - val_accuracy: 0.9987\n",
      "Epoch 18/25\n",
      "7200/7200 - 1s - loss: 2.9086e-06 - accuracy: 1.0000 - val_loss: 0.0670 - val_accuracy: 0.9987\n",
      "Epoch 19/25\n",
      "7200/7200 - 1s - loss: 1.3249e-06 - accuracy: 1.0000 - val_loss: 0.0707 - val_accuracy: 0.9987\n",
      "Epoch 20/25\n",
      "7200/7200 - 1s - loss: 6.3051e-07 - accuracy: 1.0000 - val_loss: 0.0859 - val_accuracy: 0.9987\n",
      "Epoch 21/25\n",
      "7200/7200 - 1s - loss: 4.3928e-05 - accuracy: 1.0000 - val_loss: 0.1041 - val_accuracy: 0.9987\n",
      "Epoch 22/25\n",
      "7200/7200 - 1s - loss: 2.4307e-07 - accuracy: 1.0000 - val_loss: 0.1070 - val_accuracy: 0.9987\n",
      "Epoch 23/25\n",
      "7200/7200 - 1s - loss: 1.3807e-07 - accuracy: 1.0000 - val_loss: 0.1101 - val_accuracy: 0.9987\n",
      "Epoch 24/25\n",
      "7200/7200 - 1s - loss: 8.6029e-08 - accuracy: 1.0000 - val_loss: 0.1130 - val_accuracy: 0.9987\n",
      "Epoch 25/25\n",
      "7200/7200 - 1s - loss: 4.6657e-08 - accuracy: 1.0000 - val_loss: 0.1156 - val_accuracy: 0.9987\n"
     ]
    },
    {
     "data": {
      "text/plain": [
       "<tensorflow.python.keras.callbacks.History at 0x160ebc2db48>"
      ]
     },
     "execution_count": 50,
     "metadata": {},
     "output_type": "execute_result"
    }
   ],
   "source": [
    "# your code here ...\n",
    "model2 = Sequential()\n",
    "model2.add(Dense(18, input_dim = 40, activation = 'relu'))\n",
    "model2.add(Dense(units = 12, kernel_initializer = 'uniform', activation = 'relu'))\n",
    "model2.add(Dense(units = 9, kernel_initializer = 'uniform', activation = 'softmax'))\n",
    "model2.compile(optimizer = 'Adam',\n",
    "              loss='categorical_crossentropy',\n",
    "              metrics=['accuracy'])\n",
    "\n",
    "model2.fit(X_train, y_train, validation_split=0.1, batch_size = 5, epochs = 25, verbose=2)"
   ]
  },
  {
   "cell_type": "code",
   "execution_count": 51,
   "metadata": {},
   "outputs": [
    {
     "name": "stdout",
     "output_type": "stream",
     "text": [
      "              precision    recall  f1-score   support\n",
      "\n",
      "           0       1.00      1.00      1.00       259\n",
      "           1       1.00      1.00      1.00       534\n",
      "           2       1.00      1.00      1.00       535\n",
      "           3       1.00      1.00      1.00       393\n",
      "           4       1.00      1.00      1.00       194\n",
      "           5       1.00      1.00      1.00        66\n",
      "           6       1.00      1.00      1.00        18\n",
      "           7       1.00      1.00      1.00         1\n",
      "\n",
      "   micro avg       1.00      1.00      1.00      2000\n",
      "   macro avg       1.00      1.00      1.00      2000\n",
      "weighted avg       1.00      1.00      1.00      2000\n",
      "\n"
     ]
    },
    {
     "data": {
      "text/plain": [
       "<matplotlib.image.AxesImage at 0x160edd2e148>"
      ]
     },
     "execution_count": 51,
     "metadata": {},
     "output_type": "execute_result"
    },
    {
     "name": "stdout",
     "output_type": "stream",
     "text": [
      "Test accuracy for our ANN model: 100.0 %\n"
     ]
    },
    {
     "data": {
      "image/png": "[encoded data removed]",
      "text/plain": [
       "<Figure size 432x288 with 1 Axes>"
      ]
     },
     "metadata": {
      "needs_background": "light"
     },
     "output_type": "display_data"
    }
   ],
   "source": [
    "y_pred = model2.predict(X_test)\n",
    "y_pred = (y_pred > 0.5)\n",
    "\n",
    "y_test_class = np.argmax(y_test, axis=1)\n",
    "y_pred_class = np.argmax(y_pred, axis=1)\n",
    "print(classification_report(y_test_class, y_pred_class))\n",
    "\n",
    "cm = confusion_matrix(y_test_class, y_pred_class)\n",
    "plt.imshow(cm, cmap='Blues');\n",
    "print('Test accuracy for our ANN model:', \\\n",
    "      round(accuracy_score(y_test_class, y_pred_class)*100, 2),'%')"
   ]
  },
  {
   "cell_type": "markdown",
   "metadata": {},
   "source": [
    "### Conclusion\n",
    "\n",
    "So, what is your conclusion to the question \"can AI read our mind\"?"
   ]
  },
  {
   "cell_type": "markdown",
   "metadata": {},
   "source": [
    "### your conclusions here ...\n",
    "Given enough data I think AI is capable of \"reading our minds\".  With 8000 sets of data it was able to reconize an unspecified rule and give very accurate results. "
   ]
  }
 ],
 "metadata": {
  "kernelspec": {
   "display_name": "Python 3",
   "language": "python",
   "name": "python3"
  },
  "language_info": {
   "codemirror_mode": {
    "name": "ipython",
    "version": 3
   },
   "file_extension": ".py",
   "mimetype": "text/x-python",
   "name": "python",
   "nbconvert_exporter": "python",
   "pygments_lexer": "ipython3",
   "version": "3.7.4"
  }
 },
 "nbformat": 4,
 "nbformat_minor": 2
}
