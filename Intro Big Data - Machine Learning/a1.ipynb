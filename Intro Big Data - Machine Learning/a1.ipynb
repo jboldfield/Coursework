{
  "nbformat": 4,
  "nbformat_minor": 0,
  "metadata": {
    "colab": {
      "name": "a1.ipynb",
      "version": "0.3.2",
      "provenance": [],
      "collapsed_sections": []
    },
    "kernelspec": {
      "name": "python3",
      "display_name": "Python 3"
    }
  },
  "cells": [
    {
      "cell_type": "markdown",
      "metadata": {
        "id": "1QJzsSihfVTc",
        "colab_type": "text"
      },
      "source": [
        "#Problem 1 - Linear Systems\n",
        "\n"
      ]
    },
    {
      "cell_type": "code",
      "metadata": {
        "id": "WCAh0hK5fcuB",
        "colab_type": "code",
        "colab": {
          "base_uri": "https://localhost:8080/",
          "height": 185
        },
        "outputId": "9ae2ea83-efed-47fe-8224-bf22d6b218e3"
      },
      "source": [
        "import numpy as np\n",
        "import matplotlib.pyplot as plt\n",
        "\n",
        "print(\"System 1:\")\n",
        "a1 = np.array([[5, -3, 2], [2, 4, -1], [1, -11, 4]])\n",
        "b1 = np.array([3, 7, 3])\n",
        "try:\n",
        "  print('\\t', np.linalg.solve(a1, b1))\n",
        "except:\n",
        "  print(\"\\tNo Solution\")\n",
        "\n",
        "print(\"System 2:\")\n",
        "a2 = np.array([[1, 0, 4], [4, -2, 1], [2, -2, -7]])\n",
        "b2 = np.array([13, 7, -19])\n",
        "try:\n",
        "  print('\\t', np.linalg.solve(a2, b2))\n",
        "except:\n",
        "  print(\"\\tNo Solution\")\n",
        "  \n",
        "print(\"System 3:\")\n",
        "a3 = np.array([[-2, 1], [1, 1]])\n",
        "b3 = np.array([3, -3])\n",
        "try:\n",
        "  print('\\t', np.linalg.solve(a3, b3))\n",
        "except:\n",
        "  print(\"\\tNo Solution\")\n",
        "  \n",
        "print(\"System 4:\")\n",
        "a4 = np.array([[10, -7, 0], [-3, 2, -6], [5, 1, 5]])\n",
        "b4 = np.array([7, 4, -19])\n",
        "try:\n",
        "  print('\\t', np.linalg.solve(a4, b4))\n",
        "except:\n",
        "  print(\"\\tNo Solution\")\n",
        "  \n",
        "print(\"System 5:\")\n",
        "a5 = np.array([[1, 4, -1, 1], [2, 7, 1, -2], [1, 4, -1, 2], [3, -10, -2, 5]])\n",
        "b5 = np.array([2, 16, -15, -15])\n",
        "try:\n",
        "  print('\\t', np.linalg.solve(a5, b5))\n",
        "except:\n",
        "  print(\"\\tNo Solution\")"
      ],
      "execution_count": 8,
      "outputs": [
        {
          "output_type": "stream",
          "text": [
            "System 1:\n",
            "\tNo Solution\n",
            "System 2:\n",
            "\tNo Solution\n",
            "System 3:\n",
            "\t [-2. -1.]\n",
            "System 4:\n",
            "\t [-2.06037736 -3.94339623 -0.9509434 ]\n",
            "System 5:\n",
            "\t [  5.69230769  -1.46153846 -19.15384615 -17.        ]\n"
          ],
          "name": "stdout"
        }
      ]
    },
    {
      "cell_type": "markdown",
      "metadata": {
        "id": "8YylrcU73zeq",
        "colab_type": "text"
      },
      "source": [
        "#Problem 2 - Curve Fitting"
      ]
    },
    {
      "cell_type": "code",
      "metadata": {
        "id": "yJCeiF7n32NR",
        "colab_type": "code",
        "outputId": "0ee5afe5-0fa3-4551-a596-1b85af3d55c7",
        "colab": {
          "base_uri": "https://localhost:8080/",
          "height": 284
        }
      },
      "source": [
        "import numpy as np\n",
        "import matplotlib.pyplot as plt\n",
        "\n",
        "x = np.array([[-0.5, -0.2, 0.5, 0.75, 1]]).T\n",
        "y = np.array([7.625, 9.3632, 9.625, 8.7578, 8])\n",
        "\n",
        "f = lambda w, x: w[0] + w[1]*x + w[2]*(x**2) + w[3]*(x**3) + w[4]*(x**4)\n",
        "\n",
        "# sample 100 equally spaced values between -2 and 2\n",
        "dom = np.linspace(-2, 2, 100)\n",
        "\n",
        "A = np.power(x, [0, 1, 2, 3, 4])\n",
        "#print(A)\n",
        "# x = (A**-1)b\n",
        "coefs = np.matmul(np.linalg.inv(A), y)\n",
        "\n",
        "vals = f(coefs, dom)\n",
        "\n",
        "# plot\n",
        "fig, ax = plt.subplots(1,1)\n",
        "# tick params\n",
        "ax.tick_params(axis=\"y\",direction=\"in\")\n",
        "ax.tick_params(axis=\"x\",direction=\"in\")\n",
        "ax.tick_params(axis='both', which='major', pad=5)\n",
        "# spine params\n",
        "ax.spines['top'].set_visible(False)\n",
        "ax.spines['right'].set_visible(False)\n",
        "\n",
        "plt.margins(x=0)\n",
        "ax.plot(x, y, 'oy', linewidth=.5, fillstyle='none')\n",
        "ax.plot(dom, vals,'-b', linewidth=.5)\n",
        "ax.set_ylim(bottom=2, top=22)\n",
        "plt.yticks(range(2,23,2))\n",
        "\n",
        "\n",
        "print(\"Problem 2:\")"
      ],
      "execution_count": 10,
      "outputs": [
        {
          "output_type": "stream",
          "text": [
            "Problem 2:\n"
          ],
          "name": "stdout"
        },
        {
          "output_type": "display_data",
          "data": {
            "image/png": "[encoded data removed]",
            "text/plain": [
              "<Figure size 432x288 with 1 Axes>"
            ]
          },
          "metadata": {
            "tags": []
          }
        }
      ]
    },
    {
      "cell_type": "markdown",
      "metadata": {
        "id": "CxsG4ITW5WhU",
        "colab_type": "text"
      },
      "source": [
        "#Problem 3 - Curve Fitting"
      ]
    },
    {
      "cell_type": "code",
      "metadata": {
        "id": "6UBeYSKr5eS1",
        "colab_type": "code",
        "outputId": "6a3c199f-ea7f-4961-cd4a-d82ba55aeb1a",
        "colab": {
          "base_uri": "https://localhost:8080/",
          "height": 312
        }
      },
      "source": [
        "import numpy as np\n",
        "import matplotlib.pyplot as plt\n",
        "\n",
        "# this defines the family of cubics\n",
        "f = lambda w, x: w[0] + w[1]*x + w[2]*(x**2) + w[3]*(x**3)\n",
        "\n",
        "# sample 20 equally spaced values between -2 and 2\n",
        "dom = np.linspace(-2, 2, 20)\n",
        "w = np.random.randn(4)\n",
        "\n",
        "# generate noisy data points, as values of a particular cubic + noise\n",
        "val = f(w, dom) + np.random.randn(20)/2\n",
        "\n",
        "# generate ground truth smaples for visulization only\n",
        "val_truth  = f(w, dom)\n",
        "\n",
        "#print(dom[np.newaxis].T)\n",
        "\n",
        "# get A\n",
        "A = np.power(dom[np.newaxis].T, [0, 1, 2, 3])\n",
        "#print(A)\n",
        "\n",
        "# approximate solution using least squares function\n",
        "res = np.linalg.lstsq(A, val, rcond=None)[0]\n",
        "\n",
        "# generate model guess\n",
        "val_guess = f(res, dom)\n",
        "\n",
        "# plot\n",
        "fig, ax = plt.subplots(1, 1)\n",
        "ax.plot(dom, val, 'bx')\n",
        "ax.plot(dom, val_truth, '-g')\n",
        "ax.plot(dom, val_guess, 'r')\n",
        "ax.legend(('Noisey samples', 'Ground truth', 'Learned Model'))\n",
        "ax.set_xlabel('x')\n",
        "ax.set_ylabel('y')\n",
        "ax.set_title('Noisy samples and ground truth function')\n",
        "\n",
        "print('Problem 3:')"
      ],
      "execution_count": 0,
      "outputs": [
        {
          "output_type": "stream",
          "text": [
            "Problem 3:\n"
          ],
          "name": "stdout"
        },
        {
          "output_type": "display_data",
          "data": {
            "image/png": "[encoded data removed]",
            "text/plain": [
              "<Figure size 432x288 with 1 Axes>"
            ]
          },
          "metadata": {
            "tags": []
          }
        }
      ]
    }
  ]
}